{
 "cells": [
  {
   "cell_type": "code",
   "execution_count": 163,
   "id": "38d85e42",
   "metadata": {},
   "outputs": [],
   "source": [
    "import numpy as np, sympy as sp\n",
    "from IPython.display import display, Math\n",
    "def pprint(x):\n",
    "    display(Math(sp.latex(x)))"
   ]
  },
  {
   "cell_type": "code",
   "execution_count": 2,
   "id": "b85fadc9",
   "metadata": {},
   "outputs": [],
   "source": [
    "theta, r = sp.symbols('theta r')"
   ]
  },
  {
   "cell_type": "markdown",
   "id": "458207ff",
   "metadata": {},
   "source": [
    "# solution with constant C"
   ]
  },
  {
   "cell_type": "code",
   "execution_count": 3,
   "id": "707de00e",
   "metadata": {},
   "outputs": [],
   "source": [
    "#P0 = (2/3rho0vc^2)\n",
    "F = sp.Function('F')(theta)\n",
    "C = sp.symbols('C')\n",
    "f_P   = (3/4)*sp.integrate(2*F**2*sp.sin(theta)*sp.cos(theta),theta)+C\n",
    "f_rho = 7/3*f_P + sp.sin(theta)**2*F**2\n",
    "f_T   = f_P - f_rho\n",
    "f_K   = f_P - 5/3*f_rho"
   ]
  },
  {
   "cell_type": "code",
   "execution_count": 4,
   "id": "aca96fcd",
   "metadata": {},
   "outputs": [],
   "source": [
    "l = 0.5\n",
    "f_vr = f_rho-(1+l)*f_T+2*f_K"
   ]
  },
  {
   "cell_type": "code",
   "execution_count": 5,
   "id": "7daf3455",
   "metadata": {},
   "outputs": [],
   "source": [
    "tmp = 2*(f_rho+f_vr)\n",
    "D = sp.symbols('D')\n",
    "f_vtheta = sp.sin(theta)**-1 * (sp.integrate(sp.sin(theta)*tmp,theta)+D)"
   ]
  },
  {
   "cell_type": "code",
   "execution_count": 6,
   "id": "b127c00c",
   "metadata": {},
   "outputs": [],
   "source": [
    "x = sp.cos(theta)\n",
    "L0 = 1\n",
    "L2 = 0.5   * (3*x**2-1)\n",
    "L4 = 0.125 * (35*x**4-30*x**2+3)\n",
    "f_L2,f_L4 = sp.symbols('f_L2 f_L4')"
   ]
  },
  {
   "cell_type": "markdown",
   "id": "ee216e87",
   "metadata": {},
   "source": [
    "## solution for F=1 (0th Legendre polynomial)"
   ]
  },
  {
   "cell_type": "code",
   "execution_count": 178,
   "id": "43f7e9df",
   "metadata": {},
   "outputs": [
    {
     "name": "stdout",
     "output_type": "stream",
     "text": [
      "1.0*D\n"
     ]
    }
   ],
   "source": [
    "F_expr = L0#+f_L2*L2#+f_L4*L4\n",
    "#verify D=0\n",
    "print(sp.simplify(f_vtheta.subs(F,F_expr).subs(theta,sp.pi/2)))\n",
    "f_vtheta_D0 = f_vtheta.subs(D,0)"
   ]
  },
  {
   "cell_type": "code",
   "execution_count": 179,
   "id": "f5c73f7d",
   "metadata": {},
   "outputs": [
    {
     "data": {
      "text/latex": [
       "$\\displaystyle - 16.0 C - 4.0$"
      ],
      "text/plain": [
       "<IPython.core.display.Math object>"
      ]
     },
     "metadata": {},
     "output_type": "display_data"
    }
   ],
   "source": [
    "f_vtheta_F1 = sp.simplify(f_vtheta_D0.subs(F,F_expr))\n",
    "expr = (f_vtheta_F1*sp.sin(theta)).subs(theta,0)\n",
    "#verify = coefficient of C is 16/9\n",
    "pprint(9*expr)\n",
    "C_res= -(expr/(-16/9)-C)"
   ]
  },
  {
   "cell_type": "code",
   "execution_count": 180,
   "id": "b26fb92c",
   "metadata": {},
   "outputs": [
    {
     "data": {
      "text/latex": [
       "$\\displaystyle f_{P}=0.75 \\sin^{2}{\\left(\\theta \\right)} - 0.625$"
      ],
      "text/plain": [
       "<IPython.core.display.Math object>"
      ]
     },
     "metadata": {},
     "output_type": "display_data"
    },
    {
     "data": {
      "text/latex": [
       "$\\displaystyle f_{rho}=2.75 \\sin^{2}{\\left(\\theta \\right)} - 1.45833333333333$"
      ],
      "text/plain": [
       "<IPython.core.display.Math object>"
      ]
     },
     "metadata": {},
     "output_type": "display_data"
    },
    {
     "data": {
      "text/latex": [
       "$\\displaystyle f_{T}=0.833333333333333 - 2.0 \\sin^{2}{\\left(\\theta \\right)}$"
      ],
      "text/plain": [
       "<IPython.core.display.Math object>"
      ]
     },
     "metadata": {},
     "output_type": "display_data"
    },
    {
     "data": {
      "text/latex": [
       "$\\displaystyle f_{vr}=0.902777777777778 - 1.91666666666667 \\sin^{2}{\\left(\\theta \\right)}$"
      ],
      "text/plain": [
       "<IPython.core.display.Math object>"
      ]
     },
     "metadata": {},
     "output_type": "display_data"
    },
    {
     "data": {
      "text/latex": [
       "$\\displaystyle f_{vtheta}=\\frac{0.138888888888889 \\left(- \\cos{\\left(\\theta \\right)} + \\cos{\\left(3 \\theta \\right)}\\right)}{\\sin{\\left(\\theta \\right)}}$"
      ],
      "text/plain": [
       "<IPython.core.display.Math object>"
      ]
     },
     "metadata": {},
     "output_type": "display_data"
    }
   ],
   "source": [
    "for f in f_P,f_rho,f_T,f_vr,f_vtheta_D0:\n",
    "    xx = [k for k, v in locals().items() if v == f][0]\n",
    "    xxx = xx.split('_')[0] + '_{%s}'%(xx.split('_')[1])\n",
    "    display(Math(r'%s='%xxx + sp.latex(sp.trigsimp(sp.simplify(f.subs(F,F_expr).subs(C,C_res))))))\n"
   ]
  },
  {
   "cell_type": "markdown",
   "id": "e24bde61",
   "metadata": {},
   "source": [
    "## solution for F=sin^n(theta)"
   ]
  },
  {
   "cell_type": "code",
   "execution_count": 231,
   "id": "63794018",
   "metadata": {
    "scrolled": false
   },
   "outputs": [
    {
     "name": "stdout",
     "output_type": "stream",
     "text": [
      "======n=0\n"
     ]
    },
    {
     "data": {
      "text/latex": [
       "$\\displaystyle F(\\theta)=1$"
      ],
      "text/plain": [
       "<IPython.core.display.Math object>"
      ]
     },
     "metadata": {},
     "output_type": "display_data"
    },
    {
     "data": {
      "text/latex": [
       "$\\displaystyle f_{P}=0.75 \\sin^{2}{\\left(\\theta \\right)} - 0.625,\\ \\ \\frac{3}{4},\\ \\ - \\frac{5}{8}$"
      ],
      "text/plain": [
       "<IPython.core.display.Math object>"
      ]
     },
     "metadata": {},
     "output_type": "display_data"
    },
    {
     "data": {
      "text/latex": [
       "$\\displaystyle f_{rho}=2.75 \\sin^{2}{\\left(\\theta \\right)} - 1.45833333333333,\\ \\ \\frac{11}{4},\\ \\ - \\frac{35}{24}$"
      ],
      "text/plain": [
       "<IPython.core.display.Math object>"
      ]
     },
     "metadata": {},
     "output_type": "display_data"
    },
    {
     "data": {
      "text/latex": [
       "$\\displaystyle f_{T}=0.833333333333333 - 2.0 \\sin^{2}{\\left(\\theta \\right)},\\ \\ -2,\\ \\ \\frac{5}{6}$"
      ],
      "text/plain": [
       "<IPython.core.display.Math object>"
      ]
     },
     "metadata": {},
     "output_type": "display_data"
    },
    {
     "data": {
      "text/latex": [
       "$\\displaystyle f_{vr}=0.902777777777778 - 1.91666666666667 \\sin^{2}{\\left(\\theta \\right)},\\ \\ - \\frac{23}{12},\\ \\ \\frac{65}{72}$"
      ],
      "text/plain": [
       "<IPython.core.display.Math object>"
      ]
     },
     "metadata": {},
     "output_type": "display_data"
    },
    {
     "name": "stdout",
     "output_type": "stream",
     "text": [
      "======n=1\n"
     ]
    },
    {
     "data": {
      "text/latex": [
       "$\\displaystyle F(\\theta)=\\sin{\\left(\\theta \\right)}$"
      ],
      "text/plain": [
       "<IPython.core.display.Math object>"
      ]
     },
     "metadata": {},
     "output_type": "display_data"
    },
    {
     "data": {
      "text/latex": [
       "$\\displaystyle f_{P}=0.375 \\sin^{4}{\\left(\\theta \\right)} - 0.3,\\ \\ \\frac{3}{8},\\ \\ - \\frac{3}{10}$"
      ],
      "text/plain": [
       "<IPython.core.display.Math object>"
      ]
     },
     "metadata": {},
     "output_type": "display_data"
    },
    {
     "data": {
      "text/latex": [
       "$\\displaystyle f_{rho}=1.875 \\sin^{4}{\\left(\\theta \\right)} - 0.7,\\ \\ \\frac{15}{8},\\ \\ - \\frac{7}{10}$"
      ],
      "text/plain": [
       "<IPython.core.display.Math object>"
      ]
     },
     "metadata": {},
     "output_type": "display_data"
    },
    {
     "data": {
      "text/latex": [
       "$\\displaystyle f_{T}=0.4 - 1.5 \\sin^{4}{\\left(\\theta \\right)},\\ \\ - \\frac{3}{2},\\ \\ \\frac{2}{5}$"
      ],
      "text/plain": [
       "<IPython.core.display.Math object>"
      ]
     },
     "metadata": {},
     "output_type": "display_data"
    },
    {
     "data": {
      "text/latex": [
       "$\\displaystyle f_{vr}=0.433333333333333 - 1.375 \\sin^{4}{\\left(\\theta \\right)},\\ \\ - \\frac{11}{8},\\ \\ \\frac{13}{30}$"
      ],
      "text/plain": [
       "<IPython.core.display.Math object>"
      ]
     },
     "metadata": {},
     "output_type": "display_data"
    },
    {
     "name": "stdout",
     "output_type": "stream",
     "text": [
      "======n=2\n"
     ]
    },
    {
     "data": {
      "text/latex": [
       "$\\displaystyle F(\\theta)=\\sin^{2}{\\left(\\theta \\right)}$"
      ],
      "text/plain": [
       "<IPython.core.display.Math object>"
      ]
     },
     "metadata": {},
     "output_type": "display_data"
    },
    {
     "data": {
      "text/latex": [
       "$\\displaystyle f_{P}=0.25 \\sin^{6}{\\left(\\theta \\right)} - 0.2,\\ \\ \\frac{1}{4},\\ \\ - \\frac{1}{5}$"
      ],
      "text/plain": [
       "<IPython.core.display.Math object>"
      ]
     },
     "metadata": {},
     "output_type": "display_data"
    },
    {
     "data": {
      "text/latex": [
       "$\\displaystyle f_{rho}=1.58333333333333 \\sin^{6}{\\left(\\theta \\right)} - 0.466666666666667,\\ \\ \\frac{19}{12},\\ \\ - \\frac{7}{15}$"
      ],
      "text/plain": [
       "<IPython.core.display.Math object>"
      ]
     },
     "metadata": {},
     "output_type": "display_data"
    },
    {
     "data": {
      "text/latex": [
       "$\\displaystyle f_{T}=0.266666666666667 - 1.33333333333333 \\sin^{6}{\\left(\\theta \\right)},\\ \\ - \\frac{4}{3},\\ \\ \\frac{4}{15}$"
      ],
      "text/plain": [
       "<IPython.core.display.Math object>"
      ]
     },
     "metadata": {},
     "output_type": "display_data"
    },
    {
     "data": {
      "text/latex": [
       "$\\displaystyle f_{vr}=0.288888888888889 - 1.19444444444444 \\sin^{6}{\\left(\\theta \\right)},\\ \\ - \\frac{43}{36},\\ \\ \\frac{13}{45}$"
      ],
      "text/plain": [
       "<IPython.core.display.Math object>"
      ]
     },
     "metadata": {},
     "output_type": "display_data"
    },
    {
     "name": "stdout",
     "output_type": "stream",
     "text": [
      "======n=3\n"
     ]
    },
    {
     "data": {
      "text/latex": [
       "$\\displaystyle F(\\theta)=\\sin^{3}{\\left(\\theta \\right)}$"
      ],
      "text/plain": [
       "<IPython.core.display.Math object>"
      ]
     },
     "metadata": {},
     "output_type": "display_data"
    },
    {
     "data": {
      "text/latex": [
       "$\\displaystyle f_{P}=0.1875 \\sin^{8}{\\left(\\theta \\right)} - 0.152380952380952,\\ \\ \\frac{3}{16},\\ \\ - \\frac{16}{105}$"
      ],
      "text/plain": [
       "<IPython.core.display.Math object>"
      ]
     },
     "metadata": {},
     "output_type": "display_data"
    },
    {
     "data": {
      "text/latex": [
       "$\\displaystyle f_{rho}=1.4375 \\sin^{8}{\\left(\\theta \\right)} - 0.355555555555555,\\ \\ \\frac{23}{16},\\ \\ - \\frac{16}{45}$"
      ],
      "text/plain": [
       "<IPython.core.display.Math object>"
      ]
     },
     "metadata": {},
     "output_type": "display_data"
    },
    {
     "data": {
      "text/latex": [
       "$\\displaystyle f_{T}=0.203174603174603 - 1.25 \\sin^{8}{\\left(\\theta \\right)},\\ \\ - \\frac{5}{4},\\ \\ \\frac{64}{315}$"
      ],
      "text/plain": [
       "<IPython.core.display.Math object>"
      ]
     },
     "metadata": {},
     "output_type": "display_data"
    },
    {
     "data": {
      "text/latex": [
       "$\\displaystyle f_{vr}=0.22010582010582 - 1.10416666666667 \\sin^{8}{\\left(\\theta \\right)},\\ \\ - \\frac{53}{48},\\ \\ \\frac{208}{945}$"
      ],
      "text/plain": [
       "<IPython.core.display.Math object>"
      ]
     },
     "metadata": {},
     "output_type": "display_data"
    },
    {
     "name": "stdout",
     "output_type": "stream",
     "text": [
      "======n=4\n"
     ]
    },
    {
     "data": {
      "text/latex": [
       "$\\displaystyle F(\\theta)=\\sin^{4}{\\left(\\theta \\right)}$"
      ],
      "text/plain": [
       "<IPython.core.display.Math object>"
      ]
     },
     "metadata": {},
     "output_type": "display_data"
    },
    {
     "data": {
      "text/latex": [
       "$\\displaystyle f_{P}=0.15 \\sin^{10}{\\left(\\theta \\right)} - 0.124675324675325,\\ \\ \\frac{3}{20},\\ \\ - \\frac{48}{385}$"
      ],
      "text/plain": [
       "<IPython.core.display.Math object>"
      ]
     },
     "metadata": {},
     "output_type": "display_data"
    },
    {
     "data": {
      "text/latex": [
       "$\\displaystyle f_{T}=0.166233766233766 - 1.2 \\sin^{10}{\\left(\\theta \\right)},\\ \\ - \\frac{6}{5},\\ \\ \\frac{64}{385}$"
      ],
      "text/plain": [
       "<IPython.core.display.Math object>"
      ]
     },
     "metadata": {},
     "output_type": "display_data"
    },
    {
     "name": "stdout",
     "output_type": "stream",
     "text": [
      "======n=5\n"
     ]
    },
    {
     "data": {
      "text/latex": [
       "$\\displaystyle F(\\theta)=\\sin^{5}{\\left(\\theta \\right)}$"
      ],
      "text/plain": [
       "<IPython.core.display.Math object>"
      ]
     },
     "metadata": {},
     "output_type": "display_data"
    },
    {
     "data": {
      "text/latex": [
       "$\\displaystyle f_{P}=0.125 \\sin^{12}{\\left(\\theta \\right)} - 0.106560106560107,\\ \\ \\frac{1}{8},\\ \\ - \\frac{320}{3003}$"
      ],
      "text/plain": [
       "<IPython.core.display.Math object>"
      ]
     },
     "metadata": {},
     "output_type": "display_data"
    },
    {
     "data": {
      "text/latex": [
       "$\\displaystyle f_{T}=0.142080142080142 - 1.16666666666667 \\sin^{12}{\\left(\\theta \\right)},\\ \\ - \\frac{7}{6},\\ \\ \\frac{1280}{9009}$"
      ],
      "text/plain": [
       "<IPython.core.display.Math object>"
      ]
     },
     "metadata": {},
     "output_type": "display_data"
    },
    {
     "name": "stdout",
     "output_type": "stream",
     "text": [
      "======n=6\n"
     ]
    },
    {
     "data": {
      "text/latex": [
       "$\\displaystyle F(\\theta)=\\sin^{6}{\\left(\\theta \\right)}$"
      ],
      "text/plain": [
       "<IPython.core.display.Math object>"
      ]
     },
     "metadata": {},
     "output_type": "display_data"
    },
    {
     "data": {
      "text/latex": [
       "$\\displaystyle f_{P}=0.107142857142857 \\sin^{14}{\\left(\\theta \\right)} - 0.0937728937728936,\\ \\ \\frac{3}{28},\\ \\ - \\frac{128}{1365}$"
      ],
      "text/plain": [
       "<IPython.core.display.Math object>"
      ]
     },
     "metadata": {},
     "output_type": "display_data"
    },
    {
     "data": {
      "text/latex": [
       "$\\displaystyle f_{T}=0.125030525030525 - 1.14285714285714 \\sin^{14}{\\left(\\theta \\right)},\\ \\ - \\frac{8}{7},\\ \\ \\frac{125030524929}{999999999188}$"
      ],
      "text/plain": [
       "<IPython.core.display.Math object>"
      ]
     },
     "metadata": {},
     "output_type": "display_data"
    },
    {
     "name": "stdout",
     "output_type": "stream",
     "text": [
      "======n=7\n"
     ]
    },
    {
     "data": {
      "text/latex": [
       "$\\displaystyle F(\\theta)=\\sin^{7}{\\left(\\theta \\right)}$"
      ],
      "text/plain": [
       "<IPython.core.display.Math object>"
      ]
     },
     "metadata": {},
     "output_type": "display_data"
    },
    {
     "data": {
      "text/latex": [
       "$\\displaystyle f_{P}=0.09375 \\sin^{16}{\\left(\\theta \\right)} - 0.0842451665981069,\\ \\ \\frac{3}{32},\\ \\ - \\frac{55957155355}{664217991543}$"
      ],
      "text/plain": [
       "<IPython.core.display.Math object>"
      ]
     },
     "metadata": {},
     "output_type": "display_data"
    },
    {
     "data": {
      "text/latex": [
       "$\\displaystyle f_{T}=0.112326888797476 - 1.125 \\sin^{16}{\\left(\\theta \\right)},\\ \\ - \\frac{9}{8},\\ \\ \\frac{86304095712}{768329797397}$"
      ],
      "text/plain": [
       "<IPython.core.display.Math object>"
      ]
     },
     "metadata": {},
     "output_type": "display_data"
    },
    {
     "name": "stdout",
     "output_type": "stream",
     "text": [
      "======n=8\n"
     ]
    },
    {
     "data": {
      "text/latex": [
       "$\\displaystyle F(\\theta)=\\sin^{8}{\\left(\\theta \\right)}$"
      ],
      "text/plain": [
       "<IPython.core.display.Math object>"
      ]
     },
     "metadata": {},
     "output_type": "display_data"
    },
    {
     "data": {
      "text/latex": [
       "$\\displaystyle f_{P}=0.0833333333333333 \\sin^{18}{\\left(\\theta \\right)} - 0.0768552397035362,\\ \\ \\frac{1}{12},\\ \\ - \\frac{21916779803}{285169623926}$"
      ],
      "text/plain": [
       "<IPython.core.display.Math object>"
      ]
     },
     "metadata": {},
     "output_type": "display_data"
    },
    {
     "data": {
      "text/latex": [
       "$\\displaystyle f_{T}=0.102473652938048 - 1.11111111111111 \\sin^{18}{\\left(\\theta \\right)},\\ \\ - \\frac{10}{9},\\ \\ \\frac{26026407805}{253981458246}$"
      ],
      "text/plain": [
       "<IPython.core.display.Math object>"
      ]
     },
     "metadata": {},
     "output_type": "display_data"
    },
    {
     "name": "stdout",
     "output_type": "stream",
     "text": [
      "======n=9\n"
     ]
    },
    {
     "data": {
      "text/latex": [
       "$\\displaystyle F(\\theta)=\\sin^{9}{\\left(\\theta \\right)}$"
      ],
      "text/plain": [
       "<IPython.core.display.Math object>"
      ]
     },
     "metadata": {},
     "output_type": "display_data"
    },
    {
     "data": {
      "text/latex": [
       "$\\displaystyle f_{P}=0.075 \\sin^{20}{\\left(\\theta \\right)} - 0.0709432981878785,\\ \\ \\frac{3}{40},\\ \\ - \\frac{70424648459}{992689235740}$"
      ],
      "text/plain": [
       "<IPython.core.display.Math object>"
      ]
     },
     "metadata": {},
     "output_type": "display_data"
    },
    {
     "data": {
      "text/latex": [
       "$\\displaystyle f_{T}=0.0945910642505046 - 1.1 \\sin^{20}{\\left(\\theta \\right)},\\ \\ - \\frac{11}{10},\\ \\ \\frac{37724113267}{398812652822}$"
      ],
      "text/plain": [
       "<IPython.core.display.Math object>"
      ]
     },
     "metadata": {},
     "output_type": "display_data"
    }
   ],
   "source": [
    "for n_val in range(0,10):\n",
    "    print('======n=%d'%n_val)\n",
    "    F_expr = sp.sin(theta)**n_val#2/3*L0-2/3*L2#+f_L4*L4\n",
    "    display(Math(r'F(\\theta)=' + sp.latex((F_expr))))\n",
    "    f_vtheta_F1 = sp.simplify(f_vtheta_D0.subs(F,F_expr))\n",
    "    #calculate C\n",
    "    expr = (f_vtheta_F1*sp.sin(theta)).subs(theta,0)\n",
    "    C_res= -(expr/(-16/9)-C)\n",
    "    ##verify  coefficient of C is 16/9\n",
    "    ##pprint(9*expr)    #should be -16C term    \n",
    "    ##verify D=0\n",
    "    ##pprint(sp.simplify(f_vtheta.subs(F,F_expr).subs(theta,sp.pi/2))) #should only be 1D term\n",
    "    f_vtheta_D0 = f_vtheta.subs(D,0)\n",
    "    for f in (f_P,f_rho,f_T,f_vr,f_vtheta_D0)[:-1]:\n",
    "        if n_val>3 and f in (f_rho,f_vr): continue\n",
    "        new_expr = sp.trigsimp(sp.simplify(f.subs(F,F_expr).subs(C,C_res)))\n",
    "        xx = [k for k, v in locals().items() if v == f][0]\n",
    "        xxx = xx.split('_')[0] + '_{%s}'%(xx.split('_')[1])\n",
    "        display(Math(\n",
    "        r'%s='%xxx + sp.latex(new_expr)+',\\ \\ '+\n",
    "                     sp.latex(sp.Rational(new_expr.args[1].args[0]).limit_denominator(10**12))+',\\ \\ '+\n",
    "                     sp.latex(sp.Rational(new_expr.args[0]).limit_denominator(10**12))\n",
    "        ))"
   ]
  },
  {
   "cell_type": "markdown",
   "id": "d587a5df",
   "metadata": {},
   "source": [
    "# solution for C dependent on r and F=1"
   ]
  },
  {
   "cell_type": "code",
   "execution_count": 117,
   "id": "defbb8c1",
   "metadata": {},
   "outputs": [],
   "source": [
    "C = sp.Function('C')(r)\n",
    "D = sp.Function('D')(r)\n",
    "f_P   = (3/4)*sp.integrate(2*sp.sin(theta)*sp.cos(theta),theta)+C\n",
    "f_rho = 7/3*f_P + sp.sin(theta)**2 - 2/3*sp.diff(C,r)\n",
    "f_T   = f_P - f_rho\n",
    "f_K   = f_P - 5/3*f_rho"
   ]
  },
  {
   "cell_type": "code",
   "execution_count": 136,
   "id": "3c6b03e6",
   "metadata": {},
   "outputs": [
    {
     "data": {
      "text/latex": [
       "$\\displaystyle C + 0.75 \\sin^{2}{\\left(\\theta \\right)}$"
      ],
      "text/plain": [
       "C + 0.75*sin(theta)**2"
      ]
     },
     "execution_count": 136,
     "metadata": {},
     "output_type": "execute_result"
    }
   ],
   "source": []
  },
  {
   "cell_type": "code",
   "execution_count": 118,
   "id": "c4f5d17a",
   "metadata": {},
   "outputs": [],
   "source": [
    "f_vr = f_rho-(1+l)*f_T+(2-sp.diff(f_K,r))*f_K"
   ]
  },
  {
   "cell_type": "code",
   "execution_count": 121,
   "id": "6c15e9da",
   "metadata": {},
   "outputs": [
    {
     "name": "stdout",
     "output_type": "stream",
     "text": [
      "D(r)\n"
     ]
    }
   ],
   "source": [
    "tmp = 2*(f_rho+f_vr) - sp.diff(f_rho,r) - sp.diff(f_vr,r)\n",
    "f_vtheta = sp.sin(theta)**-1 * (sp.integrate(tmp*sp.sin(theta),theta)+D)\n",
    "#verify D=0\n",
    "print(sp.simplify(f_vtheta.subs(F,F_expr).subs(theta,sp.pi/2)))\n",
    "f_vtheta_D0 = f_vtheta.subs(D,0)"
   ]
  },
  {
   "cell_type": "code",
   "execution_count": 124,
   "id": "c5ad1d78",
   "metadata": {},
   "outputs": [
    {
     "data": {
      "text/latex": [
       "$\\displaystyle 16.6913580246914 C{\\left(r \\right)} \\frac{d}{d r} C{\\left(r \\right)} - 14.7654320987654 C{\\left(r \\right)} \\frac{d^{2}}{d r^{2}} C{\\left(r \\right)} + 3.20987654320988 C{\\left(r \\right)} \\frac{d^{3}}{d r^{3}} C{\\left(r \\right)} - 1.77777777777778 C{\\left(r \\right)} - 14.7654320987654 \\left(\\frac{d}{d r} C{\\left(r \\right)}\\right)^{2} + 12.0987654320988 \\frac{d}{d r} C{\\left(r \\right)} \\frac{d^{2}}{d r^{2}} C{\\left(r \\right)} - 1.23456790123457 \\frac{d}{d r} C{\\left(r \\right)} \\frac{d^{3}}{d r^{3}} C{\\left(r \\right)} + 15.8765432098765 \\frac{d}{d r} C{\\left(r \\right)} - 1.23456790123457 \\left(\\frac{d^{2}}{d r^{2}} C{\\left(r \\right)}\\right)^{2} - 13.1728395061728 \\frac{d^{2}}{d r^{2}} C{\\left(r \\right)} + 2.83950617283951 \\frac{d^{3}}{d r^{3}} C{\\left(r \\right)} - 1.11111111111111$"
      ],
      "text/plain": [
       "16.6913580246914*C(r)*Derivative(C(r), r) - 14.7654320987654*C(r)*Derivative(C(r), (r, 2)) + 3.20987654320988*C(r)*Derivative(C(r), (r, 3)) - 1.77777777777778*C(r) - 14.7654320987654*Derivative(C(r), r)**2 + 12.0987654320988*Derivative(C(r), r)*Derivative(C(r), (r, 2)) - 1.23456790123457*Derivative(C(r), r)*Derivative(C(r), (r, 3)) + 15.8765432098765*Derivative(C(r), r) - 1.23456790123457*Derivative(C(r), (r, 2))**2 - 13.1728395061728*Derivative(C(r), (r, 2)) + 2.83950617283951*Derivative(C(r), (r, 3)) - 1.11111111111111"
      ]
     },
     "execution_count": 124,
     "metadata": {},
     "output_type": "execute_result"
    }
   ],
   "source": [
    "#expression for C\n",
    "sp.cancel(sp.simplify((f_vtheta_D0*sp.sin(theta)).subs(theta,0)))"
   ]
  },
  {
   "cell_type": "code",
   "execution_count": 142,
   "id": "d78dba38",
   "metadata": {},
   "outputs": [
    {
     "data": {
      "text/latex": [
       "$\\displaystyle - 4.44089209850063 \\cdot 10^{-16} C + 0.75 \\sin^{2}{\\left(\\theta \\right)} - 0.624999999999999$"
      ],
      "text/plain": [
       "-4.44089209850063e-16*C + 0.75*sin(theta)**2 - 0.624999999999999"
      ]
     },
     "execution_count": 142,
     "metadata": {},
     "output_type": "execute_result"
    }
   ],
   "source": [
    "#verify for C=constant we get previous result\n",
    "Cstar = sp.symbols('C')\n",
    "expr = sp.cancel(sp.simplify((f_vtheta_D0*sp.sin(theta)).subs(theta,0).subs(C,Cstar)))\n",
    "C_res= -(expr/(-16/9)-Cstar)\n",
    "f_P.subs(C,C_res)"
   ]
  },
  {
   "cell_type": "code",
   "execution_count": 96,
   "id": "e43d37a1",
   "metadata": {},
   "outputs": [
    {
     "data": {
      "image/png": "[encoded data removed]",
      "text/latex": [
       "$\\displaystyle 150.222222222222 D^{2} r - 132.888888888889 D^{2} + 150.222222222222 D E - 16.0 D r + 142.888888888889 D - 16.0 E - 9.99999999999998$"
      ],
      "text/plain": [
       "                  2                       2                                                                                   \n",
       "150.222222222222⋅D ⋅r - 132.888888888889⋅D  + 150.222222222222⋅D⋅E - 16.0⋅D⋅r + 142.888888888889⋅D - 16.0⋅E - 9.99999999999998"
      ]
     },
     "execution_count": 96,
     "metadata": {},
     "output_type": "execute_result"
    }
   ],
   "source": [
    "D,E = symbols('D E')\n",
    "sympy.simplify(9*f_vtheta.subs(C(r),D*r+E)).subs(theta,0)"
   ]
  },
  {
   "cell_type": "markdown",
   "id": "00706698",
   "metadata": {},
   "source": [
    "# solutions for non-isothermal profile and F=1 (not done)"
   ]
  },
  {
   "cell_type": "code",
   "execution_count": null,
   "id": "4ef3510a",
   "metadata": {},
   "outputs": [],
   "source": [
    "2.0e6*0.9"
   ]
  },
  {
   "cell_type": "code",
   "execution_count": null,
   "id": "3d3af403",
   "metadata": {},
   "outputs": [],
   "source": [
    "# vc \\propto r^m\n",
    "# nH \\propto r^-1.5+m\n",
    "# mach \\propto r^-0.5-2m\n",
    "# A = 0.9(1-2m)\n",
    "# B = tflow/tcool = 1+(4/3)m\n",
    "# T = 1.8e6 A^-1 vc_200^2\n",
    "# nH = 0.8e-3 r_10^(-1.5+m) vc_200 Mdot_1^0.5Lambda^-0.5_-22"
   ]
  },
  {
   "cell_type": "code",
   "execution_count": 235,
   "id": "0ee4f845",
   "metadata": {},
   "outputs": [
    {
     "data": {
      "image/png": "[encoded data removed]",
      "text/latex": [
       "$\\displaystyle 0.758946638440411$"
      ],
      "text/plain": [
       "0.7589466384404111"
      ]
     },
     "execution_count": 235,
     "metadata": {},
     "output_type": "execute_result"
    }
   ],
   "source": [
    "0.8*(1/0.9)**-0.5"
   ]
  },
  {
   "cell_type": "code",
   "execution_count": 234,
   "id": "37d93b03",
   "metadata": {},
   "outputs": [],
   "source": [
    "#P0 = (2/3rho0vc^2)\n",
    "C = sp.symbols('C')\n",
    "f_P   = (3/4)*sp.integrate(2*sp.sin(theta)*sp.cos(theta),theta)+C\n",
    "f_rho = 7/3*f_P + sp.sin(theta)**2\n",
    "f_T   = f_P - f_rho\n",
    "f_K   = f_P - 5/3*f_rho"
   ]
  },
  {
   "cell_type": "code",
   "execution_count": 4,
   "id": "d4720796",
   "metadata": {},
   "outputs": [],
   "source": [
    "l = 0.5\n",
    "f_vr = f_rho-(1+l)*f_T+2*f_K"
   ]
  },
  {
   "cell_type": "code",
   "execution_count": 5,
   "id": "020279f3",
   "metadata": {},
   "outputs": [],
   "source": [
    "tmp = 2*(f_rho+f_vr)\n",
    "D = sp.symbols('D')\n",
    "f_vtheta = sp.sin(theta)**-1 * (sp.integrate(sp.sin(theta)*tmp,theta)+D)"
   ]
  },
  {
   "cell_type": "code",
   "execution_count": 178,
   "id": "49b88288",
   "metadata": {},
   "outputs": [
    {
     "name": "stdout",
     "output_type": "stream",
     "text": [
      "1.0*D\n"
     ]
    }
   ],
   "source": [
    "F_expr = L0#+f_L2*L2#+f_L4*L4\n",
    "#verify D=0\n",
    "print(sp.simplify(f_vtheta.subs(F,F_expr).subs(theta,sp.pi/2)))\n",
    "f_vtheta_D0 = f_vtheta.subs(D,0)"
   ]
  },
  {
   "cell_type": "code",
   "execution_count": 179,
   "id": "b14098bb",
   "metadata": {},
   "outputs": [
    {
     "data": {
      "text/latex": [
       "$\\displaystyle - 16.0 C - 4.0$"
      ],
      "text/plain": [
       "<IPython.core.display.Math object>"
      ]
     },
     "metadata": {},
     "output_type": "display_data"
    }
   ],
   "source": [
    "f_vtheta_F1 = sp.simplify(f_vtheta_D0.subs(F,F_expr))\n",
    "expr = (f_vtheta_F1*sp.sin(theta)).subs(theta,0)\n",
    "#verify = coefficient of C is 16/9\n",
    "pprint(9*expr)\n",
    "C_res= -(expr/(-16/9)-C)"
   ]
  },
  {
   "cell_type": "code",
   "execution_count": 180,
   "id": "0e1ee6b5",
   "metadata": {},
   "outputs": [
    {
     "data": {
      "text/latex": [
       "$\\displaystyle f_{P}=0.75 \\sin^{2}{\\left(\\theta \\right)} - 0.625$"
      ],
      "text/plain": [
       "<IPython.core.display.Math object>"
      ]
     },
     "metadata": {},
     "output_type": "display_data"
    },
    {
     "data": {
      "text/latex": [
       "$\\displaystyle f_{rho}=2.75 \\sin^{2}{\\left(\\theta \\right)} - 1.45833333333333$"
      ],
      "text/plain": [
       "<IPython.core.display.Math object>"
      ]
     },
     "metadata": {},
     "output_type": "display_data"
    },
    {
     "data": {
      "text/latex": [
       "$\\displaystyle f_{T}=0.833333333333333 - 2.0 \\sin^{2}{\\left(\\theta \\right)}$"
      ],
      "text/plain": [
       "<IPython.core.display.Math object>"
      ]
     },
     "metadata": {},
     "output_type": "display_data"
    },
    {
     "data": {
      "text/latex": [
       "$\\displaystyle f_{vr}=0.902777777777778 - 1.91666666666667 \\sin^{2}{\\left(\\theta \\right)}$"
      ],
      "text/plain": [
       "<IPython.core.display.Math object>"
      ]
     },
     "metadata": {},
     "output_type": "display_data"
    },
    {
     "data": {
      "text/latex": [
       "$\\displaystyle f_{vtheta}=\\frac{0.138888888888889 \\left(- \\cos{\\left(\\theta \\right)} + \\cos{\\left(3 \\theta \\right)}\\right)}{\\sin{\\left(\\theta \\right)}}$"
      ],
      "text/plain": [
       "<IPython.core.display.Math object>"
      ]
     },
     "metadata": {},
     "output_type": "display_data"
    }
   ],
   "source": [
    "for f in f_P,f_rho,f_T,f_vr,f_vtheta_D0:\n",
    "    xx = [k for k, v in locals().items() if v == f][0]\n",
    "    xxx = xx.split('_')[0] + '_{%s}'%(xx.split('_')[1])\n",
    "    display(Math(r'%s='%xxx + sp.latex(sp.trigsimp(sp.simplify(f.subs(F,F_expr).subs(C,C_res))))))\n"
   ]
  },
  {
   "cell_type": "code",
   "execution_count": null,
   "id": "e85d3701",
   "metadata": {},
   "outputs": [],
   "source": []
  }
 ],
 "metadata": {
  "kernelspec": {
   "display_name": "Python 3 (ipykernel)",
   "language": "python",
   "name": "python3"
  },
  "language_info": {
   "codemirror_mode": {
    "name": "ipython",
    "version": 3
   },
   "file_extension": ".py",
   "mimetype": "text/x-python",
   "name": "python",
   "nbconvert_exporter": "python",
   "pygments_lexer": "ipython3",
   "version": "3.9.7"
  }
 },
 "nbformat": 4,
 "nbformat_minor": 5
}
