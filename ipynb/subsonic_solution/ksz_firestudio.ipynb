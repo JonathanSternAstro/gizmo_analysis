{
 "cells": [
  {
   "cell_type": "code",
   "execution_count": 1,
   "id": "8a541f19",
   "metadata": {},
   "outputs": [],
   "source": [
    "import sys\n",
    "# FIRE studio libraries\n",
    "sys.path.append('/mnt/home/jstern/gizmo_analysis/pysrc/')\n",
    "sys.path.append('/mnt/home/jstern/gizmo_analysis/FIRE_studio/')"
   ]
  },
  {
   "cell_type": "code",
   "execution_count": 2,
   "id": "28d847d5-eee5-44c7-bdcb-7da7392a8fed",
   "metadata": {},
   "outputs": [
    {
     "name": "stdout",
     "output_type": "stream",
     "text": [
      "palettable colormaps are not installed\n",
      "don't have phil's colormaps\n"
     ]
    }
   ],
   "source": [
    "# general python libraries\n",
    "import time, importlib, sys\n",
    "from tqdm import tqdm_notebook as tqdm\n",
    "import pylab as pl, numpy as np, glob, pdb, scipy, scipy.stats\n",
    "from numpy import log10 as log\n",
    "import h5py\n",
    "import os\n",
    "import matplotlib\n",
    "import matplotlib.pyplot as plt\n",
    "from mpl_toolkits.axes_grid1 import make_axes_locatable\n",
    "from astropy import constants as cons, units as un\n",
    "import abg_python\n",
    "import firestudio\n",
    "from firestudio.studios.gas_studio import GasStudio\n",
    "#from firestudio.studios.star_studio import StarStudio\n",
    "%matplotlib inline"
   ]
  },
  {
   "cell_type": "code",
   "execution_count": 3,
   "id": "88205149",
   "metadata": {},
   "outputs": [
    {
     "name": "stdout",
     "output_type": "stream",
     "text": [
      "Behroozi+18 not loaded\n"
     ]
    }
   ],
   "source": [
    "import first_pass as fp"
   ]
  },
  {
   "cell_type": "code",
   "execution_count": 4,
   "id": "0658444f",
   "metadata": {},
   "outputs": [],
   "source": [
    "directory = '/mnt/home/jstern/ceph/sim_outputs/good/'\n",
    "MW_simfile = directory+\"../snapshot_071.hdf5\"\n",
    "NGC891_simfile = \"/mnt/home/jstern/Drummond_data/vc200_Rs0_Mdot2069_Rcirc15_fgas02_res1e3/output/snapshot_049.hdf5\"\n",
    "TCMB = 2.726\n"
   ]
  },
  {
   "cell_type": "code",
   "execution_count": 5,
   "id": "991f9a45",
   "metadata": {},
   "outputs": [],
   "source": [
    "class Dummy_sim:\n",
    "    h = 1.\n",
    "sim = Dummy_sim()"
   ]
  },
  {
   "cell_type": "code",
   "execution_count": 6,
   "id": "f2c0a0a3",
   "metadata": {},
   "outputs": [],
   "source": [
    "snapshot_MW = fp.KY_snapshot(MW_simfile,sim,center=np.array([0,0,0]))\n",
    "snapshot = fp.KY_snapshot(NGC891_simfile,sim,center=np.array([0,0,0]))\n"
   ]
  },
  {
   "cell_type": "code",
   "execution_count": 7,
   "id": "8caa6e27",
   "metadata": {},
   "outputs": [
    {
     "name": "stdout",
     "output_type": "stream",
     "text": [
      "loaded PartType0, Coordinates\n",
      "loaded PartType0, Velocities\n",
      "loaded PartType0, SmoothingLength\n",
      "loaded PartType0, Masses\n",
      "loaded PartType0, ElectronAbundance\n"
     ]
    }
   ],
   "source": [
    "datadic = {}\n",
    "datadic['Coordinates'] = np.array([snapshot.coords()[:,0],snapshot.coords()[:,2],snapshot.coords()[:,1]]).T\n",
    "datadic['BoxSize']=60000\n",
    "v_los = snapshot.vs()[:,1] #un.km/un.s\n",
    "datadic[\"SmoothingLength\"] = snapshot.dic[('PartType%d'%0,'SmoothingLength')]\n",
    "_SZ_mass = snapshot.masses() * snapshot.ne2nHs()"
   ]
  },
  {
   "cell_type": "code",
   "execution_count": 8,
   "id": "435e7d21-7758-4c0f-aa87-49161dcce2b4",
   "metadata": {
    "scrolled": true
   },
   "outputs": [],
   "source": [
    "r_max   = 90\n",
    "Npixels = 60\n",
    "z_width = 50\n",
    "filedir=directory\n",
    "projection_output_filename=directory"
   ]
  },
  {
   "cell_type": "code",
   "execution_count": 9,
   "id": "0aa1b6b2",
   "metadata": {},
   "outputs": [
    {
     "name": "stdout",
     "output_type": "stream",
     "text": [
      "extra kwargs:\n",
      " ['galaxy_extractor']\n",
      "Drawing None:49 to:/mnt/home/jstern/ceph/sim_outputs/good/\n",
      "extracting cube\n",
      "-done\n",
      "Using provided smoothing lengths\n",
      "------------------------------------------\n",
      "------------------------------------------\n",
      "log10 minmax(columnDensityMap) -inf 12.262482\n",
      "log10 minmax(massWeightedQuantityMap) 0.0 0.0\n"
     ]
    },
    {
     "name": "stderr",
     "output_type": "stream",
     "text": [
      "/mnt/home/jstern/gizmo_analysis/FIRE_studio/firestudio/studios/gas_studio.py:326: RuntimeWarning: divide by zero encountered in log10\n",
      "  columnDensityMap = np.log10(columnDensityMap)\n"
     ]
    },
    {
     "name": "stdout",
     "output_type": "stream",
     "text": [
      "extra kwargs:\n",
      " ['galaxy_extractor']\n",
      "Drawing None:49 to:/mnt/home/jstern/ceph/sim_outputs/good/\n",
      "extracting cube\n",
      "-done\n",
      "Using provided smoothing lengths\n",
      "------------------------------------------\n",
      "------------------------------------------\n",
      "log10 minmax(columnDensityMap) -inf 12.256805\n",
      "log10 minmax(massWeightedQuantityMap) 0.0 0.0\n"
     ]
    }
   ],
   "source": [
    "kSZmaps =  [None,None]\n",
    "for j in range(2):\n",
    "    if j==0: SZ_mass = _SZ_mass * v_los*(v_los>0)\n",
    "    if j==1: SZ_mass = _SZ_mass * -v_los*(v_los<0)\n",
    "    datadic['Masses'] = SZ_mass\n",
    "    mystudio = GasStudio(\n",
    "     snapnum = 49,\n",
    "     snapdict = datadic,\n",
    "     frame_half_width = r_max,\n",
    "     frame_depth = z_width,\n",
    "     quantity_name = 'Masses',\n",
    "     take_log_of_quantity = False, \n",
    "     galaxy_extractor = False,\n",
    "     pixels=Npixels,\n",
    "     overwrite = True,\n",
    "     savefig=False,      \n",
    "     use_hsml=True,\n",
    "     snapdir = None, \n",
    "     datadir= filedir\n",
    "     )\n",
    "    kSZmaps[j], _ = mystudio.projectImage([])"
   ]
  },
  {
   "cell_type": "code",
   "execution_count": 10,
   "id": "ebf70bf9",
   "metadata": {},
   "outputs": [],
   "source": [
    "kSZmap = (10.**kSZmaps[0] - 10**kSZmaps[1]) * (0.7*un.Msun*un.pc**-2/cons.m_p/1e10).to('cm**-2').value   #fix units\n",
    "kSZmap *= (un.cm**-2* un.km/un.s * cons.sigma_T / cons.c).to('').value "
   ]
  },
  {
   "cell_type": "code",
   "execution_count": 11,
   "id": "e7093615",
   "metadata": {},
   "outputs": [],
   "source": [
    "np.savez('/mnt/home/jstern/gizmo_analysis/ipynb/subsonic_solution/pyobjs/NGC891_kSZ.npz',kSZ = kSZmap.T*TCMB*1e6, extent = np.array([-r_max, r_max, -r_max, r_max]))"
   ]
  },
  {
   "cell_type": "code",
   "execution_count": 12,
   "id": "bdd33fa8-ec95-4a30-bed1-be315254a222",
   "metadata": {},
   "outputs": [
    {
     "data": {
      "image/png": "[encoded data removed]",
      "text/plain": [
       "<Figure size 640x480 with 2 Axes>"
      ]
     },
     "metadata": {},
     "output_type": "display_data"
    }
   ],
   "source": [
    "fig, ax = plt.subplots()\n",
    "fig.subplots_adjust(right=2, top=2)\n",
    "\n",
    "ksz_Norm = matplotlib.colors.Normalize(vmax=0.3,vmin=-0.3)\n",
    "im = ax.imshow(kSZmap.T * TCMB * 1e6,cmap='seismic_r',extent=[-r_max, r_max, -r_max, r_max], norm = ksz_Norm)\n",
    "\n",
    "ax.set_xlabel(\"x \" + \"[kpc]\", size=14)\n",
    "ax.set_ylabel(\"z [kpc]\", size=14)\n",
    "ax.tick_params(length=6, width=2, labelsize=13)\n",
    "divider = make_axes_locatable(ax)\n",
    "cax = divider.append_axes('right', size='5%', pad=0.05)\n",
    "ksz_cb = fig.colorbar(im, cax=cax, orientation='vertical')\n",
    "ksz_cb.ax.tick_params(labelsize=13)\n",
    "ksz_cb.set_label(label=\"kSZ [$\\mu$K]\", size=16)\n",
    "ax.tick_params(length=6, width=2, labelsize=13)\n"
   ]
  },
  {
   "cell_type": "code",
   "execution_count": null,
   "id": "08d5b2a7",
   "metadata": {},
   "outputs": [],
   "source": []
  },
  {
   "cell_type": "code",
   "execution_count": 15,
   "id": "6d1775fd",
   "metadata": {},
   "outputs": [
    {
     "data": {
      "text/plain": [
       "array([-0.85030038, -0.84567588, -0.85144953, ...,  0.42860773,\n",
       "        0.4358995 ,  0.42803147])"
      ]
     },
     "execution_count": 15,
     "metadata": {},
     "output_type": "execute_result"
    }
   ],
   "source": [
    "snapshot.cos_theta()"
   ]
  },
  {
   "cell_type": "code",
   "execution_count": 17,
   "id": "45befd94",
   "metadata": {},
   "outputs": [],
   "source": [
    "rs = snapshot.rs() \n",
    "inds = (rs<22) & (rs > 18)\n",
    "thetas = snapshot.cos_theta()\n",
    "inds &= (thetas>-0.1) & (thetas<0.1)"
   ]
  },
  {
   "cell_type": "code",
   "execution_count": 23,
   "id": "5bc571e3",
   "metadata": {},
   "outputs": [
    {
     "data": {
      "text/latex": [
       "$0.050375871 \\; \\mathrm{}$"
      ],
      "text/plain": [
       "<Quantity 0.05037587>"
      ]
     },
     "execution_count": 23,
     "metadata": {},
     "output_type": "execute_result"
    }
   ],
   "source": [
    "(np.median(snapshot.nHs()[inds])*un.cm**-3 * 20*un.kpc * 200*un.km/un.s * cons.sigma_T/cons.c).to('') * 2.7e6"
   ]
  },
  {
   "cell_type": "code",
   "execution_count": null,
   "id": "0e850164",
   "metadata": {},
   "outputs": [],
   "source": []
  },
  {
   "cell_type": "code",
   "execution_count": null,
   "id": "f18a15f0",
   "metadata": {},
   "outputs": [],
   "source": [
    "#import proj_paths\n",
    "import edens as e\n",
    "#import analytical_funcs as a\n",
    "\n"
   ]
  },
  {
   "cell_type": "code",
   "execution_count": 49,
   "id": "cc4e8601",
   "metadata": {
    "scrolled": false
   },
   "outputs": [
    {
     "ename": "KeyboardInterrupt",
     "evalue": "",
     "output_type": "error",
     "traceback": [
      "\u001b[0;31m---------------------------------------------------------------------------\u001b[0m",
      "\u001b[0;31mKeyboardInterrupt\u001b[0m                         Traceback (most recent call last)",
      "Cell \u001b[0;32mIn[49], line 8\u001b[0m\n\u001b[1;32m      6\u001b[0m datadic_r \u001b[38;5;241m=\u001b[39m datadic\n\u001b[1;32m      7\u001b[0m \u001b[38;5;28;01mfor\u001b[39;00m (los_axis, rot_vec) \u001b[38;5;129;01min\u001b[39;00m \u001b[38;5;28mlist\u001b[39m(axes\u001b[38;5;241m.\u001b[39mitems())[:\u001b[38;5;241m2\u001b[39m]:\n\u001b[0;32m----> 8\u001b[0m     rotated_r \u001b[38;5;241m=\u001b[39m \u001b[43me\u001b[49m\u001b[38;5;241;43m.\u001b[39;49m\u001b[43mrotate_coords\u001b[49m\u001b[43m(\u001b[49m\u001b[43mdatadic\u001b[49m\u001b[43m[\u001b[49m\u001b[38;5;124;43m\"\u001b[39;49m\u001b[38;5;124;43mgas\u001b[39;49m\u001b[38;5;124;43m\"\u001b[39;49m\u001b[43m]\u001b[49m\u001b[43m[\u001b[49m\u001b[38;5;124;43m\"\u001b[39;49m\u001b[38;5;124;43mCoordinates\u001b[39;49m\u001b[38;5;124;43m\"\u001b[39;49m\u001b[43m]\u001b[49m\u001b[43m,\u001b[49m\u001b[43m \u001b[49m\u001b[43mrot_vec\u001b[49m\u001b[43m)\u001b[49m\n\u001b[1;32m      9\u001b[0m     rotated_v \u001b[38;5;241m=\u001b[39m e\u001b[38;5;241m.\u001b[39mrotate_coords(datadic[\u001b[38;5;124m\"\u001b[39m\u001b[38;5;124mgas\u001b[39m\u001b[38;5;124m\"\u001b[39m][\u001b[38;5;124m\"\u001b[39m\u001b[38;5;124mVelocities\u001b[39m\u001b[38;5;124m\"\u001b[39m], rot_vec)\n\u001b[1;32m     10\u001b[0m     datadic_r[\u001b[38;5;124m\"\u001b[39m\u001b[38;5;124mgas\u001b[39m\u001b[38;5;124m\"\u001b[39m][\u001b[38;5;124m\"\u001b[39m\u001b[38;5;124mCoordinates\u001b[39m\u001b[38;5;124m\"\u001b[39m] \u001b[38;5;241m=\u001b[39m rotated_r\n",
      "File \u001b[0;32m~/gizmo_analysis/pysrc/edens.py:78\u001b[0m, in \u001b[0;36mrotate_coords\u001b[0;34m(r, n_vec)\u001b[0m\n\u001b[1;32m     76\u001b[0m \u001b[38;5;66;03m# multiply all particle positions and velocities by rotation matrices\u001b[39;00m\n\u001b[1;32m     77\u001b[0m rotz \u001b[38;5;241m=\u001b[39m np\u001b[38;5;241m.\u001b[39meinsum(\u001b[38;5;124m\"\u001b[39m\u001b[38;5;124mij,kj->ik\u001b[39m\u001b[38;5;124m\"\u001b[39m, r, z_rot_mat)\n\u001b[0;32m---> 78\u001b[0m roty \u001b[38;5;241m=\u001b[39m \u001b[43mnp\u001b[49m\u001b[38;5;241;43m.\u001b[39;49m\u001b[43meinsum\u001b[49m\u001b[43m(\u001b[49m\u001b[38;5;124;43m\"\u001b[39;49m\u001b[38;5;124;43mij,kj->ik\u001b[39;49m\u001b[38;5;124;43m\"\u001b[39;49m\u001b[43m,\u001b[49m\u001b[43m \u001b[49m\u001b[43mrotz\u001b[49m\u001b[43m,\u001b[49m\u001b[43m \u001b[49m\u001b[43my_rot_mat\u001b[49m\u001b[43m)\u001b[49m\n\u001b[1;32m     79\u001b[0m r_disk_aligned \u001b[38;5;241m=\u001b[39m roty\n\u001b[1;32m     81\u001b[0m \u001b[38;5;28;01mreturn\u001b[39;00m r_disk_aligned\n",
      "File \u001b[0;32m<__array_function__ internals>:180\u001b[0m, in \u001b[0;36meinsum\u001b[0;34m(*args, **kwargs)\u001b[0m\n",
      "File \u001b[0;32m/mnt/sw/nix/store/gpkc8q6zjnp3n3h3w9hbmbj6gjbxs85w-python-3.10.10-view/lib/python3.10/site-packages/numpy/core/einsumfunc.py:1371\u001b[0m, in \u001b[0;36meinsum\u001b[0;34m(out, optimize, *operands, **kwargs)\u001b[0m\n\u001b[1;32m   1369\u001b[0m     \u001b[38;5;28;01mif\u001b[39;00m specified_out:\n\u001b[1;32m   1370\u001b[0m         kwargs[\u001b[38;5;124m'\u001b[39m\u001b[38;5;124mout\u001b[39m\u001b[38;5;124m'\u001b[39m] \u001b[38;5;241m=\u001b[39m out\n\u001b[0;32m-> 1371\u001b[0m     \u001b[38;5;28;01mreturn\u001b[39;00m \u001b[43mc_einsum\u001b[49m\u001b[43m(\u001b[49m\u001b[38;5;241;43m*\u001b[39;49m\u001b[43moperands\u001b[49m\u001b[43m,\u001b[49m\u001b[43m \u001b[49m\u001b[38;5;241;43m*\u001b[39;49m\u001b[38;5;241;43m*\u001b[39;49m\u001b[43mkwargs\u001b[49m\u001b[43m)\u001b[49m\n\u001b[1;32m   1373\u001b[0m \u001b[38;5;66;03m# Check the kwargs to avoid a more cryptic error later, without having to\u001b[39;00m\n\u001b[1;32m   1374\u001b[0m \u001b[38;5;66;03m# repeat default values here\u001b[39;00m\n\u001b[1;32m   1375\u001b[0m valid_einsum_kwargs \u001b[38;5;241m=\u001b[39m [\u001b[38;5;124m'\u001b[39m\u001b[38;5;124mdtype\u001b[39m\u001b[38;5;124m'\u001b[39m, \u001b[38;5;124m'\u001b[39m\u001b[38;5;124morder\u001b[39m\u001b[38;5;124m'\u001b[39m, \u001b[38;5;124m'\u001b[39m\u001b[38;5;124mcasting\u001b[39m\u001b[38;5;124m'\u001b[39m]\n",
      "\u001b[0;31mKeyboardInterrupt\u001b[0m: "
     ]
    }
   ],
   "source": [
    "if True:    \n",
    "    # create the data dictionary\n",
    "    datadic = e.load_data(directory, partType=[\"gas\"], keys=[\"Coordinates\",\"Velocities\",\"Masses\",\"Density\",\"ElectronAbundance\",\"SmoothingLength\"])\n",
    "\n",
    "    # rotate coordinates such that the los is on the z axis\n",
    "    datadic_r = datadic\n",
    "    for (los_axis, rot_vec) in list(axes.items())[:2]:\n",
    "        rotated_r = e.rotate_coords(datadic[\"gas\"][\"Coordinates\"], rot_vec)\n",
    "        rotated_v = e.rotate_coords(datadic[\"gas\"][\"Velocities\"], rot_vec)\n",
    "        datadic_r[\"gas\"][\"Coordinates\"] = rotated_r\n",
    "        datadic_r[\"gas\"][\"Velocities\"] = rotated_v\n",
    "    \n",
    "        # create sz field\n",
    "        v_los = datadic_r['gas']['Velocities'][:,2] * km/s\n",
    "        rho = datadic_r['gas']['Density'] * u.Msun10 / kpc**3\n",
    "        e_a = datadic_r['gas']['ElectronAbundance'] * dimensionless\n",
    "        n_e = 0.7 * rho * e_a / u.proton_mass\n",
    "        sz = (v_los * n_e * u.sigma_thompson / u.c)\n",
    "        datadic_r['gas']['SZ']= sz.value / 1e-3 * 3e18\n",
    "    \n",
    "        # create projection \n",
    "        mystudio = GasStudio(\n",
    "         snapnum = 49,\n",
    "         snapdict = datadic_r['gas'],\n",
    "         frame_half_width = r_max,\n",
    "         frame_depth = z_width,\n",
    "         quantity_name = 'SZ',\n",
    "         take_log_of_quantity = False, \n",
    "         galaxy_extractor = False,\n",
    "         pixels=1200,\n",
    "         overwrite = True,\n",
    "         savefig=False,      \n",
    "         use_hsml=True,\n",
    "         snapdir = None, \n",
    "         datadir= filedir\n",
    "         )\n",
    "        _, map = mystudio.projectImage([])\n",
    "\n",
    "        if los_axis==1:\n",
    "            map = map.T\n",
    "        \n",
    "        #np.save(os.path.join(proj_paths.PROJDIR,\"firestudio_results/data/\", simsnapname + \"_los_\"+axes_names[los_axis]+\".npy\"), map)\n",
    "        np.save(\"/mnt/home/jstern/gizmo_analysis/figures/NGC891_los_\"+axes_names[los_axis]+\".npy\", map)\n",
    "        plot(map,'NGC891',los_axis)"
   ]
  },
  {
   "cell_type": "code",
   "execution_count": null,
   "id": "8fdffba3",
   "metadata": {},
   "outputs": [],
   "source": []
  },
  {
   "cell_type": "code",
   "execution_count": 24,
   "id": "193a5c84-f5a7-4dc1-941b-b27c36c1f549",
   "metadata": {
    "scrolled": true
   },
   "outputs": [
    {
     "ename": "FileNotFoundError",
     "evalue": "[Errno 2] No such file or directory: '/mnt/home/jstern/ceph/sim_outputs/good/2'",
     "output_type": "error",
     "traceback": [
      "\u001b[0;31m---------------------------------------------------------------------------\u001b[0m",
      "\u001b[0;31mFileNotFoundError\u001b[0m                         Traceback (most recent call last)",
      "Cell \u001b[0;32mIn[24], line 38\u001b[0m\n\u001b[1;32m     35\u001b[0m v_gas_aligned \u001b[38;5;241m=\u001b[39m (e\u001b[38;5;241m.\u001b[39mrotate_coords(v_gas, L_cold))\n\u001b[1;32m     37\u001b[0m \u001b[38;5;66;03m# write data to file\u001b[39;00m\n\u001b[0;32m---> 38\u001b[0m \u001b[43me\u001b[49m\u001b[38;5;241;43m.\u001b[39;49m\u001b[43mwrite_to_fire_sim\u001b[49m\u001b[43m(\u001b[49m\u001b[43m \u001b[49m\u001b[43msnap_path_write\u001b[49m\u001b[38;5;241;43m+\u001b[39;49m\u001b[38;5;124;43m'\u001b[39;49m\u001b[38;5;124;43m2\u001b[39;49m\u001b[38;5;124;43m'\u001b[39;49m\u001b[43m,\u001b[49m\u001b[43m \u001b[49m\u001b[43mr_gas_aligned\u001b[49m\u001b[43m,\u001b[49m\u001b[43m \u001b[49m\u001b[43mv_gas_aligned\u001b[49m\u001b[43m,\u001b[49m\u001b[43m \u001b[49m\u001b[43mr_stars_aligned\u001b[49m\u001b[43m,\u001b[49m\u001b[43m \u001b[49m\u001b[43mv_stars_aligned\u001b[49m\u001b[43m)\u001b[49m\n",
      "File \u001b[0;32m~/gizmo_analysis/pysrc/edens.py:174\u001b[0m, in \u001b[0;36mwrite_to_fire_sim\u001b[0;34m(snap_path_write, r_gas_comb_cen_aligned, v_gas_comb_cen_aligned, r_stars_comb_cen_aligned, v_stars_comb_cen_aligned)\u001b[0m\n\u001b[1;32m    173\u001b[0m \u001b[38;5;28;01mdef\u001b[39;00m \u001b[38;5;21mwrite_to_fire_sim\u001b[39m(snap_path_write, r_gas_comb_cen_aligned, v_gas_comb_cen_aligned, r_stars_comb_cen_aligned, v_stars_comb_cen_aligned):\n\u001b[0;32m--> 174\u001b[0m     \u001b[38;5;28;01mfor\u001b[39;00m snap_filename \u001b[38;5;129;01min\u001b[39;00m \u001b[43mos\u001b[49m\u001b[38;5;241;43m.\u001b[39;49m\u001b[43mlistdir\u001b[49m\u001b[43m(\u001b[49m\u001b[43msnap_path_write\u001b[49m\u001b[43m)\u001b[49m:\n\u001b[1;32m    175\u001b[0m         \u001b[38;5;28;01mif\u001b[39;00m snap_filename\u001b[38;5;241m.\u001b[39mendswith(\u001b[38;5;124m\"\u001b[39m\u001b[38;5;124m.hdf5\u001b[39m\u001b[38;5;124m\"\u001b[39m):\n\u001b[1;32m    176\u001b[0m             snap_path \u001b[38;5;241m=\u001b[39m os\u001b[38;5;241m.\u001b[39mpath\u001b[38;5;241m.\u001b[39mjoin(snap_path_write, snap_filename)\n",
      "\u001b[0;31mFileNotFoundError\u001b[0m: [Errno 2] No such file or directory: '/mnt/home/jstern/ceph/sim_outputs/good/2'"
     ]
    }
   ],
   "source": [
    "snap_path_write = directory\n",
    "if True:\n",
    "    # load snapshot to dictionary\n",
    "    gasdata = e.load_data(snap_path_write, partType=[\"gas\"], keys=[\"Coordinates\",\"Velocities\",\"ElectronAbundance\",\"InternalEnergy\",\"Metallicity\"])\n",
    "    starsdata = e.load_data(snap_path_write, partType=[\"stars\"], keys=[\"Coordinates\",\"Velocities\"])\n",
    "\n",
    "    r_gas = gasdata[\"gas\"][\"Coordinates\"] * kpc\n",
    "    v_gas = gasdata[\"gas\"][\"Velocities\"] * km/s\n",
    "    r_stars = starsdata[\"stars\"][\"Coordinates\"] * kpc\n",
    "    v_stars = starsdata[\"stars\"][\"Velocities\"] * km/s\n",
    "\n",
    "    # calc temeperature from data\n",
    "    helium_fraction = gasdata[\"gas\"][\"Metallicity\"][:,1] * dimensionless\n",
    "    int_energy = gasdata[\"gas\"][\"InternalEnergy\"] * (km/s)**2\n",
    "    e_a = gasdata[\"gas\"][\"ElectronAbundance\"] * dimensionless\n",
    "    t_gas = e.temperature(int_energy, e_a, 5/3, helium_fraction)\n",
    "\n",
    "    # choose only main halo gas (within 50kpc radius around center)\n",
    "    gas_main_halo_index = r_gas[:,0]**2 + r_gas[:,1]**2 + r_gas[:,2]**2 <50**2\n",
    "    r_gas_main_halo = r_gas[gas_main_halo_index]\n",
    "    v_gas_main_halo = r_gas[gas_main_halo_index]\n",
    "    \n",
    "    # choose only cold ( < 5e4K ) gas within main halo\n",
    "    t_gas_main_halo = t_gas[gas_main_halo_index]\n",
    "    r_cold_gas = r_gas_main_halo[t_gas_main_halo < 5000 * u.K]\n",
    "    v_cold_gas = v_gas_main_halo[t_gas_main_halo < 5000 * u.K]\n",
    "    \n",
    "    # calculate angular momentum of main halo cold gas only (cgm)\n",
    "    L_cold = e.calc_angular_momentum(r_cold_gas, v_cold_gas)[2]\n",
    "    \n",
    "    # align all coordinates\n",
    "    r_stars_aligned = (e.rotate_coords(r_stars, L_cold))\n",
    "    v_stars_aligned = (e.rotate_coords(v_stars, L_cold))\n",
    "    r_gas_aligned = (e.rotate_coords(r_gas, L_cold))\n",
    "    v_gas_aligned = (e.rotate_coords(v_gas, L_cold))\n",
    "    \n",
    "    # write data to file\n",
    "    e.write_to_fire_sim( snap_path_write+'2', r_gas_aligned, v_gas_aligned, r_stars_aligned, v_stars_aligned)"
   ]
  }
 ],
 "metadata": {
  "kernelspec": {
   "display_name": "Python 3 (ipykernel)",
   "language": "python",
   "name": "python3"
  },
  "language_info": {
   "codemirror_mode": {
    "name": "ipython",
    "version": 3
   },
   "file_extension": ".py",
   "mimetype": "text/x-python",
   "name": "python",
   "nbconvert_exporter": "python",
   "pygments_lexer": "ipython3",
   "version": "3.10.10"
  }
 },
 "nbformat": 4,
 "nbformat_minor": 5
}
