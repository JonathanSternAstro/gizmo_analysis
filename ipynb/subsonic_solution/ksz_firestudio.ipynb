{
 "cells": [
  {
   "cell_type": "code",
   "execution_count": 1,
   "id": "28d847d5-eee5-44c7-bdcb-7da7392a8fed",
   "metadata": {},
   "outputs": [
    {
     "name": "stdout",
     "output_type": "stream",
     "text": [
      "palettable colormaps are not installed\n",
      "don't have phil's colormaps\n"
     ]
    }
   ],
   "source": [
    "#import proj_paths\n",
    "import edens as e\n",
    "#import analytical_funcs as a\n",
    "\n",
    "# general python libraries\n",
    "import time, importlib, sys\n",
    "from tqdm import tqdm_notebook as tqdm\n",
    "import pylab as pl, numpy as np, glob, pdb, scipy, scipy.stats\n",
    "from numpy import log10 as log\n",
    "import h5py\n",
    "import os\n",
    "import matplotlib\n",
    "import matplotlib.pyplot as plt\n",
    "from mpl_toolkits.axes_grid1 import make_axes_locatable\n",
    "import yt\n",
    "import unyt as u\n",
    "from unyt import kpc, km, cm, s, Msun, gram, dimensionless\n",
    "try: # because it can only be defined once\n",
    "    u.define_unit(\"Msun10\", Msun*1e10)\n",
    "except:\n",
    "    pass\n",
    "\n",
    "# FIRE studio libraries\n",
    "sys.path.append('/Users/jonathanstern/Dropbox/other_repositories/')\n",
    "sys.path.append('/Users/jonathanstern/Dropbox/other_repositories/FIRE_studio/')\n",
    "import abg_python\n",
    "import firestudio\n",
    "from firestudio.studios.gas_studio import GasStudio\n",
    "#from firestudio.studios.star_studio import StarStudio"
   ]
  },
  {
   "cell_type": "markdown",
   "id": "e20f61d5-7fbf-47af-8f82-6d06b1c256f0",
   "metadata": {
    "scrolled": true
   },
   "source": [
    "# Align data to cold gass"
   ]
  },
  {
   "cell_type": "code",
   "execution_count": 2,
   "id": "0658444f",
   "metadata": {},
   "outputs": [],
   "source": [
    "directory = '/Users/jonathanstern/Dropbox/github_repositories/gizmo_analysis/ipynb/subsonic_solution/snapshots/good/'\n",
    "MW_simfile = directory+\"snapshot_071.hdf5\"\n",
    "NGC891_simfile = directory+\"snapshot_049.hdf5\"\n"
   ]
  },
  {
   "cell_type": "code",
   "execution_count": 3,
   "id": "193a5c84-f5a7-4dc1-941b-b27c36c1f549",
   "metadata": {
    "scrolled": true
   },
   "outputs": [
    {
     "name": "stderr",
     "output_type": "stream",
     "text": [
      "/Users/jonathanstern/Dropbox/github_repositories/gizmo_analysis/ipynb/subsonic_solution/edens.py:63: RuntimeWarning: invalid value encountered in float_scalars\n",
      "  theta = np.arccos(n_vec[2]/R)\n"
     ]
    }
   ],
   "source": [
    "snap_path_write = directory\n",
    "if True:\n",
    "    # load snapshot to dictionary\n",
    "    gasdata = e.load_data(snap_path_write, partType=[\"gas\"], keys=[\"Coordinates\",\"Velocities\",\"ElectronAbundance\",\"InternalEnergy\",\"Metallicity\"])\n",
    "    starsdata = e.load_data(snap_path_write, partType=[\"stars\"], keys=[\"Coordinates\",\"Velocities\"])\n",
    "\n",
    "    r_gas = gasdata[\"gas\"][\"Coordinates\"] * kpc\n",
    "    v_gas = gasdata[\"gas\"][\"Velocities\"] * km/s\n",
    "    r_stars = starsdata[\"stars\"][\"Coordinates\"] * kpc\n",
    "    v_stars = starsdata[\"stars\"][\"Velocities\"] * km/s\n",
    "\n",
    "    # calc temeperature from data\n",
    "    helium_fraction = gasdata[\"gas\"][\"Metallicity\"][:,1] * dimensionless\n",
    "    int_energy = gasdata[\"gas\"][\"InternalEnergy\"] * (km/s)**2\n",
    "    e_a = gasdata[\"gas\"][\"ElectronAbundance\"] * dimensionless\n",
    "    t_gas = e.temperature(int_energy, e_a, 5/3, helium_fraction)\n",
    "\n",
    "    # choose only main halo gas (within 50kpc radius around center)\n",
    "    gas_main_halo_index = r_gas[:,0]**2 + r_gas[:,1]**2 + r_gas[:,2]**2 <50**2\n",
    "    r_gas_main_halo = r_gas[gas_main_halo_index]\n",
    "    v_gas_main_halo = r_gas[gas_main_halo_index]\n",
    "    \n",
    "    # choose only cold ( < 5e4K ) gas within main halo\n",
    "    t_gas_main_halo = t_gas[gas_main_halo_index]\n",
    "    r_cold_gas = r_gas_main_halo[t_gas_main_halo < 5000 * u.K]\n",
    "    v_cold_gas = v_gas_main_halo[t_gas_main_halo < 5000 * u.K]\n",
    "    \n",
    "    # calculate angular momentum of main halo cold gas only (cgm)\n",
    "    L_cold = e.calc_angular_momentum(r_cold_gas, v_cold_gas)[2]\n",
    "    \n",
    "    # align all coordinates\n",
    "    r_stars_aligned = (e.rotate_coords(r_stars, L_cold))\n",
    "    v_stars_aligned = (e.rotate_coords(v_stars, L_cold))\n",
    "    r_gas_aligned = (e.rotate_coords(r_gas, L_cold))\n",
    "    v_gas_aligned = (e.rotate_coords(v_gas, L_cold))\n",
    "    \n",
    "    # write data to file\n",
    "    e.write_to_fire_sim( snap_path_write, r_gas_aligned, v_gas_aligned, r_stars_aligned, v_stars_aligned)"
   ]
  },
  {
   "cell_type": "markdown",
   "id": "89b9ee38-3d82-41fe-aeb3-c1daa5742e47",
   "metadata": {},
   "source": [
    "# parameters"
   ]
  },
  {
   "cell_type": "code",
   "execution_count": 4,
   "id": "435e7d21-7758-4c0f-aa87-49161dcce2b4",
   "metadata": {
    "scrolled": true
   },
   "outputs": [],
   "source": [
    "h=0.702\n",
    "r_max=50\n",
    "z_width=50\n",
    "filedir=directory\n",
    "projection_output_filename=directory"
   ]
  },
  {
   "cell_type": "code",
   "execution_count": 5,
   "id": "cdfb8845-acc9-4860-8fe2-546aa13709d2",
   "metadata": {},
   "outputs": [
    {
     "name": "stdout",
     "output_type": "stream",
     "text": [
      "[(0, [1, 0, 0]), (1, [0, 1, 0]), (2, [0, 0, 1])]\n"
     ]
    }
   ],
   "source": [
    "axes = {0: [1,0,0], 1: [0,1,0], 2: [0,0,1]}\n",
    "axes_names = {0:\"x\",1:\"y\",2:\"z\"}\n",
    "print(list(axes.items()))"
   ]
  },
  {
   "cell_type": "markdown",
   "id": "d3f63724-bda6-4b98-8dcb-1f2c3f56e2eb",
   "metadata": {},
   "source": [
    "# plot a projection function"
   ]
  },
  {
   "cell_type": "code",
   "execution_count": 6,
   "id": "bdd33fa8-ec95-4a30-bed1-be315254a222",
   "metadata": {},
   "outputs": [],
   "source": [
    "def plot(map, simsnapname, los_axis):\n",
    "\n",
    "    fig, ax = plt.subplots()\n",
    "    fig.subplots_adjust(right=2, top=2)\n",
    "    \n",
    "    ksz_Norm = matplotlib.colors.Normalize(vmax=0.1,vmin=-0.1)\n",
    "    im = ax.imshow(map * u.Tcmb.v * 1e6,cmap='seismic_r',extent=[-r_max, r_max, -r_max, r_max], norm = ksz_Norm)\n",
    "    \n",
    "    ax.set_xlabel((\"x\" if los_axis else \"y\") + \"[kpc]\", size=14)\n",
    "    ax.set_ylabel(\"z [kpc]\", size=14)\n",
    "    ax.tick_params(length=6, width=2, labelsize=13)\n",
    "    divider = make_axes_locatable(ax)\n",
    "    cax = divider.append_axes('right', size='5%', pad=0.05)\n",
    "    ksz_cb = fig.colorbar(im, cax=cax, orientation='vertical')\n",
    "    ksz_cb.ax.tick_params(labelsize=13)\n",
    "    ksz_cb.set_label(label=\"kSZ [$\\mu$K]\", size=16)\n",
    "    ax.tick_params(length=6, width=2, labelsize=13)\n",
    "\n",
    "    #plt.savefig(os.path.join(proj_paths.PROJDIR,\"firestudio_results/plots/\", simsnapname + \"_los_\"+axes_names[los_axis]+\".png\"), bbox_inches=\"tight\")"
   ]
  },
  {
   "cell_type": "markdown",
   "id": "123e3dfa-13ee-455c-9254-06e144cbaf45",
   "metadata": {},
   "source": [
    "# make projections for all snapshots"
   ]
  },
  {
   "cell_type": "code",
   "execution_count": 7,
   "id": "70581603-6ec5-4090-a825-b28f431663e0",
   "metadata": {
    "scrolled": false
   },
   "outputs": [
    {
     "name": "stdout",
     "output_type": "stream",
     "text": [
      "extra kwargs:\n",
      " ['galaxy_extractor']\n",
      "Drawing None:49 to:/Users/jonathanstern/Dropbox/github_repositories/gizmo_analysis/ipynb/subsonic_solution/snapshots/good/\n",
      "extracting cube\n",
      "-done\n",
      "Using provided smoothing lengths\n",
      "------------------------------------------\n"
     ]
    },
    {
     "ename": "OSError",
     "evalue": "dlopen(/Users/jonathanstern/Dropbox/other_repositories/FIRE_studio/firestudio/utils/gas_utils/HsmlAndProject_cubicSpline/HsmlAndProject.so, 0x0006): tried: '/Users/jonathanstern/Dropbox/other_repositories/FIRE_studio/firestudio/utils/gas_utils/HsmlAndProject_cubicSpline/HsmlAndProject.so' (not a mach-o file), '/System/Volumes/Preboot/Cryptexes/OS/Users/jonathanstern/Dropbox/other_repositories/FIRE_studio/firestudio/utils/gas_utils/HsmlAndProject_cubicSpline/HsmlAndProject.so' (no such file), '/Users/jonathanstern/Dropbox/other_repositories/FIRE_studio/firestudio/utils/gas_utils/HsmlAndProject_cubicSpline/HsmlAndProject.so' (not a mach-o file)",
     "output_type": "error",
     "traceback": [
      "\u001b[0;31m---------------------------------------------------------------------------\u001b[0m",
      "\u001b[0;31mOSError\u001b[0m                                   Traceback (most recent call last)",
      "\u001b[0;32m/var/folders/qg/7mjbrncj6tg4pn8hk8h33jbw0000gn/T/ipykernel_58988/711611838.py\u001b[0m in \u001b[0;36m<module>\u001b[0;34m\u001b[0m\n\u001b[1;32m     42\u001b[0m          \u001b[0mdatadir\u001b[0m\u001b[0;34m=\u001b[0m \u001b[0mfiledir\u001b[0m\u001b[0;34m\u001b[0m\u001b[0;34m\u001b[0m\u001b[0m\n\u001b[1;32m     43\u001b[0m          )\n\u001b[0;32m---> 44\u001b[0;31m         \u001b[0m_\u001b[0m\u001b[0;34m,\u001b[0m \u001b[0mmap\u001b[0m \u001b[0;34m=\u001b[0m \u001b[0mmystudio\u001b[0m\u001b[0;34m.\u001b[0m\u001b[0mprojectImage\u001b[0m\u001b[0;34m(\u001b[0m\u001b[0;34m[\u001b[0m\u001b[0;34m]\u001b[0m\u001b[0;34m)\u001b[0m\u001b[0;34m\u001b[0m\u001b[0;34m\u001b[0m\u001b[0m\n\u001b[0m\u001b[1;32m     45\u001b[0m \u001b[0;34m\u001b[0m\u001b[0m\n\u001b[1;32m     46\u001b[0m         \u001b[0;32mif\u001b[0m \u001b[0mlos_axis\u001b[0m\u001b[0;34m==\u001b[0m\u001b[0;36m1\u001b[0m\u001b[0;34m:\u001b[0m\u001b[0;34m\u001b[0m\u001b[0;34m\u001b[0m\u001b[0m\n",
      "\u001b[0;32m~/Dropbox/other_repositories/FIRE_studio/firestudio/studios/gas_studio.py\u001b[0m in \u001b[0;36mprojectImage\u001b[0;34m(self, image_names)\u001b[0m\n\u001b[1;32m    153\u001b[0m \u001b[0;34m\u001b[0m\u001b[0m\n\u001b[1;32m    154\u001b[0m         \u001b[0;31m## make the actual C call\u001b[0m\u001b[0;34m\u001b[0m\u001b[0;34m\u001b[0m\u001b[0m\n\u001b[0;32m--> 155\u001b[0;31m         columnDensityMap, massWeightedQuantityMap = getImageGrid(\n\u001b[0m\u001b[1;32m    156\u001b[0m             \u001b[0mBoxSize\u001b[0m\u001b[0;34m,\u001b[0m\u001b[0;34m\u001b[0m\u001b[0;34m\u001b[0m\u001b[0m\n\u001b[1;32m    157\u001b[0m             \u001b[0mself\u001b[0m\u001b[0;34m.\u001b[0m\u001b[0mXmin\u001b[0m\u001b[0;34m,\u001b[0m\u001b[0mself\u001b[0m\u001b[0;34m.\u001b[0m\u001b[0mXmax\u001b[0m\u001b[0;34m,\u001b[0m\u001b[0;34m\u001b[0m\u001b[0;34m\u001b[0m\u001b[0m\n",
      "\u001b[0;32m~/Dropbox/other_repositories/FIRE_studio/firestudio/studios/gas_studio.py\u001b[0m in \u001b[0;36mgetImageGrid\u001b[0;34m(BoxSize, Xmin, Xmax, Ymin, Ymax, Zmin, Zmax, npix_x, npix_y, pos, mass, quantity, take_log_of_quantity, hsml)\u001b[0m\n\u001b[1;32m    284\u001b[0m     \u001b[0mcurpath\u001b[0m \u001b[0;34m=\u001b[0m \u001b[0mos\u001b[0m\u001b[0;34m.\u001b[0m\u001b[0mpath\u001b[0m\u001b[0;34m.\u001b[0m\u001b[0msplit\u001b[0m\u001b[0;34m(\u001b[0m\u001b[0mcurpath\u001b[0m\u001b[0;34m)\u001b[0m\u001b[0;34m[\u001b[0m\u001b[0;36m0\u001b[0m\u001b[0;34m]\u001b[0m \u001b[0;31m#split off this filename\u001b[0m\u001b[0;34m\u001b[0m\u001b[0;34m\u001b[0m\u001b[0m\n\u001b[1;32m    285\u001b[0m     \u001b[0mcurpath\u001b[0m \u001b[0;34m=\u001b[0m \u001b[0mos\u001b[0m\u001b[0;34m.\u001b[0m\u001b[0mpath\u001b[0m\u001b[0;34m.\u001b[0m\u001b[0msplit\u001b[0m\u001b[0;34m(\u001b[0m\u001b[0mcurpath\u001b[0m\u001b[0;34m)\u001b[0m\u001b[0;34m[\u001b[0m\u001b[0;36m0\u001b[0m\u001b[0;34m]\u001b[0m \u001b[0;31m#split off studios direcotry\u001b[0m\u001b[0;34m\u001b[0m\u001b[0;34m\u001b[0m\u001b[0m\n\u001b[0;32m--> 286\u001b[0;31m     c_obj = ctypes.CDLL(os.path.join(\n\u001b[0m\u001b[1;32m    287\u001b[0m         curpath,'utils','gas_utils','HsmlAndProject_cubicSpline/HsmlAndProject.so'))\n\u001b[1;32m    288\u001b[0m \u001b[0;34m\u001b[0m\u001b[0m\n",
      "\u001b[0;32m~/opt/anaconda3/lib/python3.9/ctypes/__init__.py\u001b[0m in \u001b[0;36m__init__\u001b[0;34m(self, name, mode, handle, use_errno, use_last_error, winmode)\u001b[0m\n\u001b[1;32m    380\u001b[0m \u001b[0;34m\u001b[0m\u001b[0m\n\u001b[1;32m    381\u001b[0m         \u001b[0;32mif\u001b[0m \u001b[0mhandle\u001b[0m \u001b[0;32mis\u001b[0m \u001b[0;32mNone\u001b[0m\u001b[0;34m:\u001b[0m\u001b[0;34m\u001b[0m\u001b[0;34m\u001b[0m\u001b[0m\n\u001b[0;32m--> 382\u001b[0;31m             \u001b[0mself\u001b[0m\u001b[0;34m.\u001b[0m\u001b[0m_handle\u001b[0m \u001b[0;34m=\u001b[0m \u001b[0m_dlopen\u001b[0m\u001b[0;34m(\u001b[0m\u001b[0mself\u001b[0m\u001b[0;34m.\u001b[0m\u001b[0m_name\u001b[0m\u001b[0;34m,\u001b[0m \u001b[0mmode\u001b[0m\u001b[0;34m)\u001b[0m\u001b[0;34m\u001b[0m\u001b[0;34m\u001b[0m\u001b[0m\n\u001b[0m\u001b[1;32m    383\u001b[0m         \u001b[0;32melse\u001b[0m\u001b[0;34m:\u001b[0m\u001b[0;34m\u001b[0m\u001b[0;34m\u001b[0m\u001b[0m\n\u001b[1;32m    384\u001b[0m             \u001b[0mself\u001b[0m\u001b[0;34m.\u001b[0m\u001b[0m_handle\u001b[0m \u001b[0;34m=\u001b[0m \u001b[0mhandle\u001b[0m\u001b[0;34m\u001b[0m\u001b[0;34m\u001b[0m\u001b[0m\n",
      "\u001b[0;31mOSError\u001b[0m: dlopen(/Users/jonathanstern/Dropbox/other_repositories/FIRE_studio/firestudio/utils/gas_utils/HsmlAndProject_cubicSpline/HsmlAndProject.so, 0x0006): tried: '/Users/jonathanstern/Dropbox/other_repositories/FIRE_studio/firestudio/utils/gas_utils/HsmlAndProject_cubicSpline/HsmlAndProject.so' (not a mach-o file), '/System/Volumes/Preboot/Cryptexes/OS/Users/jonathanstern/Dropbox/other_repositories/FIRE_studio/firestudio/utils/gas_utils/HsmlAndProject_cubicSpline/HsmlAndProject.so' (no such file), '/Users/jonathanstern/Dropbox/other_repositories/FIRE_studio/firestudio/utils/gas_utils/HsmlAndProject_cubicSpline/HsmlAndProject.so' (not a mach-o file)"
     ]
    }
   ],
   "source": [
    "#for simsnap in proj_paths.ALLSNAPS_WRITE:\n",
    "if True:    \n",
    "    #simname = (simsnap.split(\"/\")[-2]).split(\"_\")[0]\n",
    "    #snap = int((simsnap.split(\"/\")[-1]).split(\"_\")[-1])\n",
    "    #resolution = int((simsnap.split(\"/\")[-2]).split(\"res\")[-1])\n",
    "    #simsnapname = simname + \"_\" + str(snap)\n",
    "\n",
    "    # create the data dictionary\n",
    "    datadic = e.load_data(directory, partType=[\"gas\"], keys=[\"Coordinates\",\"Velocities\",\"Masses\",\"Density\",\"ElectronAbundance\",\"SmoothingLength\"])\n",
    "\n",
    "    # rotate coordinates such that the los is on the z axis\n",
    "    datadic_r = datadic\n",
    "    for (los_axis, rot_vec) in list(axes.items())[:2]:\n",
    "        rotated_r = e.rotate_coords(datadic[\"gas\"][\"Coordinates\"], rot_vec)\n",
    "        rotated_v = e.rotate_coords(datadic[\"gas\"][\"Velocities\"], rot_vec)\n",
    "        datadic_r[\"gas\"][\"Coordinates\"] = rotated_r\n",
    "        datadic_r[\"gas\"][\"Velocities\"] = rotated_v\n",
    "    \n",
    "        # create sz field\n",
    "        v_los = datadic_r['gas']['Velocities'][:,2] * km/s\n",
    "        rho = datadic_r['gas']['Density'] * u.Msun10 / kpc**3\n",
    "        e_a = datadic_r['gas']['ElectronAbundance'] * dimensionless\n",
    "        n_e = 0.7 * rho * e_a / u.proton_mass\n",
    "        sz = (v_los * n_e * u.sigma_thompson / u.c)\n",
    "        datadic_r['gas']['SZ']= sz.value / 1e-3 * 3e18\n",
    "        datadic_r['gas']['BoxSize']=60000\n",
    "    \n",
    "        # create projection \n",
    "        mystudio = GasStudio(\n",
    "         snapnum = 49,\n",
    "         snapdict = datadic_r['gas'],\n",
    "         frame_half_width = r_max,\n",
    "         frame_depth = z_width,\n",
    "         quantity_name = 'SZ',\n",
    "         take_log_of_quantity = False, \n",
    "         galaxy_extractor = False,\n",
    "         pixels=1200,\n",
    "         overwrite = True,\n",
    "         savefig=False,      \n",
    "         use_hsml=True,\n",
    "         snapdir = None, \n",
    "         datadir= filedir\n",
    "         )\n",
    "        _, map = mystudio.projectImage([])\n",
    "\n",
    "        if los_axis==1:\n",
    "            map = map.T\n",
    "        \n",
    "        #np.save(os.path.join(proj_paths.PROJDIR,\"firestudio_results/data/\", simsnapname + \"_los_\"+axes_names[los_axis]+\".npy\"), map)\n",
    "        \n",
    "        plot(map,'NGC891',los_axis)"
   ]
  },
  {
   "cell_type": "code",
   "execution_count": 8,
   "id": "a3dc2efe",
   "metadata": {},
   "outputs": [
    {
     "name": "stdout",
     "output_type": "stream",
     "text": [
      "> \u001b[0;32m/Users/jonathanstern/opt/anaconda3/lib/python3.9/ctypes/__init__.py\u001b[0m(382)\u001b[0;36m__init__\u001b[0;34m()\u001b[0m\n",
      "\u001b[0;32m    380 \u001b[0;31m\u001b[0;34m\u001b[0m\u001b[0m\n",
      "\u001b[0m\u001b[0;32m    381 \u001b[0;31m        \u001b[0;32mif\u001b[0m \u001b[0mhandle\u001b[0m \u001b[0;32mis\u001b[0m \u001b[0;32mNone\u001b[0m\u001b[0;34m:\u001b[0m\u001b[0;34m\u001b[0m\u001b[0;34m\u001b[0m\u001b[0m\n",
      "\u001b[0m\u001b[0;32m--> 382 \u001b[0;31m            \u001b[0mself\u001b[0m\u001b[0;34m.\u001b[0m\u001b[0m_handle\u001b[0m \u001b[0;34m=\u001b[0m \u001b[0m_dlopen\u001b[0m\u001b[0;34m(\u001b[0m\u001b[0mself\u001b[0m\u001b[0;34m.\u001b[0m\u001b[0m_name\u001b[0m\u001b[0;34m,\u001b[0m \u001b[0mmode\u001b[0m\u001b[0;34m)\u001b[0m\u001b[0;34m\u001b[0m\u001b[0;34m\u001b[0m\u001b[0m\n",
      "\u001b[0m\u001b[0;32m    383 \u001b[0;31m        \u001b[0;32melse\u001b[0m\u001b[0;34m:\u001b[0m\u001b[0;34m\u001b[0m\u001b[0;34m\u001b[0m\u001b[0m\n",
      "\u001b[0m\u001b[0;32m    384 \u001b[0;31m            \u001b[0mself\u001b[0m\u001b[0;34m.\u001b[0m\u001b[0m_handle\u001b[0m \u001b[0;34m=\u001b[0m \u001b[0mhandle\u001b[0m\u001b[0;34m\u001b[0m\u001b[0;34m\u001b[0m\u001b[0m\n",
      "\u001b[0m\n",
      "ipdb> p self._name\n",
      "'/Users/jonathanstern/Dropbox/other_repositories/FIRE_studio/firestudio/utils/gas_utils/HsmlAndProject_cubicSpline/HsmlAndProject.so'\n",
      "ipdb> q\n"
     ]
    }
   ],
   "source": [
    "pdb.pm()"
   ]
  },
  {
   "cell_type": "code",
   "execution_count": null,
   "id": "b3bb0cbc",
   "metadata": {},
   "outputs": [],
   "source": []
  }
 ],
 "metadata": {
  "kernelspec": {
   "display_name": "Python 3 (ipykernel)",
   "language": "python",
   "name": "python3"
  },
  "language_info": {
   "codemirror_mode": {
    "name": "ipython",
    "version": 3
   },
   "file_extension": ".py",
   "mimetype": "text/x-python",
   "name": "python",
   "nbconvert_exporter": "python",
   "pygments_lexer": "ipython3",
   "version": "3.9.7"
  }
 },
 "nbformat": 4,
 "nbformat_minor": 5
}
