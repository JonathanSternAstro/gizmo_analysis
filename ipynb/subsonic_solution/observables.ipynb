{
 "cells": [
  {
   "cell_type": "code",
   "execution_count": 1,
   "id": "5ee44c15",
   "metadata": {},
   "outputs": [],
   "source": [
    "# run with conda activate for_yt"
   ]
  },
  {
   "cell_type": "code",
   "execution_count": 2,
   "id": "5b7968be",
   "metadata": {},
   "outputs": [
    {
     "name": "stderr",
     "output_type": "stream",
     "text": [
      "soxs : [WARNING  ] 2024-01-30 15:13:17,881 Setting 'soxs_data_dir' to /Users/jonathanstern/Library/Caches/soxs for this session. Please update your configuration if you want it somewhere else.\n"
     ]
    }
   ],
   "source": [
    "import os,sys\n",
    "import yt\n",
    "import numpy as np\n",
    "from numpy import log10 as log, log as ln\n",
    "import pyxsim\n",
    "import soxs\n",
    "from yt import units as un, physical_constants as cons\n",
    "sys.path.append('../../pysrc/')"
   ]
  },
  {
   "cell_type": "code",
   "execution_count": 3,
   "id": "6b2c4bb1",
   "metadata": {},
   "outputs": [],
   "source": [
    "import projectPlotBasics"
   ]
  },
  {
   "cell_type": "code",
   "execution_count": 4,
   "id": "cf3c86a9",
   "metadata": {},
   "outputs": [],
   "source": [
    "import pylab as pl\n",
    "import matplotlib\n",
    "from matplotlib import ticker\n",
    "figdir = '/Users/jonathanstern/Dropbox/Apps/Overleaf/Analytic2D/'\n",
    "directory = '/Users/jonathanstern/Dropbox/github_repositories/gizmo_analysis/ipynb/subsonic_solution/snapshots/'\n"
   ]
  },
  {
   "cell_type": "code",
   "execution_count": 5,
   "id": "4ea9f4fd",
   "metadata": {},
   "outputs": [
    {
     "name": "stderr",
     "output_type": "stream",
     "text": [
      "yt : [INFO     ] 2023-12-04 13:21:23,157 Omega Lambda is 0.0, so we are turning off Cosmology.\n",
      "yt : [INFO     ] 2023-12-04 13:21:23,157 Assuming length units are in kpc (physical)\n",
      "yt : [INFO     ] 2023-12-04 13:21:23,201 Parameters: current_time              = 3.5499999672174454\n",
      "yt : [INFO     ] 2023-12-04 13:21:23,201 Parameters: domain_dimensions         = [1 1 1]\n",
      "yt : [INFO     ] 2023-12-04 13:21:23,202 Parameters: domain_left_edge          = None\n",
      "yt : [INFO     ] 2023-12-04 13:21:23,202 Parameters: domain_right_edge         = None\n",
      "yt : [INFO     ] 2023-12-04 13:21:23,202 Parameters: cosmological_simulation   = 0\n",
      "yt : [INFO     ] 2023-12-04 13:21:23,218 Omega Lambda is 0.0, so we are turning off Cosmology.\n",
      "yt : [INFO     ] 2023-12-04 13:21:23,218 Assuming length units are in kpc (physical)\n",
      "yt : [INFO     ] 2023-12-04 13:21:23,254 Parameters: current_time              = 2.44999997317791\n",
      "yt : [INFO     ] 2023-12-04 13:21:23,255 Parameters: domain_dimensions         = [1 1 1]\n",
      "yt : [INFO     ] 2023-12-04 13:21:23,255 Parameters: domain_left_edge          = None\n",
      "yt : [INFO     ] 2023-12-04 13:21:23,255 Parameters: domain_right_edge         = None\n",
      "yt : [INFO     ] 2023-12-04 13:21:23,256 Parameters: cosmological_simulation   = 0\n",
      "yt : [INFO     ] 2023-12-04 13:21:23,327 Allocating for 3.145e+07 particles\n",
      "yt : [INFO     ] 2023-12-04 13:21:23,328 Bounding box cannot be inferred from metadata, reading particle positions to infer bounding box\n",
      "yt : [INFO     ] 2023-12-04 13:21:24,832 Load this dataset with bounding_box=[[-3662.6862793  -3697.77832031 -3762.37280273], [3698.10742188 3690.14379883 3575.0012207 ]] to avoid I/O overhead from inferring bounding_box.\n",
      "Initializing coarse index : 100%|█████████████████████████████████████████████████████████████████████████████████████████████████████████████████████████████████████████████████████████████████████| 118/118 [00:01<00:00, 69.07it/s]\n",
      "yt : [INFO     ] 2023-12-04 13:21:26,643 Updating index_order2 from 2 to 2\n",
      "Initializing refined index: 100%|█████████████████████████████████████████████████████████████████████████████████████████████████████████████████████████████████████████████████████████████████████| 118/118 [00:07<00:00, 16.54it/s]\n"
     ]
    },
    {
     "name": "stdout",
     "output_type": "stream",
     "text": [
      "BH position [-0.01702357 -0.03651664 -0.00058411] code_length\n"
     ]
    },
    {
     "name": "stderr",
     "output_type": "stream",
     "text": [
      "yt : [INFO     ] 2023-12-04 13:21:41,021 Allocating for 6.253e+07 particles\n",
      "yt : [INFO     ] 2023-12-04 13:21:41,022 Bounding box cannot be inferred from metadata, reading particle positions to infer bounding box\n",
      "yt : [INFO     ] 2023-12-04 13:21:43,884 Load this dataset with bounding_box=[[-3604.31420898 -3571.93017578 -3585.05371094], [3577.61425781 3607.44946289 3590.23095703]] to avoid I/O overhead from inferring bounding_box.\n",
      "Initializing coarse index : 100%|█████████████████████████████████████████████████████████████████████████████████████████████████████████████████████████████████████████████████████████████████████| 223/223 [00:03<00:00, 70.34it/s]\n",
      "yt : [INFO     ] 2023-12-04 13:21:47,290 Updating index_order2 from 2 to 2\n",
      "Initializing refined index: 100%|█████████████████████████████████████████████████████████████████████████████████████████████████████████████████████████████████████████████████████████████████████| 223/223 [00:13<00:00, 16.44it/s]\n"
     ]
    },
    {
     "name": "stdout",
     "output_type": "stream",
     "text": [
      "BH position [ 0.02079579 -0.02846357 -0.00136999] code_length\n"
     ]
    },
    {
     "data": {
      "image/png": "[encoded data removed]",
      "text/plain": [
       "<Figure size 432x288 with 2 Axes>"
      ]
     },
     "metadata": {
      "needs_background": "light"
     },
     "output_type": "display_data"
    },
    {
     "data": {
      "image/png": "[encoded data removed]",
      "text/plain": [
       "<Figure size 432x288 with 2 Axes>"
      ]
     },
     "metadata": {
      "needs_background": "light"
     },
     "output_type": "display_data"
    }
   ],
   "source": [
    "#Rcirc_sim = 10*un.kpc\n",
    "Rcirc_sim = 15*un.kpc\n",
    "os.system(\"rm %s*.ewah\"%directory)\n",
    "#ds = yt.load(\"/Users/jonathanstern/Downloads/snapshot_324.hdf5\")\n",
    "ds_MW = yt.load(directory+\"snapshot_071.hdf5\")\n",
    "ds_NGC891 = yt.load(directory+\"snapshot_049.hdf5\")\n",
    "dss = ds_MW,ds_NGC891; names = 'MW','NGC891'\n",
    "#ds = yt.load(\"/Users/jonathanstern/Downloads/snapshot_009.hdf5\")\n",
    "for ids,ds in enumerate(dss):\n",
    "    ad = ds.all_data()\n",
    "    center = ad[ ('PartType5', 'Coordinates')][0]\n",
    "    print('BH position', center)\n",
    "    radius = ((ad[('PartType0','Coordinates')]-center)**2).sum(axis=1)**0.5\n",
    "    pl.figure()\n",
    "    pl.subplot(121)\n",
    "    pl.plot(log(radius),log(ad[('PartType0','temperature')].value),',')\n",
    "    pl.title(names[ids])\n",
    "    pl.subplot(122)\n",
    "    pl.plot(log(ad[('gas','radius')]/3e21),log(ad[('gas','mass')].value/2e33),',')"
   ]
  },
  {
   "cell_type": "code",
   "execution_count": 28,
   "id": "10118279",
   "metadata": {},
   "outputs": [
    {
     "data": {
      "text/plain": [
       "unyt_quantity(2.21902132e-35, 'cm*s')"
      ]
     },
     "execution_count": 28,
     "metadata": {},
     "output_type": "execute_result"
    }
   ],
   "source": [
    "ds.units.physical_constants.sigma_thompson/ds.units.physical_constants.clight"
   ]
  },
  {
   "cell_type": "code",
   "execution_count": 6,
   "id": "ad6ad963",
   "metadata": {},
   "outputs": [],
   "source": [
    "def _kSZ_integrand(field, data, coeff = cons.sigma_thompson/cons.c):\n",
    "    return coeff * data[\"gas\", \"El_number_density\"] * data[\"gas\", \"velocity_x\"]\n",
    "ds = dss[1]\n",
    "ds.add_field(\n",
    "    name=(\"gas\", \"kSZ_integrand\"),\n",
    "    function=_kSZ_integrand,\n",
    "    sampling_type=\"local\",\n",
    "    units=\"cm**-1\",\n",
    ")"
   ]
  },
  {
   "cell_type": "code",
   "execution_count": 7,
   "id": "74666d39",
   "metadata": {},
   "outputs": [
    {
     "data": {
      "text/plain": [
       "True"
      ]
     },
     "execution_count": 7,
     "metadata": {},
     "output_type": "execute_result"
    }
   ],
   "source": [
    "# define hot gas filter\n",
    "def hot_CGM(pfilter, data):\n",
    "    pfilter1 = data[pfilter.filtered_type, \"temperature\"] > 3.0e5*un.K\n",
    "    pfilter2 = data[pfilter.filtered_type, \"radius\"] < 200*un.kpc\n",
    "    return pfilter1 & pfilter2\n",
    "yt.add_particle_filter(\"hot_gas\", function=hot_CGM, filtered_type='gas', requires=[\"temperature\",\"radius\"])\n",
    "ds.add_particle_filter('hot_gas')"
   ]
  },
  {
   "cell_type": "code",
   "execution_count": 8,
   "id": "21b41ad4",
   "metadata": {},
   "outputs": [],
   "source": [
    "#plot = yt.ProjectionPlot(ds, 0, (\"gas\", \"temperature\"), center=center,\n",
    "#                        width=(200,'kpc'),buff_size=(200,200))\n",
    "#plot.show()"
   ]
  },
  {
   "cell_type": "code",
   "execution_count": 63,
   "id": "92fc1c8c",
   "metadata": {},
   "outputs": [
    {
     "name": "stderr",
     "output_type": "stream",
     "text": [
      "yt : [INFO     ] 2023-12-04 13:48:16,592 xlim = -75.028464 74.971536\n",
      "yt : [INFO     ] 2023-12-04 13:48:16,593 ylim = -75.001370 74.998630\n",
      "yt : [INFO     ] 2023-12-04 13:48:16,595 xlim = -75.028464 74.971536\n",
      "yt : [INFO     ] 2023-12-04 13:48:16,596 ylim = -75.001370 74.998630\n",
      "yt : [INFO     ] 2023-12-04 13:48:16,598 Making a fixed resolution buffer of (('hot_gas', 'kSZ_integrand')) 162 by 162\n",
      "yt : [INFO     ] 2023-12-04 13:49:17,489 Making a FITS image of field kSZ_integrand\n"
     ]
    }
   ],
   "source": [
    "#NGC891\n",
    "d = 9.52*un.Mpc #Bregmann22\n",
    "Rcirc = Rcirc_sim \n",
    "size_ratio = 1 #(Rcirc/Rcirc_sim).value \n",
    "#Rcirc = (13.18/2*un.arcminute).to('radian')*d.to('kpc') #Bregmann22\n",
    "#size_ratio = (Rcirc/Rcirc_sim).value \n",
    "pixel_physical_size = (1*un.arcminute).to('radian')*d.to('kpc') #Battaglia+17\n",
    "fld = \"kSZ_integrand\"\n",
    "width_in_kpc = 150\n",
    "Npixels = width_in_kpc // pixel_physical_size.value *3\n",
    "plot = yt.ProjectionPlot(ds, 0, (\"hot_gas\", fld), center=center,method=\"integrate\",\n",
    "                        width=(width_in_kpc/size_ratio,'kpc'),buff_size=(Npixels,Npixels))\n",
    "kSZ = plot.to_fits_data()[fld].data\n",
    "X,Y = [np.linspace(-width_in_kpc//2,width_in_kpc//2,int(Npixels)) for _ in range(2)]"
   ]
  },
  {
   "cell_type": "code",
   "execution_count": 119,
   "id": "ee7e4af6",
   "metadata": {},
   "outputs": [],
   "source": []
  },
  {
   "cell_type": "code",
   "execution_count": null,
   "id": "04a17f40",
   "metadata": {},
   "outputs": [],
   "source": [
    "plot2 = yt.ProjectionPlot(ds, 0, (\"gas\",\"kSZ_integrand\"),\n",
    "                  center=center,method=\"integrate\",\n",
    "                    weight_field=(\"PartType0\",'particle_ones'),\n",
    "                width=(150,'kpc'),buff_size=(100,100))\n",
    "a = plot2.to_fits_data()[\"kSZ_integrand\"].data"
   ]
  },
  {
   "cell_type": "code",
   "execution_count": 125,
   "id": "7155abec",
   "metadata": {},
   "outputs": [
    {
     "name": "stderr",
     "output_type": "stream",
     "text": [
      "yt : [INFO     ] 2023-12-04 14:54:01,413 xlim = -75.028464 74.971536\n",
      "yt : [INFO     ] 2023-12-04 14:54:01,416 ylim = -75.001370 74.998630\n",
      "yt : [INFO     ] 2023-12-04 14:54:01,418 xlim = -75.028464 74.971536\n",
      "yt : [INFO     ] 2023-12-04 14:54:01,419 ylim = -75.001370 74.998630\n",
      "yt : [INFO     ] 2023-12-04 14:54:01,422 Making a fixed resolution buffer of (('gas', 'kSZ_integrand')) 25 by 25\n",
      "yt : [INFO     ] 2023-12-04 14:54:23,916 Making a fixed resolution buffer of (('PartType0', 'particle_ones')) 25 by 25\n",
      "yt : [INFO     ] 2023-12-04 14:54:39,873 Making a FITS image of field kSZ_integrand\n"
     ]
    }
   ],
   "source": [
    "plot3 = yt.ProjectionPlot(ds, 0, (\"gas\",\"kSZ_integrand\"),\n",
    "                  center=center,method=\"integrate\",\n",
    "                    weight_field=(\"PartType0\",'particle_ones'),\n",
    "                width=(150,'kpc'),buff_size=(25,25))\n",
    "b = plot3.to_fits_data()[\"kSZ_integrand\"].data"
   ]
  },
  {
   "cell_type": "code",
   "execution_count": 145,
   "id": "6fcaf4cc",
   "metadata": {},
   "outputs": [
    {
     "data": {
      "text/plain": [
       "unyt_quantity(0.35948145, '(dimensionless)')"
      ]
     },
     "execution_count": 145,
     "metadata": {},
     "output_type": "execute_result"
    }
   ],
   "source": [
    "30e21*0.01*un.cm**-2*cons.sigma_thompson * 200*un.km/un.s/cons.c * 2.7e6"
   ]
  },
  {
   "cell_type": "code",
   "execution_count": 141,
   "id": "31ad1fca",
   "metadata": {},
   "outputs": [
    {
     "data": {
      "text/plain": [
       "unyt_quantity(0.00100069, '(dimensionless)')"
      ]
     },
     "execution_count": 141,
     "metadata": {},
     "output_type": "execute_result"
    }
   ],
   "source": []
  },
  {
   "cell_type": "code",
   "execution_count": 136,
   "id": "7ce95454",
   "metadata": {},
   "outputs": [
    {
     "data": {
      "text/plain": [
       "unyt_quantity(9.68338094e-09, '(dimensionless)')"
      ]
     },
     "execution_count": 136,
     "metadata": {},
     "output_type": "execute_result"
    }
   ],
   "source": [
    "(200*un.km/un.s*cons.sigma_thompson/cons.c* 1e-3*2**-1.5*\n",
    " un.cm**-3*20*un.kpc).to('')"
   ]
  },
  {
   "cell_type": "code",
   "execution_count": 65,
   "id": "1bd7e6b8",
   "metadata": {},
   "outputs": [],
   "source": [
    "maskR, maskz = 20,3\n",
    "TCMB = 2.726\n",
    "y = kSZ * 1e6 * TCMB\n",
    "Xmesh,Ymesh = np.meshgrid(X,Y)\n",
    "mask = ~((np.abs(Xmesh)<maskR) & (np.abs(Ymesh)<maskz))\n",
    "y_tuple = X,Y,y * mask"
   ]
  },
  {
   "cell_type": "code",
   "execution_count": 66,
   "id": "1a678db4",
   "metadata": {
    "scrolled": false
   },
   "outputs": [
    {
     "name": "stderr",
     "output_type": "stream",
     "text": [
      "/var/folders/qg/7mjbrncj6tg4pn8hk8h33jbw0000gn/T/ipykernel_22168/1064967306.py:6: MatplotlibDeprecationWarning: shading='flat' when X and Y have the same dimensions as C is deprecated since 3.3.  Either specify the corners of the quadrilaterals with X and Y, or pass shading='auto', 'nearest' or 'gouraud', or set rcParams['pcolor.shading'].  This will become an error two minor releases later.\n",
      "  pl.pcolormesh(X,Y,y*mask,cmap='RdBu',vmin=-vrng,vmax=vrng)\n"
     ]
    },
    {
     "data": {
      "image/png": "[encoded data removed]",
      "text/plain": [
       "<Figure size 288x216 with 2 Axes>"
      ]
     },
     "metadata": {
      "needs_background": "light"
     },
     "output_type": "display_data"
    }
   ],
   "source": [
    "xrng = 50\n",
    "fig = pl.figure(figsize=(4,3))\n",
    "ax=pl.subplot(111)\n",
    "mid,ind = len(Y)//2,np.searchsorted(X,-26)\n",
    "vrng=1.5\n",
    "pl.pcolormesh(X,Y,y*mask,cmap='RdBu',vmin=-vrng,vmax=vrng)\n",
    "pl.colorbar()\n",
    "pl.ylabel(r'$z\\ [{\\rm kpc}]$')\n",
    "pl.xlim(-xrng,xrng)\n",
    "pl.ylim(-xrng,xrng)\n",
    "pl.xlabel(r'$x\\ [{\\rm kpc}]$')\n",
    "ax.xaxis.set_major_locator(ticker.MultipleLocator(20))\n",
    "ax.yaxis.set_major_locator(ticker.MultipleLocator(20))"
   ]
  },
  {
   "cell_type": "code",
   "execution_count": 91,
   "id": "2294aad0",
   "metadata": {},
   "outputs": [
    {
     "data": {
      "text/plain": [
       "functools.partial(<class 'yt.data_objects.construction_data_containers.YTParticleProj'>, ds=<weakproxy at 0x7f995bd03cc0 to GizmoDataset at 0x7f9968c2ab20>)"
      ]
     },
     "execution_count": 91,
     "metadata": {},
     "output_type": "execute_result"
    }
   ],
   "source": [
    "dirds.proj"
   ]
  },
  {
   "cell_type": "code",
   "execution_count": 60,
   "id": "3d5cad19",
   "metadata": {},
   "outputs": [
    {
     "name": "stderr",
     "output_type": "stream",
     "text": [
      "yt : [INFO     ] 2023-12-04 13:46:57,770 Making a fixed resolution buffer of (('gas', 'sz_kinetic')) 162 by 162\n"
     ]
    }
   ],
   "source": [
    "proj=ds.proj(ds=ds,field=('gas', 'sz_kinetic'),axis=1)\n",
    "frb = proj.to_frb((width_in_kpc,\"kpc\"), Npixels*3,center=(0,0,0))\n",
    "k=np.array(frb[\"gas\", \"sz_kinetic\"])\n",
    "k_MK = k * 2.7 * 1e6"
   ]
  },
  {
   "cell_type": "code",
   "execution_count": 96,
   "id": "afa61f3a",
   "metadata": {},
   "outputs": [
    {
     "data": {
      "text/plain": [
       "dict_keys([('gas', 'sz_kinetic')])"
      ]
     },
     "execution_count": 96,
     "metadata": {},
     "output_type": "execute_result"
    }
   ],
   "source": [
    "frb.keys()"
   ]
  },
  {
   "cell_type": "code",
   "execution_count": 61,
   "id": "70fcab0b",
   "metadata": {},
   "outputs": [
    {
     "data": {
      "image/png": "[encoded data removed]",
      "text/plain": [
       "<Figure size 432x288 with 1 Axes>"
      ]
     },
     "metadata": {
      "needs_background": "light"
     },
     "output_type": "display_data"
    }
   ],
   "source": [
    "import scipy.ndimage\n",
    "image2 = k_MK.T #scipy.ndimage.gaussian_filter(k_MK.T, sigma=(3,3))\n",
    "pl.figure(); ax =pl.subplot(111)\n",
    "im2 = ax.imshow(image2,cmap='RdBu', extent=[-xrng,xrng,-xrng,xrng], \n",
    "                norm=matplotlib.colors.Normalize(vmin=-1, vmax=1))"
   ]
  },
  {
   "cell_type": "code",
   "execution_count": 68,
   "id": "270367b1",
   "metadata": {},
   "outputs": [
    {
     "name": "stdout",
     "output_type": "stream",
     "text": [
      "8.850931677018636\n"
     ]
    },
    {
     "data": {
      "text/plain": [
       "[<matplotlib.lines.Line2D at 0x7f995ccee700>]"
      ]
     },
     "execution_count": 68,
     "metadata": {},
     "output_type": "execute_result"
    },
    {
     "data": {
      "image/png": "[encoded data removed]",
      "text/plain": [
       "<Figure size 432x288 with 1 Axes>"
      ]
     },
     "metadata": {
      "needs_background": "light"
     },
     "output_type": "display_data"
    }
   ],
   "source": [
    "d=30*3; print(X[d]); \n",
    "pl.plot(X,y[d,:])\n",
    "pl.plot(X,image2[d,:])\n",
    "#pl.plot(X,image2[d,:]/y[d,:],c='k')"
   ]
  },
  {
   "cell_type": "code",
   "execution_count": 13,
   "id": "4e19dfb5",
   "metadata": {},
   "outputs": [
    {
     "name": "stderr",
     "output_type": "stream",
     "text": [
      "pyxsim : [INFO     ] 2023-11-16 10:38:38,423 kT_min = 0.025 keV\n",
      "pyxsim : [INFO     ] 2023-11-16 10:38:38,423 kT_max = 64 keV\n"
     ]
    }
   ],
   "source": [
    "emin_in_keV = 0.54\n",
    "emax_in_keV = 0.59\n",
    "nbins = 1000\n",
    "Zmet = 0.3 # this dataset does not have a metallicity field, so assume 0.3 Zsolar\n",
    "source_model = pyxsim.CIESourceModel(\"apec\", emin_in_keV, emax_in_keV, nbins, Zmet)"
   ]
  },
  {
   "cell_type": "markdown",
   "id": "fa795e25",
   "metadata": {},
   "source": [
    "# plot spectrum with thermal broadening only"
   ]
  },
  {
   "cell_type": "code",
   "execution_count": 14,
   "id": "ee1691e5",
   "metadata": {},
   "outputs": [
    {
     "name": "stderr",
     "output_type": "stream",
     "text": [
      "pyxsim : [INFO     ] 2023-11-16 10:38:38,427 Using emission measure field '('gas', 'emission_measure')'.\n",
      "pyxsim : [INFO     ] 2023-11-16 10:38:38,428 Using temperature field '('gas', 'temperature')'.\n"
     ]
    },
    {
     "data": {
      "application/json": {
       "ascii": false,
       "bar_format": null,
       "colour": null,
       "elapsed": 0.016507863998413086,
       "initial": 0,
       "n": 0,
       "ncols": null,
       "nrows": 52,
       "postfix": null,
       "prefix": "Preparing spectrum table ",
       "rate": null,
       "total": 138,
       "unit": "it",
       "unit_divisor": 1000,
       "unit_scale": false
      },
      "application/vnd.jupyter.widget-view+json": {
       "model_id": "e91f8c2c79a2416fbbde6b29bdc1a814",
       "version_major": 2,
       "version_minor": 0
      },
      "text/plain": [
       "Preparing spectrum table :   0%|          | 0/138 [00:00<?, ?it/s]"
      ]
     },
     "metadata": {},
     "output_type": "display_data"
    },
    {
     "data": {
      "application/json": {
       "ascii": false,
       "bar_format": null,
       "colour": null,
       "elapsed": 0.01491689682006836,
       "initial": 0,
       "n": 0,
       "ncols": null,
       "nrows": 52,
       "postfix": null,
       "prefix": "Processing cells/particles ",
       "rate": null,
       "total": 45759886,
       "unit": "it",
       "unit_divisor": 1000,
       "unit_scale": false
      },
      "application/vnd.jupyter.widget-view+json": {
       "model_id": "676733fcc3734d43ad57a97a45ea6828",
       "version_major": 2,
       "version_minor": 0
      },
      "text/plain": [
       "Processing cells/particles :   0%|          | 0/45759886 [00:00<?, ?it/s]"
      ]
     },
     "metadata": {},
     "output_type": "display_data"
    }
   ],
   "source": [
    "sp = ds.sphere(center,200*un.kpc)\n",
    "spec = source_model.make_spectrum(sp, emin_in_keV,emax_in_keV, nbins)"
   ]
  },
  {
   "cell_type": "code",
   "execution_count": 15,
   "id": "c8cf1a9d",
   "metadata": {},
   "outputs": [
    {
     "data": {
      "text/plain": [
       "Text(0.5, 0, 'energy [keV]')"
      ]
     },
     "execution_count": 15,
     "metadata": {},
     "output_type": "execute_result"
    },
    {
     "data": {
      "image/png": "[encoded data removed]",
      "text/plain": [
       "<Figure size 432x288 with 1 Axes>"
      ]
     },
     "metadata": {
      "needs_background": "light"
     },
     "output_type": "display_data"
    }
   ],
   "source": [
    "v_th = ((cons.kb*2e6*un.K/(16*cons.mp))**0.5).to('km/s')\n",
    "v_phi = 200*un.km/un.s\n",
    "v_inst = 0.002/0.56 * cons.c.to('km/s')\n",
    "\n",
    "line_center = 0.561065*un.keV\n",
    "for j in range(2):\n",
    "    pl.plot(spec.emid*(1+(v_phi/cons.c).to(''))**((-1)**j),spec.flux,c='br'[j])\n",
    "    pl.axvline(line_center.value*(1+(v_inst/cons.c).to(''))**((-1)**j),c='k',ls='--',lw=0.5,label=('instrument broadening','_')[j])\n",
    "pl.xlim(0.555,0.58)\n",
    "pl.legend()\n",
    "pl.xlabel('energy [keV]')"
   ]
  },
  {
   "cell_type": "code",
   "execution_count": 16,
   "id": "40f31241",
   "metadata": {},
   "outputs": [
    {
     "name": "stderr",
     "output_type": "stream",
     "text": [
      "pyxsim : [INFO     ] 2023-11-16 10:42:00,896 Using emission measure field '('gas', 'emission_measure')'.\n",
      "pyxsim : [INFO     ] 2023-11-16 10:42:00,897 Using temperature field '('gas', 'temperature')'.\n"
     ]
    },
    {
     "data": {
      "application/json": {
       "ascii": false,
       "bar_format": null,
       "colour": null,
       "elapsed": 0.01599597930908203,
       "initial": 0,
       "n": 0,
       "ncols": null,
       "nrows": 52,
       "postfix": null,
       "prefix": "Preparing spectrum table ",
       "rate": null,
       "total": 138,
       "unit": "it",
       "unit_divisor": 1000,
       "unit_scale": false
      },
      "application/vnd.jupyter.widget-view+json": {
       "model_id": "9beadc6fa9124d0f80c0f74a76ac3210",
       "version_major": 2,
       "version_minor": 0
      },
      "text/plain": [
       "Preparing spectrum table :   0%|          | 0/138 [00:00<?, ?it/s]"
      ]
     },
     "metadata": {},
     "output_type": "display_data"
    },
    {
     "data": {
      "text/plain": [
       "[('gas', 'xray_emissivity_0.56_0.563_keV'),\n",
       " ('gas', 'xray_luminosity_0.56_0.563_keV'),\n",
       " ('gas', 'xray_photon_emissivity_0.56_0.563_keV')]"
      ]
     },
     "execution_count": 16,
     "metadata": {},
     "output_type": "execute_result"
    }
   ],
   "source": [
    "#single line flux\n",
    "emin_in_keV = 0.56\n",
    "emax_in_keV = 0.563 \n",
    "xray_fields = source_model.make_source_fields(ds, emin_in_keV, emax_in_keV)\n",
    "xray_fields"
   ]
  },
  {
   "cell_type": "code",
   "execution_count": 17,
   "id": "90035137",
   "metadata": {},
   "outputs": [],
   "source": [
    "#LEM\n",
    "Npixels_to_sum = 1 #in one dimension\n",
    "d=40*un.Mpc\n",
    "pixel_angular_size  = 15*un.arcsecond\n",
    "pixel_physical_size = (Npixels_to_sum*pixel_angular_size).to('radian').value*d.to('kpc') #LEM paper\n",
    "FOV_in_pixels = 118*2\n",
    "img_width_physical = pixel_physical_size*FOV_in_pixels\n",
    "img_Npixels = FOV_in_pixels\n",
    "pixel_area = (img_width_physical/img_Npixels)**2\n",
    "A_LEM = 1600*un.cm**2\n",
    "geometric_dilution = (A_LEM / (4*np.pi*d**2)).to('')"
   ]
  },
  {
   "cell_type": "code",
   "execution_count": 18,
   "id": "cf0ed59e",
   "metadata": {},
   "outputs": [],
   "source": [
    "fld = 'xray_emissivity_0.56_0.563_keV'\n",
    "X,Y = [np.linspace(-img_width_physical//2,img_width_physical//2,int(img_Npixels)) for _ in range(2)]\n",
    "Xmesh,Ymesh = np.meshgrid(X,Y)"
   ]
  },
  {
   "cell_type": "code",
   "execution_count": 19,
   "id": "7c6a7d21",
   "metadata": {},
   "outputs": [
    {
     "name": "stderr",
     "output_type": "stream",
     "text": [
      "yt : [INFO     ] 2023-11-16 10:42:01,674 xlim = -343.276550 343.219623\n",
      "yt : [INFO     ] 2023-11-16 10:42:01,675 ylim = -343.249456 343.246716\n",
      "yt : [INFO     ] 2023-11-16 10:42:01,676 xlim = -343.276550 343.219623\n",
      "yt : [INFO     ] 2023-11-16 10:42:01,676 ylim = -343.249456 343.246716\n",
      "yt : [INFO     ] 2023-11-16 10:42:01,677 Making a fixed resolution buffer of (('gas', 'xray_emissivity_0.56_0.563_keV')) 236 by 236\n",
      "yt : [INFO     ] 2023-11-16 10:43:09,970 Making a FITS image of field xray_emissivity_0.56_0.563_keV\n"
     ]
    }
   ],
   "source": [
    "plot = yt.ProjectionPlot(ds, 0, (\"gas\", fld), center=center,method=\"integrate\",\n",
    "                        width=img_width_physical/size_ratio,buff_size=(img_Npixels,img_Npixels))\n",
    "emission = plot.to_fits_data()[fld].data \n",
    "cnts = (emission * pixel_area * geometric_dilution  / line_center / (2.35*v_inst/cons.c*line_center)).to('s**-1*keV**-1')"
   ]
  },
  {
   "cell_type": "code",
   "execution_count": 48,
   "id": "98c2c69f",
   "metadata": {},
   "outputs": [
    {
     "ename": "ValueError",
     "evalue": "operands could not be broadcast together with shapes (236,236) (54,54) ",
     "output_type": "error",
     "traceback": [
      "\u001b[0;31m---------------------------------------------------------------------------\u001b[0m",
      "\u001b[0;31mValueError\u001b[0m                                Traceback (most recent call last)",
      "\u001b[0;32m/var/folders/qg/7mjbrncj6tg4pn8hk8h33jbw0000gn/T/ipykernel_27620/1463264002.py\u001b[0m in \u001b[0;36m<module>\u001b[0;34m\u001b[0m\n\u001b[1;32m      1\u001b[0m \u001b[0mmask\u001b[0m \u001b[0;34m=\u001b[0m \u001b[0;34m~\u001b[0m\u001b[0;34m(\u001b[0m\u001b[0;34m(\u001b[0m\u001b[0mnp\u001b[0m\u001b[0;34m.\u001b[0m\u001b[0mabs\u001b[0m\u001b[0;34m(\u001b[0m\u001b[0mXmesh\u001b[0m\u001b[0;34m)\u001b[0m\u001b[0;34m<\u001b[0m\u001b[0mmaskR\u001b[0m\u001b[0;34m)\u001b[0m \u001b[0;34m&\u001b[0m \u001b[0;34m(\u001b[0m\u001b[0mnp\u001b[0m\u001b[0;34m.\u001b[0m\u001b[0mabs\u001b[0m\u001b[0;34m(\u001b[0m\u001b[0mYmesh\u001b[0m\u001b[0;34m)\u001b[0m\u001b[0;34m<\u001b[0m\u001b[0mmaskz\u001b[0m\u001b[0;34m)\u001b[0m\u001b[0;34m)\u001b[0m\u001b[0;34m\u001b[0m\u001b[0;34m\u001b[0m\u001b[0m\n\u001b[0;32m----> 2\u001b[0;31m \u001b[0mpl\u001b[0m\u001b[0;34m.\u001b[0m\u001b[0mpcolormesh\u001b[0m\u001b[0;34m(\u001b[0m\u001b[0mX\u001b[0m\u001b[0;34m,\u001b[0m\u001b[0mY\u001b[0m\u001b[0;34m,\u001b[0m\u001b[0mcnts\u001b[0m\u001b[0;34m*\u001b[0m\u001b[0mmask\u001b[0m\u001b[0;34m,\u001b[0m\u001b[0mcmap\u001b[0m\u001b[0;34m=\u001b[0m\u001b[0;34m'viridis'\u001b[0m\u001b[0;34m,\u001b[0m\u001b[0mvmax\u001b[0m\u001b[0;34m=\u001b[0m\u001b[0;36m0.05\u001b[0m\u001b[0;34m)\u001b[0m\u001b[0;34m\u001b[0m\u001b[0;34m\u001b[0m\u001b[0m\n\u001b[0m\u001b[1;32m      3\u001b[0m \u001b[0mpl\u001b[0m\u001b[0;34m.\u001b[0m\u001b[0mcolorbar\u001b[0m\u001b[0;34m(\u001b[0m\u001b[0mlabel\u001b[0m\u001b[0;34m=\u001b[0m\u001b[0;34mr'OVII 0.56keV counts ${\\rm pixel}^{-1}\\ {\\rm s}^{-1}\\ {\\rm keV}^{-1}$'\u001b[0m\u001b[0;34m)\u001b[0m\u001b[0;34m\u001b[0m\u001b[0;34m\u001b[0m\u001b[0m\n\u001b[1;32m      4\u001b[0m \u001b[0mpl\u001b[0m\u001b[0;34m.\u001b[0m\u001b[0mcontour\u001b[0m\u001b[0;34m(\u001b[0m\u001b[0mX\u001b[0m\u001b[0;34m,\u001b[0m\u001b[0mY\u001b[0m\u001b[0;34m,\u001b[0m\u001b[0mcnts\u001b[0m\u001b[0;34m,\u001b[0m\u001b[0;34m[\u001b[0m\u001b[0;36m0.02\u001b[0m\u001b[0;34m]\u001b[0m\u001b[0;34m,\u001b[0m\u001b[0mc\u001b[0m\u001b[0;34m=\u001b[0m\u001b[0;34m'k'\u001b[0m\u001b[0;34m)\u001b[0m \u001b[0;31m#foreground\u001b[0m\u001b[0;34m\u001b[0m\u001b[0;34m\u001b[0m\u001b[0m\n\u001b[1;32m      5\u001b[0m \u001b[0mpl\u001b[0m\u001b[0;34m.\u001b[0m\u001b[0mxlim\u001b[0m\u001b[0;34m(\u001b[0m\u001b[0;34m-\u001b[0m\u001b[0mimg_width_physical\u001b[0m\u001b[0;34m/\u001b[0m\u001b[0;36m2\u001b[0m\u001b[0;34m/\u001b[0m\u001b[0;36m4\u001b[0m\u001b[0;34m,\u001b[0m\u001b[0mimg_width_physical\u001b[0m\u001b[0;34m/\u001b[0m\u001b[0;36m2\u001b[0m\u001b[0;34m/\u001b[0m\u001b[0;36m4\u001b[0m\u001b[0;34m)\u001b[0m\u001b[0;34m\u001b[0m\u001b[0;34m\u001b[0m\u001b[0m\n",
      "\u001b[0;32m~/opt/anaconda3/lib/python3.9/site-packages/unyt/array.py\u001b[0m in \u001b[0;36m__array_ufunc__\u001b[0;34m(self, ufunc, method, *inputs, **kwargs)\u001b[0m\n\u001b[1;32m   1904\u001b[0m             \u001b[0mmul\u001b[0m\u001b[0;34m,\u001b[0m \u001b[0munit\u001b[0m \u001b[0;34m=\u001b[0m \u001b[0munit_operator\u001b[0m\u001b[0;34m(\u001b[0m\u001b[0mu0\u001b[0m\u001b[0;34m,\u001b[0m \u001b[0mu1\u001b[0m\u001b[0;34m)\u001b[0m\u001b[0;34m\u001b[0m\u001b[0;34m\u001b[0m\u001b[0m\n\u001b[1;32m   1905\u001b[0m             \u001b[0;31m# actually evaluate the ufunc\u001b[0m\u001b[0;34m\u001b[0m\u001b[0;34m\u001b[0m\u001b[0m\n\u001b[0;32m-> 1906\u001b[0;31m             out_arr = func(\n\u001b[0m\u001b[1;32m   1907\u001b[0m                 \u001b[0minp0\u001b[0m\u001b[0;34m.\u001b[0m\u001b[0mview\u001b[0m\u001b[0;34m(\u001b[0m\u001b[0mnp\u001b[0m\u001b[0;34m.\u001b[0m\u001b[0mndarray\u001b[0m\u001b[0;34m)\u001b[0m\u001b[0;34m,\u001b[0m \u001b[0minp1\u001b[0m\u001b[0;34m.\u001b[0m\u001b[0mview\u001b[0m\u001b[0;34m(\u001b[0m\u001b[0mnp\u001b[0m\u001b[0;34m.\u001b[0m\u001b[0mndarray\u001b[0m\u001b[0;34m)\u001b[0m\u001b[0;34m,\u001b[0m \u001b[0mout\u001b[0m\u001b[0;34m=\u001b[0m\u001b[0mout_func\u001b[0m\u001b[0;34m,\u001b[0m \u001b[0;34m**\u001b[0m\u001b[0mkwargs\u001b[0m\u001b[0;34m\u001b[0m\u001b[0;34m\u001b[0m\u001b[0m\n\u001b[1;32m   1908\u001b[0m             )\n",
      "\u001b[0;31mValueError\u001b[0m: operands could not be broadcast together with shapes (236,236) (54,54) "
     ]
    }
   ],
   "source": [
    "mask = ~((np.abs(Xmesh)<maskR) & (np.abs(Ymesh)<maskz))\n",
    "pl.pcolormesh(X,Y,cnts*mask,cmap='viridis',vmax=0.05)\n",
    "pl.colorbar(label=r'OVII 0.56keV counts ${\\rm pixel}^{-1}\\ {\\rm s}^{-1}\\ {\\rm keV}^{-1}$')\n",
    "pl.contour(X,Y,cnts,[0.02],c='k') #foreground\n",
    "pl.xlim(-img_width_physical/2/4,img_width_physical/2/4)\n",
    "pl.ylim(-img_width_physical/2/4,img_width_physical/2/4)\n",
    "pl.xlabel(r'$x\\ [{\\rm kpc}]$')\n",
    "pl.ylabel(r'$z\\ [{\\rm kpc}]$')\n",
    "pl.text(-75,70,r'NGC 891 ($d=9.8\\,{\\rm Mpc}$)',color='w')\n",
    "pl.text(-40,-45,'equal to\\nforeground',color='k',fontsize=8,ha='center')\n",
    "pl.plot([-40,-35],[-34,-30],c='k',lw=0.5)"
   ]
  },
  {
   "cell_type": "code",
   "execution_count": 21,
   "id": "2ad3db13",
   "metadata": {},
   "outputs": [
    {
     "name": "stderr",
     "output_type": "stream",
     "text": [
      "yt : [INFO     ] 2023-11-16 10:43:10,179 xlim = -343.276550 343.219623\n",
      "yt : [INFO     ] 2023-11-16 10:43:10,180 ylim = -343.249456 343.246716\n",
      "yt : [INFO     ] 2023-11-16 10:43:10,181 xlim = -343.276550 343.219623\n",
      "yt : [INFO     ] 2023-11-16 10:43:10,181 ylim = -343.249456 343.246716\n",
      "yt : [INFO     ] 2023-11-16 10:43:10,182 Making a fixed resolution buffer of (('gas', 'velocity_x')) 236 by 236\n",
      "yt : [INFO     ] 2023-11-16 10:44:21,339 Making a fixed resolution buffer of (('gas', 'xray_emissivity_0.56_0.563_keV')) 236 by 236\n",
      "yt : [INFO     ] 2023-11-16 10:45:29,163 Making a FITS image of field velocity_x\n"
     ]
    }
   ],
   "source": [
    "plot = yt.ProjectionPlot(ds, 0, (\"gas\",\"velocity_x\"),weight_field=(\"gas\", fld), center=center,\n",
    "                         method=\"integrate\",\n",
    "                        width=img_width_physical/size_ratio,buff_size=(img_Npixels,img_Npixels))\n",
    "emission_weighted_velocity = plot.to_fits_data()[\"velocity_x\"].data.to('km/s')\n",
    "emission_weighted_velocity_tuple = X,Y,emission_weighted_velocity*mask"
   ]
  },
  {
   "cell_type": "code",
   "execution_count": 53,
   "id": "da66386e",
   "metadata": {},
   "outputs": [],
   "source": [
    "X,Y = emission_weighted_velocity_tuple[:2]\n",
    "Xmesh,Ymesh = np.meshgrid(X,Y)\n",
    "mask = ~((np.abs(Xmesh)<maskR) & (np.abs(Ymesh)<maskz))\n",
    "emission_weighted_velocity_tuple = X,Y,emission_weighted_velocity*mask"
   ]
  },
  {
   "cell_type": "code",
   "execution_count": 61,
   "id": "ced01091",
   "metadata": {},
   "outputs": [],
   "source": [
    "from projectPlotBasics import *\n"
   ]
  },
  {
   "cell_type": "code",
   "execution_count": 502,
   "id": "04dc26df",
   "metadata": {
    "scrolled": false
   },
   "outputs": [
    {
     "name": "stderr",
     "output_type": "stream",
     "text": [
      "/var/folders/qg/7mjbrncj6tg4pn8hk8h33jbw0000gn/T/ipykernel_27620/476180225.py:12: MatplotlibDeprecationWarning: shading='flat' when X and Y have the same dimensions as C is deprecated since 3.3.  Either specify the corners of the quadrilaterals with X and Y, or pass shading='auto', 'nearest' or 'gouraud', or set rcParams['pcolor.shading'].  This will become an error two minor releases later.\n",
      "  pl.pcolormesh(X,Y,vals,cmap='RdBu',vmin=-vrng,vmax=vrng)\n"
     ]
    },
    {
     "data": {
      "image/png": "[encoded data removed]",
      "text/plain": [
       "<Figure size 244.35x432 with 5 Axes>"
      ]
     },
     "metadata": {
      "needs_background": "light"
     },
     "output_type": "display_data"
    }
   ],
   "source": [
    "xrng = 50\n",
    "fig = pl.figure(figsize=(fig_width_half,6))\n",
    "gs  = matplotlib.gridspec.GridSpec(ncols=1, nrows=3)\n",
    "gs2  = matplotlib.gridspec.GridSpec(ncols=10, nrows=3)\n",
    "pl.subplots_adjust(hspace=0.3,left=0.2,right=0.85,wspace=0.4,top=0.99,bottom=0.075)\n",
    "for iobs in range(2):\n",
    "    X,Y,vals = (y_tuple,emission_weighted_velocity_tuple)[iobs]\n",
    "    mid,ind = len(Y)//2,np.searchsorted(X,-26)\n",
    "    label = (r'$\\Delta T_{\\rm kSZ}\\ [\\mu{\\rm K}]$',r'$\\langle v_{\\rm los}\\rangle_{\\rm OVII}\\ [{\\rm km}\\,{\\rm s}^{-1}]$')[iobs]\n",
    "    vrng=(1.5,150)[iobs]        \n",
    "    ax = fig.add_subplot(gs[iobs])\n",
    "    pl.pcolormesh(X,Y,vals,cmap='RdBu',vmin=-vrng,vmax=vrng)\n",
    "    pl.colorbar(label=label)\n",
    "    pl.ylabel(r'$z\\ [{\\rm kpc}]$')\n",
    "    pl.xlim(-xrng,xrng)\n",
    "    pl.ylim(-xrng,xrng)\n",
    "    pl.xlabel(r'$x\\ [{\\rm kpc}]$')\n",
    "    ax.xaxis.set_major_locator(ticker.MultipleLocator(20))\n",
    "    ax.yaxis.set_major_locator(ticker.MultipleLocator(20))\n",
    "    if iobs==0:\n",
    "        pl.text(-45,-45,r'$v_{\\rm c}=200\\,{\\rm km}\\,{\\rm s}^{-1}$',fontsize=8)\n",
    "        pl.text(-45,-29,r'$\\dot{M}=3\\,{\\rm M}_\\odot\\,{\\rm yr}^{-1}$',fontsize=8)\n",
    "        pl.text(-45,-36,r'$R_{\\rm c}=15\\,{\\rm kpc}$',fontsize=8)\n",
    "ax = fig.add_subplot(gs2[2,:9])\n",
    "for iobs in range(2):\n",
    "    if iobs==0:\n",
    "        X,Y,vals = y_tuple\n",
    "        label = r'$\\Delta T_{\\rm kSZ}\\ [\\mu{\\rm K}]$'\n",
    "        norm = 1\n",
    "        pl.text(73,0.4,label,fontsize=8,ha='right')\n",
    "        pl.plot([61,60],[0.33,0.25],lw=0.5,c='k')\n",
    "    else:\n",
    "        X,Y,vals = emission_weighted_velocity_tuple\n",
    "        norm = 100\n",
    "        label = r'$\\langle v_{\\rm los}\\rangle_{\\rm OVII}\\,[%d\\,{\\rm km}\\,{\\rm s}^{-1}]$'%norm        \n",
    "        pl.text(73,1.2,label,fontsize=8,ha='right')\n",
    "        pl.plot([46,45],[1.13,1.05],lw=0.5,c='k')\n",
    "    mid,ind = len(Y)//2,np.searchsorted(X,-20)\n",
    "    pl.plot(X[len(X)-ind:],(vals[mid,:ind][::-1]-vals[mid,len(X)-ind:])/norm,c='k',lw=0.7,ms=3)\n",
    "pl.text(0.95,0.95,r'$z=0\\,{\\rm kpc}$',fontsize=10,ha='right',va='top',transform=ax.transAxes)\n",
    "pl.xlim(15,75)\n",
    "pl.ylabel('difference between\\nopposite sides of disk',fontsize=8)\n",
    "pl.ylim(0,2.1)\n",
    "ax.yaxis.set_major_locator(ticker.MultipleLocator(0.5))\n",
    "pl.xlabel(r'$x\\ [{\\rm kpc}]$')\n",
    "pl.savefig(figdir+'observed_velocity.pdf')"
   ]
  },
  {
   "cell_type": "code",
   "execution_count": 23,
   "id": "eebf014c",
   "metadata": {},
   "outputs": [
    {
     "data": {
      "text/plain": [
       "unyt_quantity(0.74875843, 'Msun/yr')"
      ]
     },
     "execution_count": 23,
     "metadata": {},
     "output_type": "execute_result"
    }
   ],
   "source": [
    "r=100*un.kpc\n",
    "(0.8e-3*cons.mp/0.7*un.cm**-3*2/3*4*np.pi*r**3*(r/(10*un.kpc))**-1.5).to('Msun')/(1e10*un.yr)"
   ]
  },
  {
   "cell_type": "code",
   "execution_count": 24,
   "id": "f7daf207",
   "metadata": {},
   "outputs": [
    {
     "data": {
      "text/plain": [
       "unyt_quantity(0.80889759, '(dimensionless)')"
      ]
     },
     "execution_count": 24,
     "metadata": {},
     "output_type": "execute_result"
    }
   ],
   "source": [
    "T=2e6*un.K\n",
    "vc=250*un.km/un.s\n",
    "2*cons.kb*T/(cons.me*cons.c**2) / (vc/cons.c)"
   ]
  },
  {
   "cell_type": "markdown",
   "id": "fcd9f4dd",
   "metadata": {},
   "source": [
    "# anisotropy"
   ]
  },
  {
   "cell_type": "code",
   "execution_count": 229,
   "id": "7a083795",
   "metadata": {},
   "outputs": [
    {
     "name": "stderr",
     "output_type": "stream",
     "text": [
      "pyxsim : [INFO     ] 2023-11-16 15:50:38,010 Using emission measure field '('gas', 'emission_measure')'.\n",
      "pyxsim : [INFO     ] 2023-11-16 15:50:38,010 Using temperature field '('gas', 'temperature')'.\n"
     ]
    },
    {
     "data": {
      "application/json": {
       "ascii": false,
       "bar_format": null,
       "colour": null,
       "elapsed": 0.01695108413696289,
       "initial": 0,
       "n": 0,
       "ncols": null,
       "nrows": 52,
       "postfix": null,
       "prefix": "Preparing spectrum table ",
       "rate": null,
       "total": 138,
       "unit": "it",
       "unit_divisor": 1000,
       "unit_scale": false
      },
      "application/vnd.jupyter.widget-view+json": {
       "model_id": "04ab0ffd6e9843aa90ac45462cb0619d",
       "version_major": 2,
       "version_minor": 0
      },
      "text/plain": [
       "Preparing spectrum table :   0%|          | 0/138 [00:00<?, ?it/s]"
      ]
     },
     "metadata": {},
     "output_type": "display_data"
    },
    {
     "data": {
      "text/plain": [
       "[('gas', 'xray_emissivity_0.5_2_keV'),\n",
       " ('gas', 'xray_luminosity_0.5_2_keV'),\n",
       " ('gas', 'xray_photon_emissivity_0.5_2_keV')]"
      ]
     },
     "execution_count": 229,
     "metadata": {},
     "output_type": "execute_result"
    }
   ],
   "source": [
    "#single line flux\n",
    "emin_in_keV = 0.5\n",
    "emax_in_keV = 2\n",
    "xray_fields = source_model.make_source_fields(ds, emin_in_keV, emax_in_keV)\n",
    "xray_fields"
   ]
  },
  {
   "cell_type": "code",
   "execution_count": 230,
   "id": "0677ea3c",
   "metadata": {},
   "outputs": [],
   "source": [
    "#LEM\n",
    "d=40*un.Mpc\n",
    "pixel_angular_size  = 1*un.arcsecond\n",
    "pixel_physical_size = (Npixels_to_sum*pixel_angular_size).to('radian').value*d.to('kpc') #LEM paper\n",
    "FOV_in_pixels = 2000\n",
    "img_width_physical = pixel_physical_size*FOV_in_pixels\n",
    "img_Npixels = FOV_in_pixels\n",
    "pixel_area = (img_width_physical/img_Npixels)**2\n",
    "A_LEM = 1600*un.cm**2\n",
    "geometric_dilution = (A_LEM / (4*np.pi*d**2)).to('')\n"
   ]
  },
  {
   "cell_type": "code",
   "execution_count": 472,
   "id": "18d6dcb4",
   "metadata": {},
   "outputs": [],
   "source": [
    "#anisotropy plot\n",
    "Npixels_to_sum = 1 #in one dimension\n",
    "d=10*un.Mpc\n",
    "pixel_angular_size  = 1*un.arcmin \n",
    "pixel_physical_size = (Npixels_to_sum*pixel_angular_size).to('radian').value*d.to('kpc') #~3kpc\n",
    "FOV_in_pixels = 100 #+-50'\n",
    "img_width_physical = pixel_physical_size*FOV_in_pixels #+_150 kpc\n",
    "img_Npixels = FOV_in_pixels\n",
    "pixel_area = pixel_physical_size**2 #9kpc^2\n",
    "telescope_area = 1*un.cm**2\n",
    "geometric_dilution = (telescope_area / (4*np.pi*d**2)).to('')\n"
   ]
  },
  {
   "cell_type": "code",
   "execution_count": 504,
   "id": "db297605",
   "metadata": {},
   "outputs": [],
   "source": [
    "fld = 'xray_photon_emissivity_0.5_2_keV'\n",
    "X,Y = [np.linspace(-img_width_physical//2,img_width_physical//2,int(img_Npixels)) for _ in range(2)]\n",
    "Xmesh,Ymesh = np.meshgrid(X,Y)\n",
    "mask = ~((np.abs(Xmesh)<25) & (np.abs(Ymesh)<5))"
   ]
  },
  {
   "cell_type": "code",
   "execution_count": 233,
   "id": "5c6e1e2b",
   "metadata": {},
   "outputs": [
    {
     "name": "stderr",
     "output_type": "stream",
     "text": [
      "yt : [INFO     ] 2023-11-16 15:50:38,786 xlim = -145.472568 145.415641\n",
      "yt : [INFO     ] 2023-11-16 15:50:38,787 ylim = -145.445474 145.442734\n",
      "yt : [INFO     ] 2023-11-16 15:50:38,788 xlim = -145.472568 145.415641\n",
      "yt : [INFO     ] 2023-11-16 15:50:38,788 ylim = -145.445474 145.442734\n",
      "yt : [INFO     ] 2023-11-16 15:50:38,790 Making a fixed resolution buffer of (('gas', 'xray_photon_emissivity_0.5_2_keV')) 100 by 100\n",
      "yt : [INFO     ] 2023-11-16 15:51:37,164 Making a FITS image of field xray_photon_emissivity_0.5_2_keV\n"
     ]
    }
   ],
   "source": [
    "plot = yt.ProjectionPlot(ds, 0, (\"gas\", fld), center=center,method=\"integrate\",\n",
    "                        width=img_width_physical/size_ratio,buff_size=(img_Npixels,img_Npixels))\n",
    "emission = plot.to_fits_data()[fld].data "
   ]
  },
  {
   "cell_type": "code",
   "execution_count": 234,
   "id": "43bedd01",
   "metadata": {},
   "outputs": [],
   "source": [
    "cnts = (emission * pixel_physical_size**2 * geometric_dilution).to('s**-1')"
   ]
  },
  {
   "cell_type": "code",
   "execution_count": 235,
   "id": "833a93a7",
   "metadata": {},
   "outputs": [
    {
     "name": "stderr",
     "output_type": "stream",
     "text": [
      "pyxsim : [INFO     ] 2023-11-16 15:51:37,228 kT_min = 0.025 keV\n",
      "pyxsim : [INFO     ] 2023-11-16 15:51:37,228 kT_max = 64 keV\n",
      "pyxsim : [INFO     ] 2023-11-16 15:51:37,245 Using emission measure field '('gas', 'emission_measure')'.\n",
      "pyxsim : [INFO     ] 2023-11-16 15:51:37,245 Using temperature field '('gas', 'temperature')'.\n"
     ]
    },
    {
     "data": {
      "application/json": {
       "ascii": false,
       "bar_format": null,
       "colour": null,
       "elapsed": 0.016453981399536133,
       "initial": 0,
       "n": 0,
       "ncols": null,
       "nrows": 52,
       "postfix": null,
       "prefix": "Preparing spectrum table ",
       "rate": null,
       "total": 138,
       "unit": "it",
       "unit_divisor": 1000,
       "unit_scale": false
      },
      "application/vnd.jupyter.widget-view+json": {
       "model_id": "7d7ef95aab4c4952a8226fbb7335e772",
       "version_major": 2,
       "version_minor": 0
      },
      "text/plain": [
       "Preparing spectrum table :   0%|          | 0/138 [00:00<?, ?it/s]"
      ]
     },
     "metadata": {},
     "output_type": "display_data"
    },
    {
     "name": "stderr",
     "output_type": "stream",
     "text": [
      "pyxsim : [INFO     ] 2023-11-16 15:51:38,755 kT_min = 0.025 keV\n",
      "pyxsim : [INFO     ] 2023-11-16 15:51:38,755 kT_max = 64 keV\n",
      "pyxsim : [INFO     ] 2023-11-16 15:51:38,770 Using emission measure field '('gas', 'emission_measure')'.\n",
      "pyxsim : [INFO     ] 2023-11-16 15:51:38,770 Using temperature field '('gas', 'temperature')'.\n"
     ]
    },
    {
     "data": {
      "application/json": {
       "ascii": false,
       "bar_format": null,
       "colour": null,
       "elapsed": 0.016249895095825195,
       "initial": 0,
       "n": 0,
       "ncols": null,
       "nrows": 52,
       "postfix": null,
       "prefix": "Preparing spectrum table ",
       "rate": null,
       "total": 138,
       "unit": "it",
       "unit_divisor": 1000,
       "unit_scale": false
      },
      "application/vnd.jupyter.widget-view+json": {
       "model_id": "95c87262259c41359d9d664436e098ba",
       "version_major": 2,
       "version_minor": 0
      },
      "text/plain": [
       "Preparing spectrum table :   0%|          | 0/138 [00:00<?, ?it/s]"
      ]
     },
     "metadata": {},
     "output_type": "display_data"
    }
   ],
   "source": [
    "#single line flux\n",
    "nbins = 1000\n",
    "Zmet = 0.3 # this dataset does not have a metallicity field, so assume 0.3 Zsolar\n",
    "emin_in_keV = 0.56\n",
    "emax_in_keV = 0.563 \n",
    "source_model1 = pyxsim.CIESourceModel(\"apec\", emin_in_keV, emax_in_keV, nbins, Zmet)\n",
    "xray_fields1= source_model1.make_source_fields(ds, emin_in_keV, emax_in_keV,force_override=True)\n",
    "emin_in_keV = 0.64\n",
    "emax_in_keV = 0.68 \n",
    "source_model2 = pyxsim.CIESourceModel(\"apec\", emin_in_keV, emax_in_keV, nbins, Zmet)\n",
    "xray_fields2= source_model2.make_source_fields(ds, emin_in_keV, emax_in_keV,force_override=True)\n"
   ]
  },
  {
   "cell_type": "code",
   "execution_count": 236,
   "id": "84f999c9",
   "metadata": {},
   "outputs": [
    {
     "name": "stderr",
     "output_type": "stream",
     "text": [
      "yt : [INFO     ] 2023-11-16 15:51:40,645 xlim = -145.472568 145.415641\n",
      "yt : [INFO     ] 2023-11-16 15:51:40,646 ylim = -145.445474 145.442734\n",
      "yt : [INFO     ] 2023-11-16 15:51:40,646 xlim = -145.472568 145.415641\n",
      "yt : [INFO     ] 2023-11-16 15:51:40,647 ylim = -145.445474 145.442734\n",
      "yt : [INFO     ] 2023-11-16 15:51:40,647 Making a fixed resolution buffer of (('gas', 'xray_emissivity_0.56_0.563_keV')) 100 by 100\n",
      "yt : [INFO     ] 2023-11-16 15:52:38,916 Making a FITS image of field xray_emissivity_0.56_0.563_keV\n"
     ]
    }
   ],
   "source": [
    "plot = yt.ProjectionPlot(ds, 0, xray_fields1[0], center=center,method=\"integrate\",\n",
    "                        width=img_width_physical/size_ratio,buff_size=(img_Npixels,img_Npixels))\n",
    "LOVII_emission = plot.to_fits_data()[xray_fields1[0][1]].data "
   ]
  },
  {
   "cell_type": "code",
   "execution_count": 237,
   "id": "43be45a6",
   "metadata": {},
   "outputs": [
    {
     "name": "stderr",
     "output_type": "stream",
     "text": [
      "yt : [INFO     ] 2023-11-16 15:52:38,924 xlim = -145.472568 145.415641\n",
      "yt : [INFO     ] 2023-11-16 15:52:38,924 ylim = -145.445474 145.442734\n",
      "yt : [INFO     ] 2023-11-16 15:52:38,925 xlim = -145.472568 145.415641\n",
      "yt : [INFO     ] 2023-11-16 15:52:38,925 ylim = -145.445474 145.442734\n",
      "yt : [INFO     ] 2023-11-16 15:52:38,926 Making a fixed resolution buffer of (('gas', 'xray_emissivity_0.64_0.68_keV')) 100 by 100\n",
      "yt : [INFO     ] 2023-11-16 15:53:36,138 Making a FITS image of field xray_emissivity_0.64_0.68_keV\n"
     ]
    }
   ],
   "source": [
    "plot = yt.ProjectionPlot(ds, 0, xray_fields2[0], center=center,method=\"integrate\",\n",
    "                        width=img_width_physical/size_ratio,buff_size=(img_Npixels,img_Npixels))\n",
    "LOVIII_emission = plot.to_fits_data()[xray_fields2[0][1]].data "
   ]
  },
  {
   "cell_type": "code",
   "execution_count": 238,
   "id": "ffbe797c",
   "metadata": {},
   "outputs": [],
   "source": [
    "ratio = LOVIII_emission/LOVII_emission"
   ]
  },
  {
   "cell_type": "code",
   "execution_count": 508,
   "id": "033fc1a4",
   "metadata": {},
   "outputs": [
    {
     "name": "stderr",
     "output_type": "stream",
     "text": [
      "/var/folders/qg/7mjbrncj6tg4pn8hk8h33jbw0000gn/T/ipykernel_27620/1105017108.py:31: UserWarning: FixedFormatter should only be used together with FixedLocator\n",
      "  ax.xaxis.set_major_formatter(ticker.FixedFormatter([r'${\\rm major}$'+'\\n'+r'${\\rm axis}$',r'',r'',r'',\n",
      "/var/folders/qg/7mjbrncj6tg4pn8hk8h33jbw0000gn/T/ipykernel_27620/1105017108.py:43: UserWarning: FixedFormatter should only be used together with FixedLocator\n",
      "  ax.xaxis.set_major_formatter(ticker.FixedFormatter([r'$0$',r'',r'$45$',r'',r'$90$']))\n"
     ]
    },
    {
     "data": {
      "image/png": "[encoded data removed]",
      "text/plain": [
       "<Figure size 252x360 with 2 Axes>"
      ]
     },
     "metadata": {
      "needs_background": "light"
     },
     "output_type": "display_data"
    }
   ],
   "source": [
    "fig = pl.figure(figsize=(3.5,5))\n",
    "pl.subplots_adjust(hspace=0.05,bottom=0.1,left=0.25)\n",
    "rs = np.array([30,40,60,90])\n",
    "thetas=np.linspace(0,np.pi/2,10)\n",
    "for iPanel in range(2):\n",
    "    ax = pl.subplot(2,1,iPanel+1)\n",
    "    for ir,r in enumerate(rs):\n",
    "        c = 'k'; lw=0.7\n",
    "        iX = np.searchsorted(X,r*np.sin(thetas))\n",
    "        iY = np.searchsorted(Y,r*np.cos(thetas))\n",
    "        if iPanel==0:\n",
    "            pl.plot(np.pi/2-thetas, cnts[iY,iX]/3600/1e-9,label=r'$R_\\perp=%d\\,{\\rm kpc}$'%r,c=c,lw=lw)\n",
    "        if iPanel==1:\n",
    "            pl.plot(np.pi/2-thetas, ratio[iY,iX],label=r'$R_\\perp=%d\\,{\\rm kpc}$'%r,c=c,lw=lw)\n",
    "    if iPanel==0:\n",
    "        pl.text(np.pi/2-1.5,1.27,r'$R_\\perp=%d\\,{\\rm kpc}$'%rs[0],ha='left')\n",
    "        pl.plot([0.1,0.075],[1.25,1.2],lw=0.5,c='k')\n",
    "        pl.text(np.pi/2-1.55,0.55,r'$%d$'%rs[1],ha='left',fontsize=8)\n",
    "        pl.text(np.pi/2-1.55,0.24,r'$%d$'%rs[2],ha='left',fontsize=8)\n",
    "        pl.text(np.pi/2-1.55,0.075,r'$%d$'%rs[3],ha='left',fontsize=8)        \n",
    "        pl.ylabel(r'$0.5-2\\,{\\rm keV}\\ {\\rm surface}\\ {\\rm brightness}$'+'\\n'\n",
    "                  +r'$[10^{-9}\\,{\\rm cts}\\,{\\rm cm}^{-2}\\,{\\rm s}^{-1}\\,{\\rm arcsec}^{-2}]$')        \n",
    "        pl.ylim(0,1.5)\n",
    "        #pl.text(0.,0.7,r'$d=10\\,{\\rm Mpc}$')        \n",
    "        ax.xaxis.set_label_position('top')                     \n",
    "        ax.xaxis.set_ticks_position('top')\n",
    "        ax.xaxis.set_ticks_position('both')\n",
    "        pl.text(0.9,1.3,r'$\\dot{M}=3\\,{\\rm M}_\\odot\\,{\\rm yr}^{-1}$',ha='left')\n",
    "        pl.text(0.9,1.15,r'$R_{\\rm c}=15\\,{\\rm kpc}$',ha='left')\n",
    "        pl.text(0.9,1.0,r'$v_{\\rm c}=200\\,{\\rm km}\\,{\\rm s}^{-1}$',ha='left')\n",
    "        ax.xaxis.set_major_formatter(ticker.FixedFormatter([r'${\\rm major}$'+'\\n'+r'${\\rm axis}$',r'',r'',r'',\n",
    "                                                            r'${\\rm minor}$'+'\\n'+r'${\\rm axis}$']))        \n",
    "\n",
    "    if iPanel==1:  \n",
    "        pl.text(np.pi/2-0.15,1.76,r'$%d$'%rs[0],ha='left',fontsize=8)\n",
    "        pl.text(np.pi/2-0.15,1.62,r'$%d$'%rs[1],ha='left',fontsize=8)\n",
    "        pl.text(np.pi/2-0.15,1.325,r'$%d$'%rs[2],ha='left',fontsize=8)\n",
    "        pl.text(np.pi/2-0.15,1.09,r'$%d$'%rs[3],ha='left',fontsize=8)\n",
    "        pl.ylabel(r'$L_{\\rm OVIII~Ly\\alpha}/L_{\\rm OVII~He\\alpha}$')\n",
    "        #pl.legend(loc='upper right',frameon=False,handlelength=1,labelspacing=0.15)\n",
    "        pl.xlabel(r'${\\rm azimuthal~angle}\\ [^\\circ]$')\n",
    "        pl.ylim(0.7,1.95)\n",
    "        ax.xaxis.set_major_formatter(ticker.FixedFormatter([r'$0$',r'',r'$45$',r'',r'$90$']))        \n",
    "    ax.xaxis.set_major_locator(ticker.FixedLocator(np.linspace(0,1,5)*np.pi/2))            \n",
    "pl.savefig(figdir+'theta_dependence_observed.pdf')"
   ]
  },
  {
   "cell_type": "code",
   "execution_count": 36,
   "id": "573b8455",
   "metadata": {},
   "outputs": [
    {
     "data": {
      "text/plain": [
       "unyt_quantity(1.63942112e-09, '1/(cm**2*s)')"
      ]
     },
     "execution_count": 36,
     "metadata": {},
     "output_type": "execute_result"
    }
   ],
   "source": [
    "d = 10*un.Mpc\n",
    "gd = (4*np.pi*d**2)**-1\n",
    "Mdot = 2*un.Msun/un.yr\n",
    "vc = 200*un.km/un.s\n",
    "hnu = 1*un.keV\n",
    "r = 30*un.kpc\n",
    "relative_V = (d*(1*un.arcsec).to('radian').value)**2 * r / (4*np.pi*r**3/3)\n",
    "(Mdot*vc**2 * relative_V / hnu * gd).to('cm**-2*s**-1')"
   ]
  },
  {
   "cell_type": "markdown",
   "id": "a316eccc",
   "metadata": {},
   "source": [
    "# OVII absorption averaged velocities"
   ]
  },
  {
   "cell_type": "code",
   "execution_count": 454,
   "id": "d4aad8ae",
   "metadata": {},
   "outputs": [
    {
     "name": "stderr",
     "output_type": "stream",
     "text": [
      "yt : [INFO     ] 2023-11-16 18:34:07,084 Omega Lambda is 0.0, so we are turning off Cosmology.\n",
      "yt : [INFO     ] 2023-11-16 18:34:07,084 Assuming length units are in kpc (physical)\n",
      "yt : [INFO     ] 2023-11-16 18:34:07,117 Parameters: current_time              = 3.5499999672174454\n",
      "yt : [INFO     ] 2023-11-16 18:34:07,118 Parameters: domain_dimensions         = [1 1 1]\n",
      "yt : [INFO     ] 2023-11-16 18:34:07,118 Parameters: domain_left_edge          = None\n",
      "yt : [INFO     ] 2023-11-16 18:34:07,119 Parameters: domain_right_edge         = None\n",
      "yt : [INFO     ] 2023-11-16 18:34:07,119 Parameters: cosmological_simulation   = 0\n",
      "yt : [INFO     ] 2023-11-16 18:34:07,133 Omega Lambda is 0.0, so we are turning off Cosmology.\n",
      "yt : [INFO     ] 2023-11-16 18:34:07,134 Assuming length units are in kpc (physical)\n",
      "yt : [INFO     ] 2023-11-16 18:34:07,160 Parameters: current_time              = 1.549999974668026\n",
      "yt : [INFO     ] 2023-11-16 18:34:07,160 Parameters: domain_dimensions         = [1 1 1]\n",
      "yt : [INFO     ] 2023-11-16 18:34:07,160 Parameters: domain_left_edge          = None\n",
      "yt : [INFO     ] 2023-11-16 18:34:07,161 Parameters: domain_right_edge         = None\n",
      "yt : [INFO     ] 2023-11-16 18:34:07,161 Parameters: cosmological_simulation   = 0\n"
     ]
    }
   ],
   "source": [
    "ds_MW = yt.load(directory+\"snapshot_071.hdf5\")\n",
    "xs = np.linspace(-100,100,400)\n"
   ]
  },
  {
   "cell_type": "code",
   "execution_count": 455,
   "id": "f87f7391",
   "metadata": {
    "scrolled": true
   },
   "outputs": [
    {
     "name": "stderr",
     "output_type": "stream",
     "text": [
      "yt : [INFO     ] 2023-11-16 18:34:07,612 Allocating for 3.145e+07 particles\n",
      "yt : [INFO     ] 2023-11-16 18:34:07,613 Bounding box cannot be inferred from metadata, reading particle positions to infer bounding box\n",
      "yt : [INFO     ] 2023-11-16 18:34:08,986 Load this dataset with bounding_box=[[-3662.6862793  -3697.77832031 -3762.37280273], [3698.10742188 3690.14379883 3575.0012207 ]] to avoid I/O overhead from inferring bounding_box.\n",
      "Loading particle index: 100%|████████████████████████████████████████████████████| 118/118 [00:00<00:00, 7027.93it/s]\n",
      "Interpolating SPH field ('PartType0', 'El_number_density'): 48900000it [01:04, 753971.21it/s] \n",
      "Interpolating SPH field ('PartType0', 'Temperature'): 48900000it [01:03, 771310.68it/s] \n"
     ]
    }
   ],
   "source": [
    "ds = ds_MW\n",
    "region = ds.r[-100:100:400j, -100:100:400j, -100:100:400j]\n",
    "n_elec = region[(\"gas\",\"El_number_density\")]\n",
    "Ts = region[(\"gas\",\"temperature\")]"
   ]
  },
  {
   "cell_type": "code",
   "execution_count": 624,
   "id": "3109c717",
   "metadata": {
    "scrolled": true
   },
   "outputs": [
    {
     "data": {
      "text/plain": [
       "[<matplotlib.lines.Line2D at 0x7fe3830b8eb0>]"
      ]
     },
     "execution_count": 624,
     "metadata": {},
     "output_type": "execute_result"
    },
    {
     "data": {
      "image/png": "[encoded data removed]",
      "text/plain": [
       "<Figure size 432x288 with 1 Axes>"
      ]
     },
     "metadata": {
      "needs_background": "light"
     },
     "output_type": "display_data"
    }
   ],
   "source": [
    "yt_xs  = region[(\"PartType0\",\"particle_position_x\")]\n",
    "yt_ys  = region[(\"PartType0\",\"particle_position_y\")]\n",
    "yt_zs  = region[(\"PartType0\",\"particle_position_z\")]\n",
    "yt_vxs = region[(\"PartType0\",\"particle_velocity_x\")]\n",
    "yt_vys = region[(\"PartType0\",\"particle_velocity_y\")]\n",
    "yt_vzs = region[(\"PartType0\",\"particle_velocity_z\")]\n",
    "yt_jzs = yt_xs*yt_vys - yt_vxs*yt_ys\n",
    "yt_Rs  = (yt_xs**2+yt_ys**2)**0.5\n",
    "yt_rs = (yt_xs**2+yt_ys**2+yt_zs**2)**0.5\n",
    "yt_vphis = yt_jzs/yt_Rs\n",
    "yt_vrs = yt_vxs*yt_xs/yt_rs + yt_vys*yt_ys/yt_rs + yt_vzs*yt_zs/yt_rs\n",
    "pl.plot(xs,yt_vrs[:,200,200])\n",
    "#pl.plot(xs,yt_vxs[200,:,200])\n",
    "#pl.plot(xs,yt_Rs[:,200,200])\n",
    "#pl.plot(xs,yt_Rs[200,:,200])\n",
    "#pl.plot(xs,vphis[200,:,200])\n",
    "#pl.plot(xs,vphis[200,200,:])"
   ]
  },
  {
   "cell_type": "code",
   "execution_count": 625,
   "id": "740aa9c4",
   "metadata": {},
   "outputs": [],
   "source": [
    "n_O = region[(\"PartType0\",\"O_nuclei_density\")]"
   ]
  },
  {
   "cell_type": "code",
   "execution_count": 637,
   "id": "d9600e16",
   "metadata": {},
   "outputs": [],
   "source": [
    "Galaxy_coords = [(float(l.split()[2]),\n",
    "     float(l.split()[3])) for l in open('/Users/jonathanstern/Dropbox/github_repositories/gizmo_analysis/ipynb/subsonic_solution/pyobjs/apj523354t1_ascii.txt').readlines()]"
   ]
  },
  {
   "cell_type": "code",
   "execution_count": 639,
   "id": "2251699d",
   "metadata": {},
   "outputs": [],
   "source": [
    "import scipy, scipy.interpolate\n",
    "center = np.array([0.,0., 0.])\n",
    "sun_offset = np.array([8.,0., 0.])\n",
    "max_ray_length = 108\n",
    "Npoints = 1000\n",
    "dl = ray_length / Npoints\n",
    "start_loc = center+sun_offset\n",
    "avg_vphis = np.zeros(len(Galaxy_coords))\n",
    "avg_vrs   = np.zeros(len(Galaxy_coords))\n",
    "for ib,(l,b) in enumerate(Galaxy_coords):\n",
    "        phi,theta = np.pi-l, np.pi/2-b\n",
    "        unit_vector = np.array([np.sin(theta)*np.cos(phi),np.sin(theta)*np.sin(phi), np.cos(theta)])\n",
    "        end_loc = start_loc + ray_length * unit_vector\n",
    "        points = np.array([(end_loc - start_loc) / Npoints * i for i in np.arange(Npoints)]) + start_loc\n",
    "        points_rs = (points**2).sum(axis=1)**0.5\n",
    "        numerator = (scipy.interpolate.interpn((xs,xs,xs),n_O*yt_vphis*(Ts>1e6),points[points_rs<100])).sum()\n",
    "        denominator = (scipy.interpolate.interpn((xs,xs,xs),n_O*(Ts>1e6),points[points_rs<100])).sum()\n",
    "        avg_vphis[ib] = numerator/denominator\n",
    "        numerator = (scipy.interpolate.interpn((xs,xs,xs),n_O*yt_vrs*(Ts>1e6),points[points_rs<100])).sum()\n",
    "        denominator = (scipy.interpolate.interpn((xs,xs,xs),n_O*(Ts>1e6),points[points_rs<100])).sum()\n",
    "        avg_vrs[ib] = numerator/denominator"
   ]
  },
  {
   "cell_type": "code",
   "execution_count": 644,
   "id": "c4fe5577",
   "metadata": {},
   "outputs": [
    {
     "data": {
      "text/plain": [
       "37"
      ]
     },
     "execution_count": 644,
     "metadata": {},
     "output_type": "execute_result"
    }
   ],
   "source": [
    "len(Galaxy_coords)"
   ]
  },
  {
   "cell_type": "code",
   "execution_count": 643,
   "id": "a40296b8",
   "metadata": {},
   "outputs": [
    {
     "name": "stdout",
     "output_type": "stream",
     "text": [
      "[0.5164808888266262, 0.6203149557387896, 0.6899157946018626]\n",
      "[-0.20731877762858225, -0.09545823460734329, -0.013304445332293508]\n"
     ]
    },
    {
     "data": {
      "image/png": "[encoded data removed]",
      "text/plain": [
       "<Figure size 432x288 with 1 Axes>"
      ]
     },
     "metadata": {
      "needs_background": "light"
     },
     "output_type": "display_data"
    }
   ],
   "source": [
    "pl.plot(avg_vphis); print([np.percentile(avg_vphis,p)/200 for p in (16,50,84)])\n",
    "pl.plot(avg_vrs); print([np.percentile(avg_vrs,p)/200 for p in (16,50,84)])"
   ]
  },
  {
   "cell_type": "code",
   "execution_count": null,
   "id": "fd9d68dd",
   "metadata": {},
   "outputs": [],
   "source": [
    "(3/2*cons.k_B*2e6*un.K *0.62 *cons.m_p / (0.01*un.erg/un.s/un.g)).to('Myr')"
   ]
  },
  {
   "cell_type": "code",
   "execution_count": 648,
   "id": "4a733222",
   "metadata": {},
   "outputs": [
    {
     "data": {
      "text/plain": [
       "(0.0625, 0.08333333333333333, 0.75, 0.17083333333333334)"
      ]
     },
     "execution_count": 648,
     "metadata": {},
     "output_type": "execute_result"
    }
   ],
   "source": [
    "15/240,20/240,180/240,41/240"
   ]
  },
  {
   "cell_type": "code",
   "execution_count": 628,
   "id": "0c5336ee",
   "metadata": {},
   "outputs": [
    {
     "data": {
      "text/plain": [
       "<matplotlib.legend.Legend at 0x7fe39b7ed760>"
      ]
     },
     "execution_count": 628,
     "metadata": {},
     "output_type": "execute_result"
    },
    {
     "data": {
      "image/png": "[encoded data removed]",
      "text/plain": [
       "<Figure size 252x259.2 with 1 Axes>"
      ]
     },
     "metadata": {
      "needs_background": "light"
     },
     "output_type": "display_data"
    }
   ],
   "source": [
    "pl.figure(figsize=(3.5,3.6))\n",
    "ax = pl.subplot(111)\n",
    "pl.subplots_adjust(left=0.17)\n",
    "for isim,ds in enumerate(dss[:1]):\n",
    "    for il,l in enumerate(ls[:]):\n",
    "        pl.plot(bs/np.pi*180,avg_vphis[l],label=r'$l=%d$'%(l/np.pi*180),\n",
    "                lw=(1,0.5)[isim],ls=('-',':')[isim],c=pl.get_cmap('viridis')(il/len(ls)))\n",
    "pl.xlabel(r'${\\rm Galactic~latitude}\\ b$')\n",
    "pl.ylabel(r'${\\rm rotation~velocity}$')\n",
    "ax.xaxis.set_major_locator(ticker.MultipleLocator(10))\n",
    "pl.legend(frameon=False)\n",
    "#pl.ylim(12,18)\n",
    "#pl.savefig(figdir+'FRB_DM.pdf')"
   ]
  },
  {
   "cell_type": "code",
   "execution_count": 629,
   "id": "cbbf1d87",
   "metadata": {},
   "outputs": [
    {
     "data": {
      "text/plain": [
       "<matplotlib.legend.Legend at 0x7fe2d97116a0>"
      ]
     },
     "execution_count": 629,
     "metadata": {},
     "output_type": "execute_result"
    },
    {
     "data": {
      "image/png": "[encoded data removed]",
      "text/plain": [
       "<Figure size 252x259.2 with 1 Axes>"
      ]
     },
     "metadata": {
      "needs_background": "light"
     },
     "output_type": "display_data"
    }
   ],
   "source": [
    "pl.figure(figsize=(3.5,3.6))\n",
    "ax = pl.subplot(111)\n",
    "pl.subplots_adjust(left=0.17)\n",
    "for isim,ds in enumerate(dss[:1]):\n",
    "    for il,l in enumerate(ls[:]):\n",
    "        pl.plot(bs/np.pi*180,avg_vrs[l],label=r'$l=%d$'%(l/np.pi*180),\n",
    "                lw=(1,0.5)[isim],ls=('-',':')[isim],c=pl.get_cmap('viridis')(il/len(ls)))\n",
    "pl.xlabel(r'${\\rm Galactic~latitude}\\ b$')\n",
    "pl.ylabel(r'${\\rm rotation~velocity}$')\n",
    "ax.xaxis.set_major_locator(ticker.MultipleLocator(10))\n",
    "pl.legend(frameon=False)\n",
    "#pl.ylim(12,18)\n",
    "#pl.savefig(figdir+'FRB_DM.pdf')"
   ]
  },
  {
   "cell_type": "markdown",
   "id": "5a49cd79",
   "metadata": {},
   "source": [
    "# FRB columns"
   ]
  },
  {
   "cell_type": "code",
   "execution_count": 454,
   "id": "b58818dd",
   "metadata": {},
   "outputs": [
    {
     "name": "stderr",
     "output_type": "stream",
     "text": [
      "yt : [INFO     ] 2023-11-16 18:34:07,084 Omega Lambda is 0.0, so we are turning off Cosmology.\n",
      "yt : [INFO     ] 2023-11-16 18:34:07,084 Assuming length units are in kpc (physical)\n",
      "yt : [INFO     ] 2023-11-16 18:34:07,117 Parameters: current_time              = 3.5499999672174454\n",
      "yt : [INFO     ] 2023-11-16 18:34:07,118 Parameters: domain_dimensions         = [1 1 1]\n",
      "yt : [INFO     ] 2023-11-16 18:34:07,118 Parameters: domain_left_edge          = None\n",
      "yt : [INFO     ] 2023-11-16 18:34:07,119 Parameters: domain_right_edge         = None\n",
      "yt : [INFO     ] 2023-11-16 18:34:07,119 Parameters: cosmological_simulation   = 0\n",
      "yt : [INFO     ] 2023-11-16 18:34:07,133 Omega Lambda is 0.0, so we are turning off Cosmology.\n",
      "yt : [INFO     ] 2023-11-16 18:34:07,134 Assuming length units are in kpc (physical)\n",
      "yt : [INFO     ] 2023-11-16 18:34:07,160 Parameters: current_time              = 1.549999974668026\n",
      "yt : [INFO     ] 2023-11-16 18:34:07,160 Parameters: domain_dimensions         = [1 1 1]\n",
      "yt : [INFO     ] 2023-11-16 18:34:07,160 Parameters: domain_left_edge          = None\n",
      "yt : [INFO     ] 2023-11-16 18:34:07,161 Parameters: domain_right_edge         = None\n",
      "yt : [INFO     ] 2023-11-16 18:34:07,161 Parameters: cosmological_simulation   = 0\n"
     ]
    }
   ],
   "source": [
    "ds_MW = yt.load(directory+\"snapshot_071.hdf5\")\n",
    "ds_Rcirc10 = yt.load(directory+\"snapshot_155.hdf5\")\n",
    "xs = np.linspace(-100,100,400)\n"
   ]
  },
  {
   "cell_type": "code",
   "execution_count": 455,
   "id": "2f68f8aa",
   "metadata": {
    "scrolled": true
   },
   "outputs": [
    {
     "name": "stderr",
     "output_type": "stream",
     "text": [
      "yt : [INFO     ] 2023-11-16 18:34:07,612 Allocating for 3.145e+07 particles\n",
      "yt : [INFO     ] 2023-11-16 18:34:07,613 Bounding box cannot be inferred from metadata, reading particle positions to infer bounding box\n",
      "yt : [INFO     ] 2023-11-16 18:34:08,986 Load this dataset with bounding_box=[[-3662.6862793  -3697.77832031 -3762.37280273], [3698.10742188 3690.14379883 3575.0012207 ]] to avoid I/O overhead from inferring bounding_box.\n",
      "Loading particle index: 100%|████████████████████████████████████████████████████| 118/118 [00:00<00:00, 7027.93it/s]\n",
      "Interpolating SPH field ('PartType0', 'El_number_density'): 48900000it [01:04, 753971.21it/s] \n",
      "Interpolating SPH field ('PartType0', 'Temperature'): 48900000it [01:03, 771310.68it/s] \n"
     ]
    }
   ],
   "source": [
    "ds = ds_MW\n",
    "region = ds.r[-100:100:400j, -100:100:400j, -100:100:400j]\n",
    "n_elec = region[(\"gas\",\"El_number_density\")]\n",
    "Ts = region[(\"gas\",\"temperature\")]"
   ]
  },
  {
   "cell_type": "code",
   "execution_count": 587,
   "id": "0ceb747a",
   "metadata": {},
   "outputs": [
    {
     "name": "stderr",
     "output_type": "stream",
     "text": [
      "yt : [INFO     ] 2023-11-22 15:25:26,680 Allocating for 1.454e+07 particles\n",
      "yt : [INFO     ] 2023-11-22 15:25:26,681 Bounding box cannot be inferred from metadata, reading particle positions to infer bounding box\n",
      "yt : [INFO     ] 2023-11-22 15:25:27,308 Load this dataset with bounding_box=[[-3165.59423828 -3187.40966797 -3187.77880859], [3198.11303711 3098.51245117 3261.50488281]] to avoid I/O overhead from inferring bounding_box.\n",
      "\n",
      "Loading particle index: 100%|████████████████████████████████████████████████████| 43/43 [00:00<00:00, 8678.01it/s]\u001b[A\n",
      "\n",
      "Interpolating SPH field ('PartType0', 'El_number_density'): 0it [00:00, ?it/s]\u001b[A\n",
      "Interpolating SPH field ('PartType0', 'El_number_density'): 50000it [00:00, 484816.65it/s]\u001b[A\n",
      "Interpolating SPH field ('PartType0', 'El_number_density'): 150000it [00:00, 542060.97it/s]\u001b[A\n",
      "Interpolating SPH field ('PartType0', 'El_number_density'): 250000it [00:00, 442053.91it/s]\u001b[A\n",
      "Interpolating SPH field ('PartType0', 'El_number_density'): 300000it [00:00, 368764.91it/s]\u001b[A\n",
      "Interpolating SPH field ('PartType0', 'El_number_density'): 450000it [00:00, 512304.63it/s]\u001b[A\n",
      "Interpolating SPH field ('PartType0', 'El_number_density'): 550000it [00:01, 446684.10it/s]\u001b[A\n",
      "Interpolating SPH field ('PartType0', 'El_number_density'): 600000it [00:01, 383065.23it/s]\u001b[A\n",
      "Interpolating SPH field ('PartType0', 'El_number_density'): 700000it [00:01, 420253.67it/s]\u001b[A\n",
      "Interpolating SPH field ('PartType0', 'El_number_density'): 800000it [00:01, 510195.68it/s]\u001b[A\n",
      "Interpolating SPH field ('PartType0', 'El_number_density'): 1000000it [00:01, 735138.56it/s]\u001b[A\n",
      "Interpolating SPH field ('PartType0', 'El_number_density'): 1100000it [00:02, 757469.15it/s]\u001b[A\n",
      "Interpolating SPH field ('PartType0', 'El_number_density'): 1250000it [00:02, 896021.91it/s]\u001b[A\n",
      "Interpolating SPH field ('PartType0', 'El_number_density'): 1350000it [00:02, 637844.49it/s]\u001b[A\n",
      "Interpolating SPH field ('PartType0', 'El_number_density'): 1500000it [00:02, 563558.28it/s]\u001b[A\n",
      "Interpolating SPH field ('PartType0', 'El_number_density'): 1600000it [00:03, 477354.17it/s]\u001b[A\n",
      "Interpolating SPH field ('PartType0', 'El_number_density'): 1700000it [00:03, 552384.67it/s]\u001b[A\n",
      "Interpolating SPH field ('PartType0', 'El_number_density'): 1800000it [00:03, 417672.10it/s]\u001b[A\n",
      "Interpolating SPH field ('PartType0', 'El_number_density'): 1900000it [00:03, 417866.74it/s]\u001b[A\n",
      "Interpolating SPH field ('PartType0', 'El_number_density'): 2000000it [00:03, 458829.00it/s]\u001b[A\n",
      "Interpolating SPH field ('PartType0', 'El_number_density'): 2150000it [00:04, 598186.76it/s]\u001b[A\n",
      "Interpolating SPH field ('PartType0', 'El_number_density'): 2250000it [00:04, 535380.74it/s]\u001b[A\n",
      "Interpolating SPH field ('PartType0', 'El_number_density'): 2350000it [00:04, 499228.65it/s]\u001b[A\n",
      "Interpolating SPH field ('PartType0', 'El_number_density'): 2450000it [00:04, 552354.51it/s]\u001b[A\n",
      "Interpolating SPH field ('PartType0', 'El_number_density'): 2550000it [00:05, 442619.60it/s]\u001b[A\n",
      "Interpolating SPH field ('PartType0', 'El_number_density'): 2650000it [00:05, 487338.68it/s]\u001b[A\n",
      "Interpolating SPH field ('PartType0', 'El_number_density'): 2750000it [00:05, 493254.92it/s]\u001b[A\n",
      "Interpolating SPH field ('PartType0', 'El_number_density'): 2850000it [00:05, 425704.55it/s]\u001b[A\n",
      "Interpolating SPH field ('PartType0', 'El_number_density'): 2950000it [00:05, 403150.57it/s]\u001b[A\n",
      "Interpolating SPH field ('PartType0', 'El_number_density'): 3000000it [00:06, 368440.19it/s]\u001b[A\n",
      "Interpolating SPH field ('PartType0', 'El_number_density'): 3150000it [00:06, 536615.36it/s]\u001b[A\n",
      "Interpolating SPH field ('PartType0', 'El_number_density'): 3250000it [00:06, 385584.88it/s]\u001b[A\n",
      "Interpolating SPH field ('PartType0', 'El_number_density'): 3350000it [00:06, 445235.41it/s]\u001b[A\n",
      "Interpolating SPH field ('PartType0', 'El_number_density'): 3450000it [00:06, 509360.17it/s]\u001b[A\n",
      "Interpolating SPH field ('PartType0', 'El_number_density'): 3550000it [00:07, 415554.39it/s]\u001b[A\n",
      "Interpolating SPH field ('PartType0', 'El_number_density'): 3650000it [00:07, 433271.54it/s]\u001b[A\n",
      "Interpolating SPH field ('PartType0', 'El_number_density'): 3750000it [00:07, 413991.25it/s]\u001b[A\n",
      "Interpolating SPH field ('PartType0', 'El_number_density'): 3800000it [00:07, 416518.39it/s]\u001b[A\n",
      "Interpolating SPH field ('PartType0', 'El_number_density'): 3850000it [00:08, 369846.19it/s]\u001b[A\n",
      "Interpolating SPH field ('PartType0', 'El_number_density'): 3950000it [00:08, 385900.38it/s]\u001b[A\n",
      "Interpolating SPH field ('PartType0', 'El_number_density'): 4050000it [00:08, 451763.01it/s]\u001b[A\n",
      "Interpolating SPH field ('PartType0', 'El_number_density'): 4200000it [00:08, 604106.64it/s]\u001b[A\n",
      "Interpolating SPH field ('PartType0', 'El_number_density'): 4300000it [00:08, 581949.91it/s]\u001b[A\n",
      "Interpolating SPH field ('PartType0', 'El_number_density'): 4400000it [00:08, 601843.13it/s]\u001b[A\n",
      "Interpolating SPH field ('PartType0', 'El_number_density'): 4500000it [00:09, 473070.95it/s]\u001b[A\n",
      "Interpolating SPH field ('PartType0', 'El_number_density'): 4600000it [00:09, 532789.65it/s]\u001b[A\n",
      "Interpolating SPH field ('PartType0', 'El_number_density'): 4750000it [00:09, 511840.57it/s]\u001b[A\n",
      "Interpolating SPH field ('PartType0', 'El_number_density'): 4850000it [00:09, 562463.88it/s]\u001b[A\n",
      "Interpolating SPH field ('PartType0', 'El_number_density'): 4950000it [00:10, 578381.70it/s]\u001b[A\n",
      "Interpolating SPH field ('PartType0', 'El_number_density'): 5050000it [00:10, 538153.07it/s]\u001b[A\n",
      "Interpolating SPH field ('PartType0', 'El_number_density'): 5150000it [00:10, 438963.72it/s]\u001b[A\n",
      "Interpolating SPH field ('PartType0', 'El_number_density'): 5300000it [00:10, 506718.30it/s]\u001b[A\n",
      "Interpolating SPH field ('PartType0', 'El_number_density'): 5450000it [00:11, 446482.41it/s]\u001b[A\n",
      "Interpolating SPH field ('PartType0', 'El_number_density'): 5550000it [00:11, 483994.00it/s]\u001b[A\n",
      "Interpolating SPH field ('PartType0', 'El_number_density'): 5700000it [00:11, 495022.32it/s]\u001b[A\n",
      "Interpolating SPH field ('PartType0', 'El_number_density'): 5800000it [00:11, 445543.54it/s]\u001b[A\n",
      "Interpolating SPH field ('PartType0', 'El_number_density'): 5950000it [00:12, 466012.63it/s]\u001b[A\n",
      "Interpolating SPH field ('PartType0', 'El_number_density'): 6050000it [00:12, 387974.41it/s]\u001b[A\n",
      "Interpolating SPH field ('PartType0', 'El_number_density'): 6150000it [00:12, 386426.35it/s]\u001b[A\n",
      "Interpolating SPH field ('PartType0', 'El_number_density'): 6250000it [00:12, 463575.38it/s]\u001b[A\n",
      "Interpolating SPH field ('PartType0', 'El_number_density'): 6350000it [00:13, 489239.34it/s]\u001b[A\n",
      "Interpolating SPH field ('PartType0', 'El_number_density'): 6450000it [00:13, 481484.40it/s]\u001b[A\n",
      "Interpolating SPH field ('PartType0', 'El_number_density'): 6550000it [00:13, 436975.29it/s]\u001b[A\n",
      "Interpolating SPH field ('PartType0', 'El_number_density'): 6600000it [00:13, 445668.97it/s]\u001b[A\n",
      "Interpolating SPH field ('PartType0', 'El_number_density'): 6700000it [00:13, 471710.04it/s]\u001b[A\n",
      "Interpolating SPH field ('PartType0', 'El_number_density'): 6800000it [00:14, 482131.88it/s]\u001b[A\n",
      "Interpolating SPH field ('PartType0', 'El_number_density'): 6900000it [00:14, 568319.21it/s]\u001b[A\n",
      "Interpolating SPH field ('PartType0', 'El_number_density'): 7000000it [00:14, 556911.28it/s]\u001b[A\n",
      "Interpolating SPH field ('PartType0', 'El_number_density'): 7100000it [00:14, 538055.78it/s]\u001b[A\n",
      "Interpolating SPH field ('PartType0', 'El_number_density'): 7200000it [00:14, 508489.01it/s]\u001b[A\n",
      "Interpolating SPH field ('PartType0', 'El_number_density'): 7300000it [00:15, 432682.26it/s]\u001b[A\n",
      "Interpolating SPH field ('PartType0', 'El_number_density'): 7400000it [00:15, 386397.59it/s]\u001b[A\n",
      "Interpolating SPH field ('PartType0', 'El_number_density'): 7450000it [00:15, 382309.12it/s]\u001b[A\n",
      "Interpolating SPH field ('PartType0', 'El_number_density'): 7550000it [00:15, 359950.24it/s]\u001b[A\n",
      "Interpolating SPH field ('PartType0', 'El_number_density'): 7650000it [00:16, 315116.51it/s]\u001b[A\n",
      "Interpolating SPH field ('PartType0', 'El_number_density'): 7750000it [00:16, 341276.31it/s]\u001b[A\n",
      "Interpolating SPH field ('PartType0', 'El_number_density'): 7800000it [00:16, 361269.60it/s]\u001b[A\n",
      "Interpolating SPH field ('PartType0', 'El_number_density'): 7850000it [00:16, 370875.92it/s]\u001b[A\n",
      "Interpolating SPH field ('PartType0', 'El_number_density'): 7900000it [00:16, 326956.25it/s]\u001b[A\n",
      "Interpolating SPH field ('PartType0', 'El_number_density'): 8000000it [00:17, 356505.29it/s]\u001b[A\n",
      "Interpolating SPH field ('PartType0', 'El_number_density'): 8050000it [00:17, 376589.58it/s]\u001b[A\n",
      "Interpolating SPH field ('PartType0', 'El_number_density'): 8100000it [00:17, 383416.81it/s]\u001b[A\n",
      "Interpolating SPH field ('PartType0', 'El_number_density'): 8150000it [00:17, 290962.08it/s]\u001b[A\n",
      "Interpolating SPH field ('PartType0', 'El_number_density'): 8200000it [00:17, 321881.03it/s]\u001b[A\n",
      "Interpolating SPH field ('PartType0', 'El_number_density'): 8300000it [00:17, 434470.05it/s]\u001b[A\n",
      "Interpolating SPH field ('PartType0', 'El_number_density'): 8350000it [00:18, 320637.26it/s]\u001b[A\n",
      "Interpolating SPH field ('PartType0', 'El_number_density'): 8450000it [00:18, 398276.94it/s]\u001b[A\n",
      "Interpolating SPH field ('PartType0', 'El_number_density'): 8550000it [00:18, 488641.00it/s]\u001b[A\n",
      "Interpolating SPH field ('PartType0', 'El_number_density'): 8650000it [00:18, 359094.25it/s]\u001b[A\n",
      "Interpolating SPH field ('PartType0', 'El_number_density'): 8850000it [00:19, 516395.74it/s]\u001b[A\n",
      "Interpolating SPH field ('PartType0', 'El_number_density'): 8950000it [00:19, 495419.17it/s]\u001b[A\n",
      "Interpolating SPH field ('PartType0', 'El_number_density'): 9100000it [00:19, 575296.67it/s]\u001b[A\n",
      "Interpolating SPH field ('PartType0', 'El_number_density'): 9200000it [00:20, 436191.40it/s]\u001b[A\n",
      "Interpolating SPH field ('PartType0', 'El_number_density'): 9300000it [00:20, 502472.75it/s]\u001b[A\n",
      "Interpolating SPH field ('PartType0', 'El_number_density'): 9400000it [00:20, 537300.96it/s]\u001b[A\n",
      "Interpolating SPH field ('PartType0', 'El_number_density'): 9500000it [00:20, 522349.17it/s]\u001b[A\n",
      "Interpolating SPH field ('PartType0', 'El_number_density'): 9650000it [00:20, 542780.09it/s]\u001b[A\n",
      "Interpolating SPH field ('PartType0', 'El_number_density'): 9750000it [00:20, 525326.21it/s]\u001b[A\n",
      "Interpolating SPH field ('PartType0', 'El_number_density'): 9850000it [00:21, 485957.12it/s]\u001b[A\n",
      "Interpolating SPH field ('PartType0', 'El_number_density'): 9950000it [00:21, 411158.73it/s]\u001b[A\n",
      "Interpolating SPH field ('PartType0', 'El_number_density'): 10050000it [00:21, 416068.91it/s]\u001b[A\n",
      "Interpolating SPH field ('PartType0', 'El_number_density'): 10150000it [00:22, 393016.20it/s]\u001b[A\n",
      "Interpolating SPH field ('PartType0', 'El_number_density'): 10300000it [00:22, 408711.63it/s]\u001b[A\n",
      "Interpolating SPH field ('PartType0', 'El_number_density'): 10350000it [00:22, 389006.57it/s]\u001b[A\n",
      "Interpolating SPH field ('PartType0', 'El_number_density'): 10400000it [00:22, 401329.28it/s]\u001b[A\n",
      "Interpolating SPH field ('PartType0', 'El_number_density'): 10550000it [00:23, 417884.12it/s]\u001b[A\n",
      "Interpolating SPH field ('PartType0', 'El_number_density'): 10600000it [00:23, 394855.64it/s]\u001b[A\n",
      "Interpolating SPH field ('PartType0', 'El_number_density'): 10650000it [00:23, 362406.02it/s]\u001b[A\n",
      "Interpolating SPH field ('PartType0', 'El_number_density'): 10850000it [00:23, 389232.20it/s]\u001b[A\n",
      "Interpolating SPH field ('PartType0', 'El_number_density'): 10900000it [00:24, 328586.70it/s]\u001b[A\n",
      "Interpolating SPH field ('PartType0', 'El_number_density'): 11100000it [00:24, 365892.26it/s]\u001b[A\n",
      "Interpolating SPH field ('PartType0', 'El_number_density'): 11150000it [00:24, 296031.54it/s]\u001b[A\n",
      "Interpolating SPH field ('PartType0', 'El_number_density'): 11200000it [00:25, 294829.80it/s]\u001b[A\n",
      "Interpolating SPH field ('PartType0', 'El_number_density'): 11350000it [00:25, 440300.07it/s]\u001b[A\n",
      "Interpolating SPH field ('PartType0', 'El_number_density'): 11450000it [00:25, 437391.37it/s]\u001b[A\n",
      "Interpolating SPH field ('PartType0', 'El_number_density'): 11600000it [00:25, 590077.62it/s]\u001b[A\n",
      "Interpolating SPH field ('PartType0', 'El_number_density'): 11700000it [00:25, 532544.94it/s]\u001b[A\n",
      "Interpolating SPH field ('PartType0', 'El_number_density'): 11800000it [00:25, 538901.90it/s]\u001b[A\n",
      "Interpolating SPH field ('PartType0', 'El_number_density'): 11900000it [00:26, 543300.52it/s]\u001b[A\n",
      "Interpolating SPH field ('PartType0', 'El_number_density'): 12000000it [00:26, 563600.90it/s]\u001b[A\n",
      "Interpolating SPH field ('PartType0', 'El_number_density'): 12100000it [00:26, 483141.47it/s]\u001b[A\n",
      "Interpolating SPH field ('PartType0', 'El_number_density'): 12200000it [00:26, 466315.86it/s]\u001b[A\n",
      "Interpolating SPH field ('PartType0', 'El_number_density'): 12300000it [00:26, 506905.71it/s]\u001b[A\n",
      "Interpolating SPH field ('PartType0', 'El_number_density'): 12400000it [00:27, 531088.71it/s]\u001b[A\n",
      "Interpolating SPH field ('PartType0', 'El_number_density'): 12500000it [00:27, 499181.87it/s]\u001b[A\n",
      "Interpolating SPH field ('PartType0', 'El_number_density'): 12600000it [00:27, 525308.96it/s]\u001b[A\n",
      "Interpolating SPH field ('PartType0', 'El_number_density'): 12700000it [00:27, 502963.25it/s]\u001b[A\n",
      "Interpolating SPH field ('PartType0', 'El_number_density'): 12800000it [00:27, 523317.13it/s]\u001b[A\n",
      "Interpolating SPH field ('PartType0', 'El_number_density'): 12900000it [00:28, 428528.02it/s]\u001b[A\n",
      "Interpolating SPH field ('PartType0', 'El_number_density'): 13000000it [00:28, 484512.22it/s]\u001b[A\n",
      "Interpolating SPH field ('PartType0', 'El_number_density'): 13100000it [00:28, 439622.53it/s]\u001b[A\n",
      "Interpolating SPH field ('PartType0', 'El_number_density'): 13150000it [00:28, 372388.79it/s]\u001b[A\n",
      "Interpolating SPH field ('PartType0', 'El_number_density'): 13300000it [00:29, 521486.61it/s]\u001b[A\n",
      "Interpolating SPH field ('PartType0', 'El_number_density'): 13500000it [00:29, 712822.88it/s]\u001b[A\n",
      "Interpolating SPH field ('PartType0', 'El_number_density'): 13650000it [00:29, 744901.80it/s]\u001b[A\n",
      "Interpolating SPH field ('PartType0', 'El_number_density'): 13750000it [00:29, 647123.24it/s]\u001b[A\n",
      "Interpolating SPH field ('PartType0', 'El_number_density'): 13850000it [00:29, 536487.31it/s]\u001b[A\n",
      "Interpolating SPH field ('PartType0', 'El_number_density'): 13950000it [00:30, 462151.68it/s]\u001b[A\n",
      "Interpolating SPH field ('PartType0', 'El_number_density'): 14050000it [00:30, 424937.67it/s]\u001b[A\n",
      "Interpolating SPH field ('PartType0', 'El_number_density'): 14150000it [00:30, 423250.69it/s]\u001b[A\n",
      "Interpolating SPH field ('PartType0', 'El_number_density'): 14200000it [00:30, 384800.13it/s]\u001b[A\n",
      "Interpolating SPH field ('PartType0', 'El_number_density'): 14250000it [00:31, 277579.19it/s]\u001b[A\n",
      "Interpolating SPH field ('PartType0', 'El_number_density'): 14350000it [00:31, 323925.50it/s]\u001b[A\n",
      "Interpolating SPH field ('PartType0', 'El_number_density'): 14400000it [00:31, 337783.59it/s]\u001b[A\n",
      "Interpolating SPH field ('PartType0', 'El_number_density'): 14450000it [00:31, 318137.80it/s]\u001b[A\n",
      "Interpolating SPH field ('PartType0', 'El_number_density'): 14500000it [00:32, 231705.72it/s]\u001b[A\n",
      "Interpolating SPH field ('PartType0', 'El_number_density'): 14600000it [00:32, 289742.79it/s]\u001b[A\n",
      "Interpolating SPH field ('PartType0', 'El_number_density'): 14650000it [00:32, 279098.13it/s]\u001b[A\n",
      "Interpolating SPH field ('PartType0', 'El_number_density'): 14700000it [00:32, 284546.98it/s]\u001b[A\n",
      "Interpolating SPH field ('PartType0', 'El_number_density'): 14800000it [00:32, 373092.90it/s]\u001b[A\n",
      "Interpolating SPH field ('PartType0', 'El_number_density'): 14850000it [00:33, 321656.90it/s]\u001b[A\n",
      "Interpolating SPH field ('PartType0', 'El_number_density'): 14950000it [00:33, 353009.86it/s]\u001b[A\n",
      "Interpolating SPH field ('PartType0', 'El_number_density'): 15050000it [00:33, 427011.32it/s]\u001b[A\n",
      "Interpolating SPH field ('PartType0', 'El_number_density'): 15100000it [00:33, 357648.44it/s]\u001b[A\n",
      "Interpolating SPH field ('PartType0', 'El_number_density'): 15150000it [00:33, 349009.14it/s]\u001b[A\n",
      "Interpolating SPH field ('PartType0', 'El_number_density'): 15200000it [00:34, 361169.87it/s]\u001b[A\n",
      "Interpolating SPH field ('PartType0', 'El_number_density'): 15300000it [00:34, 391719.99it/s]\u001b[A\n",
      "Interpolating SPH field ('PartType0', 'El_number_density'): 15350000it [00:34, 345375.62it/s]\u001b[A\n",
      "Interpolating SPH field ('PartType0', 'El_number_density'): 15450000it [00:34, 428139.58it/s]\u001b[A\n",
      "Interpolating SPH field ('PartType0', 'El_number_density'): 15550000it [00:34, 431621.89it/s]\u001b[A\n",
      "Interpolating SPH field ('PartType0', 'El_number_density'): 15600000it [00:35, 373819.83it/s]\u001b[A\n",
      "Interpolating SPH field ('PartType0', 'El_number_density'): 15650000it [00:35, 392430.36it/s]\u001b[A\n",
      "Interpolating SPH field ('PartType0', 'El_number_density'): 15750000it [00:35, 313130.37it/s]\u001b[A\n"
     ]
    },
    {
     "name": "stderr",
     "output_type": "stream",
     "text": [
      "Interpolating SPH field ('PartType0', 'El_number_density'): 15850000it [00:35, 335495.18it/s]\u001b[A\n",
      "Interpolating SPH field ('PartType0', 'El_number_density'): 15950000it [00:36, 416296.05it/s]\u001b[A\n",
      "Interpolating SPH field ('PartType0', 'El_number_density'): 16000000it [00:36, 304903.40it/s]\u001b[A\n",
      "Interpolating SPH field ('PartType0', 'El_number_density'): 16100000it [00:36, 329584.16it/s]\u001b[A\n",
      "Interpolating SPH field ('PartType0', 'El_number_density'): 16150000it [00:36, 339867.24it/s]\u001b[A\n",
      "Interpolating SPH field ('PartType0', 'El_number_density'): 16200000it [00:36, 296888.63it/s]\u001b[A\n",
      "Interpolating SPH field ('PartType0', 'El_number_density'): 16300000it [00:37, 378244.77it/s]\u001b[A\n",
      "Interpolating SPH field ('PartType0', 'El_number_density'): 16400000it [00:37, 391524.76it/s]\u001b[A\n",
      "Interpolating SPH field ('PartType0', 'El_number_density'): 16450000it [00:37, 331502.51it/s]\u001b[A\n",
      "Interpolating SPH field ('PartType0', 'El_number_density'): 16550000it [00:37, 405823.41it/s]\u001b[A\n",
      "Interpolating SPH field ('PartType0', 'El_number_density'): 16650000it [00:38, 369531.87it/s]\u001b[A\n",
      "Interpolating SPH field ('PartType0', 'El_number_density'): 16750000it [00:38, 349057.74it/s]\u001b[A\n",
      "Interpolating SPH field ('PartType0', 'El_number_density'): 16850000it [00:38, 399218.37it/s]\u001b[A\n",
      "Interpolating SPH field ('PartType0', 'El_number_density'): 17000000it [00:38, 401214.41it/s]\u001b[A\n",
      "Interpolating SPH field ('PartType0', 'El_number_density'): 17100000it [00:39, 438190.87it/s]\u001b[A\n",
      "Interpolating SPH field ('PartType0', 'El_number_density'): 17150000it [00:39, 428700.08it/s]\u001b[A\n",
      "Interpolating SPH field ('PartType0', 'El_number_density'): 17250000it [00:39, 512357.95it/s]\u001b[A\n",
      "Interpolating SPH field ('PartType0', 'El_number_density'): 17400000it [00:39, 699109.37it/s]\u001b[A\n",
      "Interpolating SPH field ('PartType0', 'El_number_density'): 17500000it [00:39, 738371.21it/s]\u001b[A\n",
      "Interpolating SPH field ('PartType0', 'El_number_density'): 17650000it [00:39, 777576.92it/s]\u001b[A\n",
      "Interpolating SPH field ('PartType0', 'El_number_density'): 17750000it [00:39, 669602.61it/s]\u001b[A\n",
      "Interpolating SPH field ('PartType0', 'El_number_density'): 17850000it [00:40, 495881.29it/s]\u001b[A\n",
      "Interpolating SPH field ('PartType0', 'El_number_density'): 18000000it [00:40, 550331.29it/s]\u001b[A\n",
      "Interpolating SPH field ('PartType0', 'El_number_density'): 18100000it [00:40, 450265.88it/s]\u001b[A\n",
      "Interpolating SPH field ('PartType0', 'El_number_density'): 18200000it [00:41, 396175.34it/s]\u001b[A\n",
      "Interpolating SPH field ('PartType0', 'El_number_density'): 18250000it [00:41, 369524.25it/s]\u001b[A\n",
      "Interpolating SPH field ('PartType0', 'El_number_density'): 18300000it [00:41, 382364.78it/s]\u001b[A\n",
      "Interpolating SPH field ('PartType0', 'El_number_density'): 18450000it [00:41, 411771.74it/s]\u001b[A\n",
      "Interpolating SPH field ('PartType0', 'El_number_density'): 18500000it [00:42, 375677.18it/s]\u001b[A\n",
      "Interpolating SPH field ('PartType0', 'El_number_density'): 18550000it [00:42, 389427.20it/s]\u001b[A\n",
      "Interpolating SPH field ('PartType0', 'El_number_density'): 18650000it [00:42, 453836.75it/s]\u001b[A\n",
      "Interpolating SPH field ('PartType0', 'El_number_density'): 18700000it [00:42, 420440.62it/s]\u001b[A\n",
      "Interpolating SPH field ('PartType0', 'El_number_density'): 18850000it [00:42, 365287.98it/s]\u001b[A\n",
      "Interpolating SPH field ('PartType0', 'El_number_density'): 18950000it [00:43, 401351.72it/s]\u001b[A\n",
      "Interpolating SPH field ('PartType0', 'El_number_density'): 19100000it [00:43, 367967.21it/s]\u001b[A\n",
      "Interpolating SPH field ('PartType0', 'El_number_density'): 19150000it [00:43, 374916.95it/s]\u001b[A\n",
      "Interpolating SPH field ('PartType0', 'El_number_density'): 19250000it [00:43, 427300.19it/s]\u001b[A\n",
      "Interpolating SPH field ('PartType0', 'El_number_density'): 19300000it [00:44, 396812.82it/s]\u001b[A\n",
      "Interpolating SPH field ('PartType0', 'El_number_density'): 19350000it [00:44, 389328.66it/s]\u001b[A\n",
      "Interpolating SPH field ('PartType0', 'El_number_density'): 19500000it [00:44, 559404.73it/s]\u001b[A\n",
      "Interpolating SPH field ('PartType0', 'El_number_density'): 19600000it [00:44, 515013.74it/s]\u001b[A\n",
      "Interpolating SPH field ('PartType0', 'El_number_density'): 19700000it [00:44, 531029.15it/s]\u001b[A\n",
      "Interpolating SPH field ('PartType0', 'El_number_density'): 19800000it [00:44, 576928.86it/s]\u001b[A\n",
      "Interpolating SPH field ('PartType0', 'El_number_density'): 19900000it [00:45, 497494.73it/s]\u001b[A\n",
      "Interpolating SPH field ('PartType0', 'El_number_density'): 20000000it [00:45, 438589.82it/s]\u001b[A\n",
      "Interpolating SPH field ('PartType0', 'El_number_density'): 20150000it [00:45, 519113.62it/s]\u001b[A\n",
      "Interpolating SPH field ('PartType0', 'El_number_density'): 20250000it [00:45, 421422.85it/s]\u001b[A\n",
      "Interpolating SPH field ('PartType0', 'El_number_density'): 20350000it [00:46, 484216.99it/s]\u001b[A\n",
      "Interpolating SPH field ('PartType0', 'El_number_density'): 20450000it [00:46, 382413.53it/s]\u001b[A\n",
      "Interpolating SPH field ('PartType0', 'El_number_density'): 20500000it [00:46, 351120.02it/s]\u001b[A\n",
      "Interpolating SPH field ('PartType0', 'El_number_density'): 20550000it [00:46, 338171.01it/s]\u001b[A\n",
      "Interpolating SPH field ('PartType0', 'El_number_density'): 20700000it [00:47, 349633.50it/s]\u001b[A\n",
      "Interpolating SPH field ('PartType0', 'El_number_density'): 20750000it [00:47, 325955.17it/s]\u001b[A\n",
      "Interpolating SPH field ('PartType0', 'El_number_density'): 20800000it [00:47, 318320.31it/s]\u001b[A\n",
      "Interpolating SPH field ('PartType0', 'El_number_density'): 20900000it [00:47, 412854.43it/s]\u001b[A\n",
      "Interpolating SPH field ('PartType0', 'El_number_density'): 21050000it [00:47, 503801.29it/s]\u001b[A\n",
      "Interpolating SPH field ('PartType0', 'El_number_density'): 21200000it [00:48, 622963.42it/s]\u001b[A\n",
      "Interpolating SPH field ('PartType0', 'El_number_density'): 21300000it [00:48, 643784.07it/s]\u001b[A\n",
      "Interpolating SPH field ('PartType0', 'El_number_density'): 21400000it [00:48, 508331.99it/s]\u001b[A\n",
      "Interpolating SPH field ('PartType0', 'El_number_density'): 21500000it [00:48, 557245.55it/s]\u001b[A\n",
      "Interpolating SPH field ('PartType0', 'El_number_density'): 21600000it [00:49, 382552.26it/s]\u001b[A\n",
      "Interpolating SPH field ('PartType0', 'El_number_density'): 21700000it [00:49, 370372.01it/s]\u001b[A\n",
      "Interpolating SPH field ('PartType0', 'El_number_density'): 21800000it [00:49, 313209.37it/s]\u001b[A\n",
      "Interpolating SPH field ('PartType0', 'El_number_density'): 21850000it [00:49, 334850.53it/s]\u001b[A\n",
      "Interpolating SPH field ('PartType0', 'El_number_density'): 22100000it [00:50, 438373.34it/s]\u001b[A\n",
      "\n",
      "Interpolating SPH field ('PartType0', 'Temperature'): 0it [00:00, ?it/s]\u001b[A\n",
      "Interpolating SPH field ('PartType0', 'Temperature'): 150000it [00:00, 601919.00it/s]\u001b[A\n",
      "Interpolating SPH field ('PartType0', 'Temperature'): 250000it [00:00, 452553.54it/s]\u001b[A\n",
      "Interpolating SPH field ('PartType0', 'Temperature'): 300000it [00:00, 369062.44it/s]\u001b[A\n",
      "Interpolating SPH field ('PartType0', 'Temperature'): 450000it [00:00, 510847.72it/s]\u001b[A\n",
      "Interpolating SPH field ('PartType0', 'Temperature'): 550000it [00:01, 445716.28it/s]\u001b[A\n",
      "Interpolating SPH field ('PartType0', 'Temperature'): 600000it [00:01, 381857.47it/s]\u001b[A\n",
      "Interpolating SPH field ('PartType0', 'Temperature'): 700000it [00:01, 426124.83it/s]\u001b[A\n",
      "Interpolating SPH field ('PartType0', 'Temperature'): 800000it [00:01, 508375.75it/s]\u001b[A\n",
      "Interpolating SPH field ('PartType0', 'Temperature'): 1000000it [00:01, 730050.95it/s]\u001b[A\n",
      "Interpolating SPH field ('PartType0', 'Temperature'): 1100000it [00:01, 753520.30it/s]\u001b[A\n",
      "Interpolating SPH field ('PartType0', 'Temperature'): 1300000it [00:02, 686000.43it/s]\u001b[A\n",
      "Interpolating SPH field ('PartType0', 'Temperature'): 1450000it [00:02, 734470.37it/s]\u001b[A\n",
      "Interpolating SPH field ('PartType0', 'Temperature'): 1550000it [00:02, 462736.66it/s]\u001b[A\n",
      "Interpolating SPH field ('PartType0', 'Temperature'): 1700000it [00:03, 548169.59it/s]\u001b[A\n",
      "Interpolating SPH field ('PartType0', 'Temperature'): 1800000it [00:03, 433396.15it/s]\u001b[A\n",
      "Interpolating SPH field ('PartType0', 'Temperature'): 1900000it [00:03, 424567.25it/s]\u001b[A\n",
      "Interpolating SPH field ('PartType0', 'Temperature'): 2000000it [00:03, 459572.86it/s]\u001b[A\n",
      "Interpolating SPH field ('PartType0', 'Temperature'): 2150000it [00:04, 590797.65it/s]\u001b[A\n",
      "Interpolating SPH field ('PartType0', 'Temperature'): 2250000it [00:04, 533580.22it/s]\u001b[A\n",
      "Interpolating SPH field ('PartType0', 'Temperature'): 2350000it [00:04, 508157.42it/s]\u001b[A\n",
      "Interpolating SPH field ('PartType0', 'Temperature'): 2450000it [00:04, 558988.49it/s]\u001b[A\n",
      "Interpolating SPH field ('PartType0', 'Temperature'): 2550000it [00:05, 432514.23it/s]\u001b[A\n",
      "Interpolating SPH field ('PartType0', 'Temperature'): 2650000it [00:05, 475170.21it/s]\u001b[A\n",
      "Interpolating SPH field ('PartType0', 'Temperature'): 2750000it [00:05, 479738.72it/s]\u001b[A\n",
      "Interpolating SPH field ('PartType0', 'Temperature'): 2850000it [00:05, 426365.96it/s]\u001b[A\n",
      "Interpolating SPH field ('PartType0', 'Temperature'): 2950000it [00:05, 399779.97it/s]\u001b[A\n",
      "Interpolating SPH field ('PartType0', 'Temperature'): 3000000it [00:06, 359053.30it/s]\u001b[A\n",
      "Interpolating SPH field ('PartType0', 'Temperature'): 3150000it [00:06, 521734.32it/s]\u001b[A\n",
      "Interpolating SPH field ('PartType0', 'Temperature'): 3250000it [00:06, 374877.92it/s]\u001b[A\n",
      "Interpolating SPH field ('PartType0', 'Temperature'): 3350000it [00:06, 441842.20it/s]\u001b[A\n",
      "Interpolating SPH field ('PartType0', 'Temperature'): 3450000it [00:07, 504433.65it/s]\u001b[A\n",
      "Interpolating SPH field ('PartType0', 'Temperature'): 3550000it [00:07, 412526.24it/s]\u001b[A\n",
      "Interpolating SPH field ('PartType0', 'Temperature'): 3650000it [00:07, 428944.51it/s]\u001b[A\n",
      "Interpolating SPH field ('PartType0', 'Temperature'): 3750000it [00:07, 412739.86it/s]\u001b[A\n",
      "Interpolating SPH field ('PartType0', 'Temperature'): 3800000it [00:07, 416109.37it/s]\u001b[A\n",
      "Interpolating SPH field ('PartType0', 'Temperature'): 3850000it [00:08, 380913.47it/s]\u001b[A\n",
      "Interpolating SPH field ('PartType0', 'Temperature'): 3950000it [00:08, 393596.04it/s]\u001b[A\n",
      "Interpolating SPH field ('PartType0', 'Temperature'): 4050000it [00:08, 459999.46it/s]\u001b[A\n",
      "Interpolating SPH field ('PartType0', 'Temperature'): 4200000it [00:08, 614320.45it/s]\u001b[A\n",
      "Interpolating SPH field ('PartType0', 'Temperature'): 4300000it [00:08, 593100.04it/s]\u001b[A\n",
      "Interpolating SPH field ('PartType0', 'Temperature'): 4400000it [00:08, 613350.56it/s]\u001b[A\n",
      "Interpolating SPH field ('PartType0', 'Temperature'): 4500000it [00:09, 493176.13it/s]\u001b[A\n",
      "Interpolating SPH field ('PartType0', 'Temperature'): 4600000it [00:09, 552210.75it/s]\u001b[A\n",
      "Interpolating SPH field ('PartType0', 'Temperature'): 4750000it [00:09, 526277.74it/s]\u001b[A\n",
      "Interpolating SPH field ('PartType0', 'Temperature'): 4850000it [00:09, 576464.36it/s]\u001b[A\n",
      "Interpolating SPH field ('PartType0', 'Temperature'): 4950000it [00:09, 612768.03it/s]\u001b[A\n",
      "Interpolating SPH field ('PartType0', 'Temperature'): 5050000it [00:10, 558629.93it/s]\u001b[A\n",
      "Interpolating SPH field ('PartType0', 'Temperature'): 5150000it [00:10, 443094.42it/s]\u001b[A\n",
      "Interpolating SPH field ('PartType0', 'Temperature'): 5300000it [00:10, 506729.81it/s]\u001b[A\n",
      "Interpolating SPH field ('PartType0', 'Temperature'): 5450000it [00:11, 442051.65it/s]\u001b[A\n",
      "Interpolating SPH field ('PartType0', 'Temperature'): 5550000it [00:11, 488596.88it/s]\u001b[A\n",
      "Interpolating SPH field ('PartType0', 'Temperature'): 5700000it [00:11, 496090.06it/s]\u001b[A\n",
      "Interpolating SPH field ('PartType0', 'Temperature'): 5800000it [00:11, 443358.33it/s]\u001b[A\n",
      "Interpolating SPH field ('PartType0', 'Temperature'): 5950000it [00:12, 465812.79it/s]\u001b[A\n",
      "Interpolating SPH field ('PartType0', 'Temperature'): 6050000it [00:12, 399346.04it/s]\u001b[A\n",
      "Interpolating SPH field ('PartType0', 'Temperature'): 6150000it [00:12, 396223.02it/s]\u001b[A\n",
      "Interpolating SPH field ('PartType0', 'Temperature'): 6300000it [00:13, 473700.16it/s]\u001b[A\n",
      "Interpolating SPH field ('PartType0', 'Temperature'): 6400000it [00:13, 448151.69it/s]\u001b[A\n",
      "Interpolating SPH field ('PartType0', 'Temperature'): 6550000it [00:13, 479735.28it/s]\u001b[A\n",
      "Interpolating SPH field ('PartType0', 'Temperature'): 6600000it [00:13, 482118.25it/s]\u001b[A\n",
      "Interpolating SPH field ('PartType0', 'Temperature'): 6700000it [00:13, 496800.43it/s]\u001b[A\n",
      "Interpolating SPH field ('PartType0', 'Temperature'): 6800000it [00:14, 501122.67it/s]\u001b[A\n",
      "Interpolating SPH field ('PartType0', 'Temperature'): 6900000it [00:14, 581898.66it/s]\u001b[A\n",
      "Interpolating SPH field ('PartType0', 'Temperature'): 7000000it [00:14, 567394.43it/s]\u001b[A\n",
      "Interpolating SPH field ('PartType0', 'Temperature'): 7100000it [00:14, 549907.50it/s]\u001b[A\n",
      "Interpolating SPH field ('PartType0', 'Temperature'): 7200000it [00:14, 533740.50it/s]\u001b[A\n",
      "Interpolating SPH field ('PartType0', 'Temperature'): 7300000it [00:15, 449652.76it/s]\u001b[A\n",
      "Interpolating SPH field ('PartType0', 'Temperature'): 7400000it [00:15, 397316.90it/s]\u001b[A\n",
      "Interpolating SPH field ('PartType0', 'Temperature'): 7450000it [00:15, 393343.86it/s]\u001b[A\n",
      "Interpolating SPH field ('PartType0', 'Temperature'): 7550000it [00:15, 369346.03it/s]\u001b[A\n",
      "Interpolating SPH field ('PartType0', 'Temperature'): 7650000it [00:16, 325265.77it/s]\u001b[A\n",
      "Interpolating SPH field ('PartType0', 'Temperature'): 7750000it [00:16, 349165.03it/s]\u001b[A\n",
      "Interpolating SPH field ('PartType0', 'Temperature'): 7800000it [00:16, 365873.37it/s]\u001b[A\n",
      "Interpolating SPH field ('PartType0', 'Temperature'): 7850000it [00:16, 372540.46it/s]\u001b[A\n",
      "Interpolating SPH field ('PartType0', 'Temperature'): 7900000it [00:16, 323680.92it/s]\u001b[A\n",
      "Interpolating SPH field ('PartType0', 'Temperature'): 8000000it [00:17, 351924.36it/s]\u001b[A\n",
      "Interpolating SPH field ('PartType0', 'Temperature'): 8050000it [00:17, 373191.97it/s]\u001b[A\n",
      "Interpolating SPH field ('PartType0', 'Temperature'): 8100000it [00:17, 380970.42it/s]\u001b[A\n",
      "Interpolating SPH field ('PartType0', 'Temperature'): 8150000it [00:17, 294749.05it/s]\u001b[A\n",
      "Interpolating SPH field ('PartType0', 'Temperature'): 8200000it [00:17, 325060.60it/s]\u001b[A\n",
      "Interpolating SPH field ('PartType0', 'Temperature'): 8300000it [00:17, 437092.16it/s]\u001b[A\n",
      "Interpolating SPH field ('PartType0', 'Temperature'): 8350000it [00:18, 319073.34it/s]\u001b[A\n",
      "Interpolating SPH field ('PartType0', 'Temperature'): 8450000it [00:18, 395500.77it/s]\u001b[A\n",
      "Interpolating SPH field ('PartType0', 'Temperature'): 8550000it [00:18, 485110.72it/s]\u001b[A\n",
      "Interpolating SPH field ('PartType0', 'Temperature'): 8650000it [00:18, 363522.16it/s]\u001b[A\n",
      "Interpolating SPH field ('PartType0', 'Temperature'): 8850000it [00:19, 521232.86it/s]\u001b[A\n",
      "Interpolating SPH field ('PartType0', 'Temperature'): 8950000it [00:19, 498646.70it/s]\u001b[A\n",
      "Interpolating SPH field ('PartType0', 'Temperature'): 9100000it [00:19, 577293.62it/s]\u001b[A\n",
      "Interpolating SPH field ('PartType0', 'Temperature'): 9200000it [00:19, 444131.24it/s]\u001b[A\n",
      "Interpolating SPH field ('PartType0', 'Temperature'): 9300000it [00:19, 510613.10it/s]\u001b[A\n",
      "Interpolating SPH field ('PartType0', 'Temperature'): 9400000it [00:20, 545415.01it/s]\u001b[A\n",
      "Interpolating SPH field ('PartType0', 'Temperature'): 9500000it [00:20, 529520.30it/s]\u001b[A\n",
      "Interpolating SPH field ('PartType0', 'Temperature'): 9650000it [00:20, 561234.91it/s]\u001b[A\n",
      "Interpolating SPH field ('PartType0', 'Temperature'): 9750000it [00:20, 537745.41it/s]\u001b[A\n",
      "Interpolating SPH field ('PartType0', 'Temperature'): 9850000it [00:21, 493877.93it/s]\u001b[A\n",
      "Interpolating SPH field ('PartType0', 'Temperature'): 9950000it [00:21, 415185.01it/s]\u001b[A\n",
      "Interpolating SPH field ('PartType0', 'Temperature'): 10050000it [00:21, 419163.33it/s]\u001b[A\n",
      "Interpolating SPH field ('PartType0', 'Temperature'): 10150000it [00:21, 402377.25it/s]\u001b[A\n",
      "Interpolating SPH field ('PartType0', 'Temperature'): 10300000it [00:22, 416557.92it/s]\u001b[A\n",
      "Interpolating SPH field ('PartType0', 'Temperature'): 10350000it [00:22, 395225.86it/s]\u001b[A\n",
      "Interpolating SPH field ('PartType0', 'Temperature'): 10400000it [00:22, 406173.40it/s]\u001b[A\n",
      "Interpolating SPH field ('PartType0', 'Temperature'): 10550000it [00:22, 418422.92it/s]\u001b[A\n",
      "Interpolating SPH field ('PartType0', 'Temperature'): 10600000it [00:22, 394960.25it/s]\u001b[A\n",
      "Interpolating SPH field ('PartType0', 'Temperature'): 10650000it [00:23, 370422.09it/s]\u001b[A\n",
      "Interpolating SPH field ('PartType0', 'Temperature'): 10850000it [00:23, 395716.12it/s]\u001b[A\n",
      "Interpolating SPH field ('PartType0', 'Temperature'): 10900000it [00:23, 334187.34it/s]\u001b[A\n",
      "Interpolating SPH field ('PartType0', 'Temperature'): 11100000it [00:24, 369211.25it/s]\u001b[A\n",
      "Interpolating SPH field ('PartType0', 'Temperature'): 11150000it [00:24, 304009.67it/s]\u001b[A\n",
      "Interpolating SPH field ('PartType0', 'Temperature'): 11200000it [00:24, 302153.06it/s]\u001b[A\n",
      "Interpolating SPH field ('PartType0', 'Temperature'): 11350000it [00:24, 450748.05it/s]\u001b[A\n"
     ]
    },
    {
     "name": "stderr",
     "output_type": "stream",
     "text": [
      "Interpolating SPH field ('PartType0', 'Temperature'): 11450000it [00:25, 444089.81it/s]\u001b[A\n",
      "Interpolating SPH field ('PartType0', 'Temperature'): 11600000it [00:25, 597388.80it/s]\u001b[A\n",
      "Interpolating SPH field ('PartType0', 'Temperature'): 11700000it [00:25, 548296.22it/s]\u001b[A\n",
      "Interpolating SPH field ('PartType0', 'Temperature'): 11800000it [00:25, 553301.82it/s]\u001b[A\n",
      "Interpolating SPH field ('PartType0', 'Temperature'): 11900000it [00:25, 554126.83it/s]\u001b[A\n",
      "Interpolating SPH field ('PartType0', 'Temperature'): 12000000it [00:26, 576035.50it/s]\u001b[A\n",
      "Interpolating SPH field ('PartType0', 'Temperature'): 12100000it [00:26, 490658.50it/s]\u001b[A\n",
      "Interpolating SPH field ('PartType0', 'Temperature'): 12200000it [00:26, 480977.96it/s]\u001b[A\n",
      "Interpolating SPH field ('PartType0', 'Temperature'): 12300000it [00:26, 519635.94it/s]\u001b[A\n",
      "Interpolating SPH field ('PartType0', 'Temperature'): 12400000it [00:26, 545281.79it/s]\u001b[A\n",
      "Interpolating SPH field ('PartType0', 'Temperature'): 12500000it [00:27, 510964.81it/s]\u001b[A\n",
      "Interpolating SPH field ('PartType0', 'Temperature'): 12600000it [00:27, 538142.63it/s]\u001b[A\n",
      "Interpolating SPH field ('PartType0', 'Temperature'): 12700000it [00:27, 524324.20it/s]\u001b[A\n",
      "Interpolating SPH field ('PartType0', 'Temperature'): 12800000it [00:27, 542522.96it/s]\u001b[A\n",
      "Interpolating SPH field ('PartType0', 'Temperature'): 12900000it [00:27, 437945.96it/s]\u001b[A\n",
      "Interpolating SPH field ('PartType0', 'Temperature'): 13000000it [00:28, 493204.56it/s]\u001b[A\n",
      "Interpolating SPH field ('PartType0', 'Temperature'): 13100000it [00:28, 445154.21it/s]\u001b[A\n",
      "Interpolating SPH field ('PartType0', 'Temperature'): 13150000it [00:28, 382344.73it/s]\u001b[A\n",
      "Interpolating SPH field ('PartType0', 'Temperature'): 13300000it [00:28, 531869.71it/s]\u001b[A\n",
      "Interpolating SPH field ('PartType0', 'Temperature'): 13500000it [00:28, 722965.11it/s]\u001b[A\n",
      "Interpolating SPH field ('PartType0', 'Temperature'): 13650000it [00:29, 769577.26it/s]\u001b[A\n",
      "Interpolating SPH field ('PartType0', 'Temperature'): 13750000it [00:29, 660954.94it/s]\u001b[A\n",
      "Interpolating SPH field ('PartType0', 'Temperature'): 13850000it [00:29, 542062.00it/s]\u001b[A\n",
      "Interpolating SPH field ('PartType0', 'Temperature'): 13950000it [00:29, 463697.01it/s]\u001b[A\n",
      "Interpolating SPH field ('PartType0', 'Temperature'): 14050000it [00:30, 429116.25it/s]\u001b[A\n",
      "Interpolating SPH field ('PartType0', 'Temperature'): 14150000it [00:30, 432103.90it/s]\u001b[A\n",
      "Interpolating SPH field ('PartType0', 'Temperature'): 14200000it [00:30, 389426.57it/s]\u001b[A\n",
      "Interpolating SPH field ('PartType0', 'Temperature'): 14250000it [00:30, 277132.88it/s]\u001b[A\n",
      "Interpolating SPH field ('PartType0', 'Temperature'): 14350000it [00:31, 321814.12it/s]\u001b[A\n",
      "Interpolating SPH field ('PartType0', 'Temperature'): 14400000it [00:31, 334531.58it/s]\u001b[A\n",
      "Interpolating SPH field ('PartType0', 'Temperature'): 14450000it [00:31, 313957.30it/s]\u001b[A\n",
      "Interpolating SPH field ('PartType0', 'Temperature'): 14500000it [00:31, 229769.48it/s]\u001b[A\n",
      "Interpolating SPH field ('PartType0', 'Temperature'): 14600000it [00:32, 288087.48it/s]\u001b[A\n",
      "Interpolating SPH field ('PartType0', 'Temperature'): 14650000it [00:32, 283043.82it/s]\u001b[A\n",
      "Interpolating SPH field ('PartType0', 'Temperature'): 14700000it [00:32, 287531.02it/s]\u001b[A\n",
      "Interpolating SPH field ('PartType0', 'Temperature'): 14800000it [00:32, 377410.88it/s]\u001b[A\n",
      "Interpolating SPH field ('PartType0', 'Temperature'): 14850000it [00:32, 323844.16it/s]\u001b[A\n",
      "Interpolating SPH field ('PartType0', 'Temperature'): 14950000it [00:33, 353098.44it/s]\u001b[A\n",
      "Interpolating SPH field ('PartType0', 'Temperature'): 15050000it [00:33, 427150.79it/s]\u001b[A\n",
      "Interpolating SPH field ('PartType0', 'Temperature'): 15100000it [00:33, 357300.86it/s]\u001b[A\n",
      "Interpolating SPH field ('PartType0', 'Temperature'): 15150000it [00:33, 355789.98it/s]\u001b[A\n",
      "Interpolating SPH field ('PartType0', 'Temperature'): 15200000it [00:33, 367893.98it/s]\u001b[A\n",
      "Interpolating SPH field ('PartType0', 'Temperature'): 15300000it [00:33, 390366.69it/s]\u001b[A\n",
      "Interpolating SPH field ('PartType0', 'Temperature'): 15350000it [00:34, 342357.04it/s]\u001b[A\n",
      "Interpolating SPH field ('PartType0', 'Temperature'): 15450000it [00:34, 425866.64it/s]\u001b[A\n",
      "Interpolating SPH field ('PartType0', 'Temperature'): 15550000it [00:34, 430712.88it/s]\u001b[A\n",
      "Interpolating SPH field ('PartType0', 'Temperature'): 15600000it [00:34, 372569.77it/s]\u001b[A\n",
      "Interpolating SPH field ('PartType0', 'Temperature'): 15700000it [00:34, 434090.71it/s]\u001b[A\n",
      "Interpolating SPH field ('PartType0', 'Temperature'): 15750000it [00:35, 305170.56it/s]\u001b[A\n",
      "Interpolating SPH field ('PartType0', 'Temperature'): 15850000it [00:35, 329632.12it/s]\u001b[A\n",
      "Interpolating SPH field ('PartType0', 'Temperature'): 15950000it [00:35, 413281.69it/s]\u001b[A\n",
      "Interpolating SPH field ('PartType0', 'Temperature'): 16000000it [00:36, 301433.85it/s]\u001b[A\n",
      "Interpolating SPH field ('PartType0', 'Temperature'): 16100000it [00:36, 326930.21it/s]\u001b[A\n",
      "Interpolating SPH field ('PartType0', 'Temperature'): 16150000it [00:36, 342293.22it/s]\u001b[A\n",
      "Interpolating SPH field ('PartType0', 'Temperature'): 16200000it [00:36, 297392.72it/s]\u001b[A\n",
      "Interpolating SPH field ('PartType0', 'Temperature'): 16300000it [00:36, 379221.84it/s]\u001b[A\n",
      "Interpolating SPH field ('PartType0', 'Temperature'): 16400000it [00:37, 392308.68it/s]\u001b[A\n",
      "Interpolating SPH field ('PartType0', 'Temperature'): 16450000it [00:37, 330659.67it/s]\u001b[A\n",
      "Interpolating SPH field ('PartType0', 'Temperature'): 16550000it [00:37, 404706.52it/s]\u001b[A\n",
      "Interpolating SPH field ('PartType0', 'Temperature'): 16650000it [00:37, 375688.12it/s]\u001b[A\n",
      "Interpolating SPH field ('PartType0', 'Temperature'): 16750000it [00:38, 352208.21it/s]\u001b[A\n",
      "Interpolating SPH field ('PartType0', 'Temperature'): 16850000it [00:38, 402100.58it/s]\u001b[A\n",
      "Interpolating SPH field ('PartType0', 'Temperature'): 17000000it [00:38, 400160.96it/s]\u001b[A\n",
      "Interpolating SPH field ('PartType0', 'Temperature'): 17100000it [00:38, 435838.99it/s]\u001b[A\n",
      "Interpolating SPH field ('PartType0', 'Temperature'): 17150000it [00:38, 434826.20it/s]\u001b[A\n",
      "Interpolating SPH field ('PartType0', 'Temperature'): 17250000it [00:39, 518481.70it/s]\u001b[A\n",
      "Interpolating SPH field ('PartType0', 'Temperature'): 17400000it [00:39, 706801.90it/s]\u001b[A\n",
      "Interpolating SPH field ('PartType0', 'Temperature'): 17500000it [00:39, 747159.24it/s]\u001b[A\n",
      "Interpolating SPH field ('PartType0', 'Temperature'): 17650000it [00:39, 807088.49it/s]\u001b[A\n",
      "Interpolating SPH field ('PartType0', 'Temperature'): 17750000it [00:39, 683166.42it/s]\u001b[A\n",
      "Interpolating SPH field ('PartType0', 'Temperature'): 17850000it [00:39, 501134.83it/s]\u001b[A\n",
      "Interpolating SPH field ('PartType0', 'Temperature'): 18000000it [00:40, 555886.47it/s]\u001b[A\n",
      "Interpolating SPH field ('PartType0', 'Temperature'): 18100000it [00:40, 452060.65it/s]\u001b[A\n",
      "Interpolating SPH field ('PartType0', 'Temperature'): 18200000it [00:40, 399158.92it/s]\u001b[A\n",
      "Interpolating SPH field ('PartType0', 'Temperature'): 18250000it [00:41, 369921.81it/s]\u001b[A\n",
      "Interpolating SPH field ('PartType0', 'Temperature'): 18300000it [00:41, 382165.71it/s]\u001b[A\n",
      "Interpolating SPH field ('PartType0', 'Temperature'): 18450000it [00:41, 415453.87it/s]\u001b[A\n",
      "Interpolating SPH field ('PartType0', 'Temperature'): 18500000it [00:41, 380038.43it/s]\u001b[A\n",
      "Interpolating SPH field ('PartType0', 'Temperature'): 18550000it [00:41, 392724.15it/s]\u001b[A\n",
      "Interpolating SPH field ('PartType0', 'Temperature'): 18650000it [00:41, 469504.75it/s]\u001b[A\n",
      "Interpolating SPH field ('PartType0', 'Temperature'): 18700000it [00:42, 431673.65it/s]\u001b[A\n",
      "Interpolating SPH field ('PartType0', 'Temperature'): 18850000it [00:42, 375424.98it/s]\u001b[A\n",
      "Interpolating SPH field ('PartType0', 'Temperature'): 18950000it [00:42, 409398.05it/s]\u001b[A\n",
      "Interpolating SPH field ('PartType0', 'Temperature'): 19100000it [00:43, 370479.11it/s]\u001b[A\n",
      "Interpolating SPH field ('PartType0', 'Temperature'): 19150000it [00:43, 383281.14it/s]\u001b[A\n",
      "Interpolating SPH field ('PartType0', 'Temperature'): 19250000it [00:43, 433274.80it/s]\u001b[A\n",
      "Interpolating SPH field ('PartType0', 'Temperature'): 19300000it [00:43, 401110.29it/s]\u001b[A\n",
      "Interpolating SPH field ('PartType0', 'Temperature'): 19350000it [00:43, 391363.16it/s]\u001b[A\n",
      "Interpolating SPH field ('PartType0', 'Temperature'): 19500000it [00:43, 560201.41it/s]\u001b[A\n",
      "Interpolating SPH field ('PartType0', 'Temperature'): 19600000it [00:44, 516513.29it/s]\u001b[A\n",
      "Interpolating SPH field ('PartType0', 'Temperature'): 19700000it [00:44, 531435.51it/s]\u001b[A\n",
      "Interpolating SPH field ('PartType0', 'Temperature'): 19800000it [00:44, 595387.83it/s]\u001b[A\n",
      "Interpolating SPH field ('PartType0', 'Temperature'): 19900000it [00:44, 504502.90it/s]\u001b[A\n",
      "Interpolating SPH field ('PartType0', 'Temperature'): 20000000it [00:44, 440080.99it/s]\u001b[A\n",
      "Interpolating SPH field ('PartType0', 'Temperature'): 20150000it [00:45, 521399.88it/s]\u001b[A\n",
      "Interpolating SPH field ('PartType0', 'Temperature'): 20250000it [00:45, 420174.16it/s]\u001b[A\n",
      "Interpolating SPH field ('PartType0', 'Temperature'): 20350000it [00:45, 488490.03it/s]\u001b[A\n",
      "Interpolating SPH field ('PartType0', 'Temperature'): 20450000it [00:46, 381858.80it/s]\u001b[A\n",
      "Interpolating SPH field ('PartType0', 'Temperature'): 20500000it [00:46, 349734.49it/s]\u001b[A\n",
      "Interpolating SPH field ('PartType0', 'Temperature'): 20550000it [00:46, 337238.28it/s]\u001b[A\n",
      "Interpolating SPH field ('PartType0', 'Temperature'): 20700000it [00:46, 346751.85it/s]\u001b[A\n",
      "Interpolating SPH field ('PartType0', 'Temperature'): 20750000it [00:47, 322866.96it/s]\u001b[A\n",
      "Interpolating SPH field ('PartType0', 'Temperature'): 20800000it [00:47, 315073.75it/s]\u001b[A\n",
      "Interpolating SPH field ('PartType0', 'Temperature'): 20900000it [00:47, 417366.61it/s]\u001b[A\n",
      "Interpolating SPH field ('PartType0', 'Temperature'): 21050000it [00:47, 506563.46it/s]\u001b[A\n",
      "Interpolating SPH field ('PartType0', 'Temperature'): 21200000it [00:47, 624276.34it/s]\u001b[A\n",
      "Interpolating SPH field ('PartType0', 'Temperature'): 21300000it [00:47, 642871.05it/s]\u001b[A\n",
      "Interpolating SPH field ('PartType0', 'Temperature'): 21400000it [00:48, 517717.87it/s]\u001b[A\n",
      "Interpolating SPH field ('PartType0', 'Temperature'): 21500000it [00:48, 565679.54it/s]\u001b[A\n",
      "Interpolating SPH field ('PartType0', 'Temperature'): 21600000it [00:48, 381952.34it/s]\u001b[A\n",
      "Interpolating SPH field ('PartType0', 'Temperature'): 21700000it [00:49, 370355.21it/s]\u001b[A\n",
      "Interpolating SPH field ('PartType0', 'Temperature'): 21800000it [00:49, 312810.19it/s]\u001b[A\n",
      "Interpolating SPH field ('PartType0', 'Temperature'): 21900000it [00:49, 372151.83it/s]\u001b[A\n",
      "Interpolating SPH field ('PartType0', 'Temperature'): 22100000it [00:49, 442314.84it/s]\u001b[A\n"
     ]
    }
   ],
   "source": [
    "ds2 = ds_Rcirc10\n",
    "region2 = ds2.r[-100:100:400j, -100:100:400j, -100:100:400j]\n",
    "n_elec2 = region2[(\"gas\",\"El_number_density\")]\n",
    "Ts2 = region2[(\"gas\",\"temperature\")]"
   ]
  },
  {
   "cell_type": "code",
   "execution_count": 626,
   "id": "d2aca274",
   "metadata": {},
   "outputs": [],
   "source": [
    "import scipy, scipy.interpolate\n",
    "center = np.array([0.,0., 0.])\n",
    "sun_offset = np.array([8.,0., 0.])\n",
    "max_ray_length = 108\n",
    "Npoints = 1000\n",
    "dl = ray_length / Npoints\n",
    "start_loc = center+sun_offset\n",
    "bs = np.linspace(np.pi/6,np.pi/2,15)\n",
    "ls = np.linspace(0,np.pi,5)\n",
    "DM = {},{}\n",
    "for l in ls[:]:\n",
    "    DM[0][l] = np.zeros(bs.shape)\n",
    "    DM[1][l] = np.zeros(bs.shape)\n",
    "    for ib,b in enumerate(bs[:]):\n",
    "        phi,theta = np.pi-l, np.pi/2-b\n",
    "        unit_vector = np.array([np.sin(theta)*np.cos(phi),np.sin(theta)*np.sin(phi), np.cos(theta)])\n",
    "        end_loc = start_loc + ray_length * unit_vector\n",
    "        points = np.array([(end_loc - start_loc) / Npoints * i for i in np.arange(Npoints)]) + start_loc\n",
    "        points_rs = (points**2).sum(axis=1)**0.5\n",
    "        for isim,ds in enumerate(dss[:1]):\n",
    "            interpolated_n_elec = scipy.interpolate.interpn((xs,xs,xs),(n_elec,n_elec2)[isim],points[points_rs<100])\n",
    "            interpolated_Ts = scipy.interpolate.interpn((xs,xs,xs),(Ts,Ts2)[isim],points[points_rs<100])\n",
    "            DM[isim][l][ib] = (interpolated_n_elec * (interpolated_Ts>1e6)).sum()*dl            "
   ]
  },
  {
   "cell_type": "code",
   "execution_count": 457,
   "id": "3a1ab924",
   "metadata": {},
   "outputs": [
    {
     "data": {
      "image/png": "[encoded data removed]",
      "text/plain": [
       "<Figure size 252x259.2 with 1 Axes>"
      ]
     },
     "metadata": {
      "needs_background": "light"
     },
     "output_type": "display_data"
    }
   ],
   "source": [
    "pl.figure(figsize=(3.5,3.6))\n",
    "ax = pl.subplot(111)\n",
    "pl.subplots_adjust(left=0.17)\n",
    "for isim,ds in enumerate(dss[:1]):\n",
    "    norm = (1.5**0.5,2.7**0.5 * (0.1/0.3)**-0.5)[isim]\n",
    "    for il,l in enumerate(ls):\n",
    "        pl.plot(bs/np.pi*180,DM[isim][l]*1000/norm,label=r'$l=%d$'%(l/np.pi*180),\n",
    "                lw=(1,0.5)[isim],ls=('-',':')[isim],c=pl.get_cmap('viridis')(il/len(ls)))\n",
    "pl.xlabel(r'${\\rm Galactic~latitude}\\ b$')\n",
    "pl.ylabel(r'${\\rm dispersion~measure}\\ [\\dot{M}_1^{0.5}Z_{0.3}^{-0.5}\\ {\\rm cm}^{-3}\\ {\\rm pc}]$')\n",
    "ax.xaxis.set_major_locator(ticker.MultipleLocator(10))\n",
    "pl.legend(frameon=False)\n",
    "pl.text(30,11.3,r'$R_{\\rm circ}=15\\,{\\rm kpc}$')\n",
    "pl.ylim(12,18)\n",
    "pl.savefig(figdir+'FRB_DM.pdf')"
   ]
  },
  {
   "cell_type": "markdown",
   "id": "8ab2e6ca",
   "metadata": {},
   "source": [
    "# Andromeda"
   ]
  },
  {
   "cell_type": "code",
   "execution_count": 458,
   "id": "1dbef7d0",
   "metadata": {},
   "outputs": [],
   "source": [
    "ray_length = 200\n",
    "Npoints = 1000\n",
    "dl = ray_length / Npoints\n",
    "i = 77/180*np.pi\n",
    "Rimps = np.array([20,40,60,80])\n",
    "azimuths = np.linspace(0.01,np.pi*0.99,50)\n",
    "ts = np.linspace(-ray_length/2,ray_length/2,Npoints)\n",
    "DM_M31 = {},{}\n",
    "for Rimp in Rimps:\n",
    "    DM_M31[0][Rimp] = np.zeros(azimuths.shape)\n",
    "    DM_M31[1][Rimp] = np.zeros(azimuths.shape)\n",
    "    for iaz,az in enumerate(azimuths):\n",
    "        z0 = Rimp/np.sqrt(1+np.tan(az)**2)/np.sin(i)\n",
    "        x0 = np.sqrt(Rimp**2-z0**2*np.sin(i)**2)\n",
    "        points = np.array([x0+ts*0,ts*np.sin(i),z0+ts*np.cos(i)]).T\n",
    "        points_rs = (points**2).sum(axis=1)**0.5\n",
    "        for isim,ds in enumerate(dss):\n",
    "            interpolated_n_elec = scipy.interpolate.interpn((xs,xs,xs),(n_elec,n_elec2)[isim],points[points_rs<100])\n",
    "            interpolated_Ts = scipy.interpolate.interpn((xs,xs,xs),(Ts,Ts2)[isim],points[points_rs<100])\n",
    "            DM_M31[isim][Rimp][iaz] = interpolated_n_elec.sum()*dl"
   ]
  },
  {
   "cell_type": "code",
   "execution_count": 522,
   "id": "db392438",
   "metadata": {},
   "outputs": [
    {
     "data": {
      "image/png": "[encoded data removed]",
      "text/plain": [
       "<Figure size 268.785x216 with 2 Axes>"
      ]
     },
     "metadata": {
      "needs_background": "light"
     },
     "output_type": "display_data"
    }
   ],
   "source": [
    "pl.figure(figsize=(fig_width_half*1.1,3)); pl.subplots_adjust(wspace=0.3)\n",
    "ax = pl.subplot(121)\n",
    "for isim,ds in enumerate(dss[:1]):\n",
    "    norm = (1.5**0.5,2.7**0.5 * (0.1/0.3)**-0.5)[isim]\n",
    "    for iR,Rimp in enumerate(Rimps[:-1]):\n",
    "        pl.plot(90-azimuths/np.pi*180,DM_M31[isim][Rimp]*1000/norm,\n",
    "                ls=('-',':')[isim],c='k',lw=0.7)\n",
    "pl.text(165/2,21.5,r'$20$',ha='right',fontsize=8); pl.plot([160/2,165/2],[22.7,23.5],lw=0.5,c='k')\n",
    "pl.text(165/2,14.5,r'$40$',ha='right',fontsize=8); pl.plot([160/2,165/2],[15.7,16.3],lw=0.5,c='k')\n",
    "pl.text(170/2,9.4,r'$R_\\perp=60\\ {\\rm kpc}$',ha='right',fontsize=8); pl.plot([130/2,135/2],[10.8,11.6],lw=0.5,c='k')\n",
    "pl.xlabel(r'${\\rm azimuthal~angle}\\ [^{\\circ}]$')\n",
    "pl.ylabel(r'${\\rm dispersion~measure}\\ [{\\rm cm}^{-3}\\ {\\rm pc}]$')\n",
    "ax.xaxis.set_major_locator(ticker.MultipleLocator(30))\n",
    "pl.xlim(0,90); pl.ylim(7,35)\n",
    "pl.title(r'${\\rm external~galaxy}\\ (i=77^\\circ)$',fontsize=10)\n",
    "ax = pl.subplot(122)\n",
    "for isim,ds in enumerate(dss[:1]):\n",
    "    norm = (1.5**0.5,2.7**0.5 * (0.1/0.3)**-0.5)[isim]\n",
    "    for il,l in enumerate(ls[::2]):\n",
    "        pl.plot(bs/np.pi*180,DM[isim][l]*1000/norm,label=r'$l=%d$'%(l/np.pi*180),\n",
    "                ls=('-',':')[isim],c='k',lw=0.7)\n",
    "pl.xlabel(r'${\\rm Galactic~latitude}\\ b\\ [^{\\circ}]$')\n",
    "ax.xaxis.set_major_locator(ticker.MultipleLocator(30))\n",
    "#pl.text(80,12.35,r'$45^{\\circ}$'); pl.plot([78,82],[12.22,12.3],lw=0.5,c='k')\n",
    "pl.text(70,15.1,r'$90^{\\circ}$',ha='right',fontsize=8); pl.plot([57.5,60],[14.75,15],lw=0.5,c='k')\n",
    "pl.text(94,13.5,r'$180^{\\circ}$',ha='right',fontsize=8); pl.plot([82,79],[13.4,13.2],lw=0.5,c='k')\n",
    "pl.text(62,12.3,r'$l=0^{\\circ}$',ha='right',fontsize=8); pl.plot([58,62],[12.65,12.85],lw=0.5,c='k')\n",
    "pl.text(38,18.3,r'$R_{\\rm c}=15\\,{\\rm kpc}$',ha='left',va='top')\n",
    "#pl.text(50,16.2,r'$r<100\\,{\\rm kpc}$',ha='left',va='top')\n",
    "pl.text(38,17.5,r'$v_{\\rm c}=200\\,{\\rm km}\\,{\\rm s}^{-1}$',ha='left',va='top')\n",
    "pl.text(38,17.9,r'$\\dot{M}=1.7\\,{\\rm M}_\\odot\\,{\\rm yr}^{-1}$',ha='left',va='top')\n",
    "pl.xlim(25,95); pl.ylim(12,18.5)\n",
    "pl.title(r'${\\rm Milky~Way}$',fontsize=10)\n",
    "pl.savefig(figdir+'FRB_DM_M31.pdf')"
   ]
  },
  {
   "cell_type": "code",
   "execution_count": 403,
   "id": "34a89330",
   "metadata": {},
   "outputs": [
    {
     "data": {
      "text/plain": [
       "array([0.  , 0.25, 0.5 , 0.75, 1.  ])"
      ]
     },
     "execution_count": 403,
     "metadata": {},
     "output_type": "execute_result"
    }
   ],
   "source": [
    "ls/np.pi"
   ]
  },
  {
   "cell_type": "code",
   "execution_count": 359,
   "id": "7e2f481e",
   "metadata": {},
   "outputs": [
    {
     "name": "stdout",
     "output_type": "stream",
     "text": [
      "b=30, max r=30 kpc, DM=10\n",
      "b=30, max r=100 kpc, DM=17\n"
     ]
    },
    {
     "data": {
      "image/png": "[encoded data removed]",
      "text/plain": [
       "<Figure size 432x288 with 1 Axes>"
      ]
     },
     "metadata": {
      "needs_background": "light"
     },
     "output_type": "display_data"
    }
   ],
   "source": [
    "import scipy, scipy.interpolate\n",
    "center = np.array([0.,0., 0.])\n",
    "sun_offset = np.array([8.,0., 0.])\n",
    "Npoints = 1000\n",
    "start_loc = center+sun_offset\n",
    "bs = np.linspace(np.pi/6,np.pi/2,3)\n",
    "ray_lengths = np.array([1,2,3,5,10,30,100])\n",
    "l = np.pi/2\n",
    "isim = 0\n",
    "for b in bs[:1]:\n",
    "    for ir,ray_length in enumerate(ray_lengths[-2:]):\n",
    "        dl = ray_length / Npoints\n",
    "        phi,theta = np.pi-l, np.pi/2-b\n",
    "        unit_vector = np.array([np.sin(theta)*np.cos(phi),np.sin(theta)*np.sin(phi), np.cos(theta)])\n",
    "        end_loc = start_loc + ray_length * unit_vector\n",
    "        points = np.array([(end_loc - start_loc) / Npoints * i for i in np.arange(Npoints)]) + start_loc        \n",
    "        interpolated_n_elec = scipy.interpolate.interpn((xs,xs,xs),(n_elec,n_elec2)[isim],points)\n",
    "        pl.semilogy(dl*np.arange(Npoints),interpolated_n_elec)\n",
    "        interpolated_Ts = scipy.interpolate.interpn((xs,xs,xs),(Ts,Ts2)[isim],points)\n",
    "        #print(interpolated_Ts)\n",
    "        DM = (interpolated_n_elec * (interpolated_Ts>1e6)).sum()*dl\n",
    "        print('b=%d, max r=%d kpc, DM=%d'%(b/np.pi*180, ray_length, DM*1000/1.5**0.5))"
   ]
  },
  {
   "cell_type": "code",
   "execution_count": 360,
   "id": "b8467745",
   "metadata": {},
   "outputs": [
    {
     "data": {
      "text/plain": [
       "5.999999999999999"
      ]
     },
     "execution_count": 360,
     "metadata": {},
     "output_type": "execute_result"
    }
   ],
   "source": [
    "20e3*3e-4"
   ]
  },
  {
   "cell_type": "markdown",
   "id": "3e4508ee",
   "metadata": {},
   "source": [
    "# for ERC presentation"
   ]
  },
  {
   "cell_type": "code",
   "execution_count": 29,
   "id": "320ed027",
   "metadata": {},
   "outputs": [],
   "source": [
    "_xs = np.linspace(-200,200,400)\n",
    "import scipy, scipy.interpolate\n",
    "ray_length = 100\n",
    "Npoints = 1000\n",
    "dl = ray_length / Npoints\n",
    "b = np.pi*77/180\n",
    "unit_vector = np.array([0,np.sin(b), np.cos(b)])\n",
    "xs = np.arange(20,100,2)\n",
    "ys = np.arange(20,100,2)#/np.cos(b)\n",
    "DM = np.zeros((xs.shape[0],ys.shape[0]))\n",
    "for ix,x in enumerate(xs):\n",
    "    for iy,y in enumerate(ys):\n",
    "        midpoint  = np.array([x, y, 0.])\n",
    "        start_loc = midpoint - ray_length * unit_vector\n",
    "        end_loc   = midpoint + ray_length * unit_vector\n",
    "        points = np.array([(end_loc - start_loc) / Npoints * i for i in np.arange(Npoints)]) + start_loc\n",
    "        for isim,ds in enumerate(dss):\n",
    "            interpolated_n_elec = scipy.interpolate.interpn((_xs,_xs,_xs),(n_elec,n_elec2)[isim],points)\n",
    "            interpolated_Ts = scipy.interpolate.interpn((_xs,_xs,_xs),(Ts,Ts2)[isim],points)\n",
    "            DM[ix,iy] = (interpolated_n_elec * (interpolated_Ts>1e6)).sum()*dl"
   ]
  },
  {
   "cell_type": "code",
   "execution_count": 30,
   "id": "3851a676",
   "metadata": {},
   "outputs": [
    {
     "data": {
      "text/plain": [
       "<matplotlib.colorbar.Colorbar at 0x183b1bf40>"
      ]
     },
     "execution_count": 30,
     "metadata": {},
     "output_type": "execute_result"
    },
    {
     "data": {
      "image/png": "[encoded data removed]",
      "text/plain": [
       "<Figure size 350x360 with 2 Axes>"
      ]
     },
     "metadata": {},
     "output_type": "display_data"
    }
   ],
   "source": [
    "pl.figure(figsize=(3.5,3.6))\n",
    "ax = pl.subplot(111)\n",
    "pl.subplots_adjust(left=0.17)\n",
    "for isim,ds in enumerate(dss[:1]):\n",
    "    norm = (1.5**0.5,2.7**0.5 * (0.1/0.3)**-0.5)[isim]\n",
    "    pl.pcolormesh(xs,xs,DM*1000/norm)\n",
    "pl.colorbar()"
   ]
  },
  {
   "cell_type": "code",
   "execution_count": null,
   "id": "e615394e",
   "metadata": {},
   "outputs": [],
   "source": []
  },
  {
   "cell_type": "code",
   "execution_count": null,
   "id": "7fb8dac9",
   "metadata": {},
   "outputs": [],
   "source": []
  },
  {
   "cell_type": "code",
   "execution_count": 62,
   "id": "b77ec175",
   "metadata": {},
   "outputs": [],
   "source": [
    "obj = ds.arbitrary_grid([-200, -200, -200], [200, 200, 200], dims=[128, 128, 128])\n"
   ]
  },
  {
   "cell_type": "code",
   "execution_count": 68,
   "id": "593d32df",
   "metadata": {},
   "outputs": [
    {
     "ename": "YTFieldNotFound",
     "evalue": "Could not find field ('deposit', 'gas_density') in snapshot_324.",
     "output_type": "error",
     "traceback": [
      "\u001b[0;31m---------------------------------------------------------------------------\u001b[0m",
      "\u001b[0;31mYTFieldNotFound\u001b[0m                           Traceback (most recent call last)",
      "Cell \u001b[0;32mIn[68], line 1\u001b[0m\n\u001b[0;32m----> 1\u001b[0m \u001b[38;5;28mprint\u001b[39m(\u001b[43mobj\u001b[49m\u001b[43m[\u001b[49m\u001b[38;5;124;43m\"\u001b[39;49m\u001b[38;5;124;43mdeposit\u001b[39;49m\u001b[38;5;124;43m\"\u001b[39;49m\u001b[43m,\u001b[49m\u001b[43m \u001b[49m\u001b[38;5;124;43m\"\u001b[39;49m\u001b[38;5;124;43mgas_density\u001b[39;49m\u001b[38;5;124;43m\"\u001b[39;49m\u001b[43m]\u001b[49m)\n",
      "File \u001b[0;32m~/opt/anaconda3/envs/for_yt/lib/python3.9/site-packages/yt/data_objects/data_containers.py:258\u001b[0m, in \u001b[0;36mYTDataContainer.__getitem__\u001b[0;34m(self, key)\u001b[0m\n\u001b[1;32m    254\u001b[0m \u001b[38;5;28;01mdef\u001b[39;00m \u001b[38;5;21m__getitem__\u001b[39m(\u001b[38;5;28mself\u001b[39m, key):\n\u001b[1;32m    255\u001b[0m     \u001b[38;5;124;03m\"\"\"\u001b[39;00m\n\u001b[1;32m    256\u001b[0m \u001b[38;5;124;03m    Returns a single field.  Will add if necessary.\u001b[39;00m\n\u001b[1;32m    257\u001b[0m \u001b[38;5;124;03m    \"\"\"\u001b[39;00m\n\u001b[0;32m--> 258\u001b[0m     f \u001b[38;5;241m=\u001b[39m \u001b[38;5;28;43mself\u001b[39;49m\u001b[38;5;241;43m.\u001b[39;49m\u001b[43m_determine_fields\u001b[49m\u001b[43m(\u001b[49m\u001b[43m[\u001b[49m\u001b[43mkey\u001b[49m\u001b[43m]\u001b[49m\u001b[43m)\u001b[49m[\u001b[38;5;241m0\u001b[39m]\n\u001b[1;32m    259\u001b[0m     \u001b[38;5;28;01mif\u001b[39;00m f \u001b[38;5;129;01mnot\u001b[39;00m \u001b[38;5;129;01min\u001b[39;00m \u001b[38;5;28mself\u001b[39m\u001b[38;5;241m.\u001b[39mfield_data \u001b[38;5;129;01mand\u001b[39;00m key \u001b[38;5;129;01mnot\u001b[39;00m \u001b[38;5;129;01min\u001b[39;00m \u001b[38;5;28mself\u001b[39m\u001b[38;5;241m.\u001b[39mfield_data:\n\u001b[1;32m    260\u001b[0m         \u001b[38;5;28;01mif\u001b[39;00m f \u001b[38;5;129;01min\u001b[39;00m \u001b[38;5;28mself\u001b[39m\u001b[38;5;241m.\u001b[39m_container_fields:\n",
      "File \u001b[0;32m~/opt/anaconda3/envs/for_yt/lib/python3.9/site-packages/yt/data_objects/data_containers.py:1473\u001b[0m, in \u001b[0;36mYTDataContainer._determine_fields\u001b[0;34m(self, fields)\u001b[0m\n\u001b[1;32m   1470\u001b[0m     \u001b[38;5;28;01mcontinue\u001b[39;00m\n\u001b[1;32m   1472\u001b[0m ftype, fname \u001b[38;5;241m=\u001b[39m \u001b[38;5;28mself\u001b[39m\u001b[38;5;241m.\u001b[39m_tupleize_field(field)\n\u001b[0;32m-> 1473\u001b[0m finfo \u001b[38;5;241m=\u001b[39m \u001b[38;5;28;43mself\u001b[39;49m\u001b[38;5;241;43m.\u001b[39;49m\u001b[43mds\u001b[49m\u001b[38;5;241;43m.\u001b[39;49m\u001b[43m_get_field_info\u001b[49m\u001b[43m(\u001b[49m\u001b[43mftype\u001b[49m\u001b[43m,\u001b[49m\u001b[43m \u001b[49m\u001b[43mfname\u001b[49m\u001b[43m)\u001b[49m\n\u001b[1;32m   1475\u001b[0m \u001b[38;5;66;03m# really ugly check to ensure that this field really does exist somewhere,\u001b[39;00m\n\u001b[1;32m   1476\u001b[0m \u001b[38;5;66;03m# in some naming convention, before returning it as a possible field type\u001b[39;00m\n\u001b[1;32m   1477\u001b[0m \u001b[38;5;28;01mif\u001b[39;00m (\n\u001b[1;32m   1478\u001b[0m     (ftype, fname) \u001b[38;5;129;01mnot\u001b[39;00m \u001b[38;5;129;01min\u001b[39;00m \u001b[38;5;28mself\u001b[39m\u001b[38;5;241m.\u001b[39mds\u001b[38;5;241m.\u001b[39mfield_info\n\u001b[1;32m   1479\u001b[0m     \u001b[38;5;129;01mand\u001b[39;00m (ftype, fname) \u001b[38;5;129;01mnot\u001b[39;00m \u001b[38;5;129;01min\u001b[39;00m \u001b[38;5;28mself\u001b[39m\u001b[38;5;241m.\u001b[39mds\u001b[38;5;241m.\u001b[39mfield_list\n\u001b[0;32m   (...)\u001b[0m\n\u001b[1;32m   1483\u001b[0m     \u001b[38;5;129;01mand\u001b[39;00m (ftype, fname) \u001b[38;5;129;01mnot\u001b[39;00m \u001b[38;5;129;01min\u001b[39;00m \u001b[38;5;28mself\u001b[39m\u001b[38;5;241m.\u001b[39m_container_fields\n\u001b[1;32m   1484\u001b[0m ):\n",
      "File \u001b[0;32m~/opt/anaconda3/envs/for_yt/lib/python3.9/site-packages/yt/data_objects/static_output.py:858\u001b[0m, in \u001b[0;36mDataset._get_field_info\u001b[0;34m(self, ftype, fname)\u001b[0m\n\u001b[1;32m    857\u001b[0m \u001b[38;5;28;01mdef\u001b[39;00m \u001b[38;5;21m_get_field_info\u001b[39m(\u001b[38;5;28mself\u001b[39m, ftype, fname\u001b[38;5;241m=\u001b[39m\u001b[38;5;28;01mNone\u001b[39;00m):\n\u001b[0;32m--> 858\u001b[0m     field_info, candidates \u001b[38;5;241m=\u001b[39m \u001b[38;5;28;43mself\u001b[39;49m\u001b[38;5;241;43m.\u001b[39;49m\u001b[43m_get_field_info_helper\u001b[49m\u001b[43m(\u001b[49m\u001b[43mftype\u001b[49m\u001b[43m,\u001b[49m\u001b[43m \u001b[49m\u001b[43mfname\u001b[49m\u001b[43m)\u001b[49m\n\u001b[1;32m    860\u001b[0m     \u001b[38;5;28;01mif\u001b[39;00m field_info\u001b[38;5;241m.\u001b[39mname[\u001b[38;5;241m1\u001b[39m] \u001b[38;5;129;01min\u001b[39;00m (\u001b[38;5;124m\"\u001b[39m\u001b[38;5;124mpx\u001b[39m\u001b[38;5;124m\"\u001b[39m, \u001b[38;5;124m\"\u001b[39m\u001b[38;5;124mpy\u001b[39m\u001b[38;5;124m\"\u001b[39m, \u001b[38;5;124m\"\u001b[39m\u001b[38;5;124mpz\u001b[39m\u001b[38;5;124m\"\u001b[39m, \u001b[38;5;124m\"\u001b[39m\u001b[38;5;124mpdx\u001b[39m\u001b[38;5;124m\"\u001b[39m, \u001b[38;5;124m\"\u001b[39m\u001b[38;5;124mpdy\u001b[39m\u001b[38;5;124m\"\u001b[39m, \u001b[38;5;124m\"\u001b[39m\u001b[38;5;124mpdz\u001b[39m\u001b[38;5;124m\"\u001b[39m):\n\u001b[1;32m    861\u001b[0m         \u001b[38;5;66;03m# escape early as a bandaid solution to\u001b[39;00m\n\u001b[1;32m    862\u001b[0m         \u001b[38;5;66;03m# https://github.com/yt-project/yt/issues/3381\u001b[39;00m\n\u001b[1;32m    863\u001b[0m         \u001b[38;5;28;01mreturn\u001b[39;00m field_info\n",
      "File \u001b[0;32m~/opt/anaconda3/envs/for_yt/lib/python3.9/site-packages/yt/data_objects/static_output.py:978\u001b[0m, in \u001b[0;36mDataset._get_field_info_helper\u001b[0;34m(self, ftype, fname)\u001b[0m\n\u001b[1;32m    976\u001b[0m             \u001b[38;5;28mself\u001b[39m\u001b[38;5;241m.\u001b[39m_last_finfo \u001b[38;5;241m=\u001b[39m \u001b[38;5;28mself\u001b[39m\u001b[38;5;241m.\u001b[39mfield_info[(ftype, fname)]\n\u001b[1;32m    977\u001b[0m             \u001b[38;5;28;01mreturn\u001b[39;00m \u001b[38;5;28mself\u001b[39m\u001b[38;5;241m.\u001b[39m_last_finfo, candidates\n\u001b[0;32m--> 978\u001b[0m \u001b[38;5;28;01mraise\u001b[39;00m YTFieldNotFound(field\u001b[38;5;241m=\u001b[39mINPUT, ds\u001b[38;5;241m=\u001b[39m\u001b[38;5;28mself\u001b[39m)\n",
      "\u001b[0;31mYTFieldNotFound\u001b[0m: Could not find field ('deposit', 'gas_density') in snapshot_324."
     ]
    }
   ],
   "source": [
    "print(obj[\"deposit\", \"gas_density\"])\n"
   ]
  },
  {
   "cell_type": "code",
   "execution_count": 78,
   "id": "45e94e48",
   "metadata": {},
   "outputs": [],
   "source": [
    "sun_offset = ds.arr([0.,0., 0.], \"kpc\")\n",
    "ray_length = 200*un.kpc\n",
    "start_loc = center+sun_offset\n",
    "bs = np.linspace(np.pi/6,np.pi/2,10)\n",
    "ls = np.linspace(0,np.pi,5)\n",
    "DM = {}\n",
    "for l in ls:\n",
    "    DM[l] = np.zeros(bs.shape)\n",
    "    for ib,b in enumerate(bs):\n",
    "        phi,theta = l, np.pi/2-b\n",
    "        unit_vector = ds.arr([np.cos(theta)*np.cos(phi),np.sin(theta)*np.sin(phi), np.cos(theta)])\n",
    "        end_loc = start_loc + ray_length * unit_vector\n",
    "        my_ray = ds.r[start_loc:end_loc:100j]\n",
    "        #print(l,b,my_ray[\"dts\"].sum())\n",
    "        #DM[l][ib] = (my_ray[(\"gas\",\"El_number_density\")] * my_ray[\"dts\"] * (my_ray[(\"gas\",\"temperature\")]>1e6*un.K)).sum()*ray_length"
   ]
  },
  {
   "cell_type": "code",
   "execution_count": 84,
   "id": "727c6a3b",
   "metadata": {},
   "outputs": [
    {
     "ename": "YTNonIndexedDataContainer",
     "evalue": "The data container type (ParticleContainer) is an unindexed type. Operations such as ires, icoords, fcoords and fwidth will not work on it.\nDid you just attempt to perform an off-axis operation ? Be sure to consult the latest documentation to see whether the operation you tried is actually supported for your data type.",
     "output_type": "error",
     "traceback": [
      "\u001b[0;31m---------------------------------------------------------------------------\u001b[0m",
      "\u001b[0;31mYTNonIndexedDataContainer\u001b[0m                 Traceback (most recent call last)",
      "Cell \u001b[0;32mIn[84], line 1\u001b[0m\n\u001b[0;32m----> 1\u001b[0m \u001b[43mmy_ray\u001b[49m\u001b[43m[\u001b[49m\u001b[43m(\u001b[49m\u001b[38;5;124;43m\"\u001b[39;49m\u001b[38;5;124;43mgas\u001b[39;49m\u001b[38;5;124;43m\"\u001b[39;49m\u001b[43m,\u001b[49m\u001b[38;5;124;43m\"\u001b[39;49m\u001b[38;5;124;43mEl_number_density\u001b[39;49m\u001b[38;5;124;43m\"\u001b[39;49m\u001b[43m)\u001b[49m\u001b[43m]\u001b[49m\n",
      "File \u001b[0;32m~/opt/anaconda3/envs/for_yt/lib/python3.9/site-packages/yt/visualization/line_plot.py:66\u001b[0m, in \u001b[0;36mLineBuffer.__getitem__\u001b[0;34m(self, item)\u001b[0m\n\u001b[1;32m     64\u001b[0m     \u001b[38;5;28;01mreturn\u001b[39;00m \u001b[38;5;28mself\u001b[39m\u001b[38;5;241m.\u001b[39mdata[item]\n\u001b[1;32m     65\u001b[0m mylog\u001b[38;5;241m.\u001b[39minfo(\u001b[38;5;124m\"\u001b[39m\u001b[38;5;124mMaking a line buffer with \u001b[39m\u001b[38;5;132;01m%d\u001b[39;00m\u001b[38;5;124m points of \u001b[39m\u001b[38;5;132;01m%s\u001b[39;00m\u001b[38;5;124m\"\u001b[39m, \u001b[38;5;28mself\u001b[39m\u001b[38;5;241m.\u001b[39mnpoints, item)\n\u001b[0;32m---> 66\u001b[0m \u001b[38;5;28mself\u001b[39m\u001b[38;5;241m.\u001b[39mpoints, \u001b[38;5;28mself\u001b[39m\u001b[38;5;241m.\u001b[39mdata[item] \u001b[38;5;241m=\u001b[39m \u001b[38;5;28;43mself\u001b[39;49m\u001b[38;5;241;43m.\u001b[39;49m\u001b[43mds\u001b[49m\u001b[38;5;241;43m.\u001b[39;49m\u001b[43mcoordinates\u001b[49m\u001b[38;5;241;43m.\u001b[39;49m\u001b[43mpixelize_line\u001b[49m\u001b[43m(\u001b[49m\n\u001b[1;32m     67\u001b[0m \u001b[43m    \u001b[49m\u001b[43mitem\u001b[49m\u001b[43m,\u001b[49m\u001b[43m \u001b[49m\u001b[38;5;28;43mself\u001b[39;49m\u001b[38;5;241;43m.\u001b[39;49m\u001b[43mstart_point\u001b[49m\u001b[43m,\u001b[49m\u001b[43m \u001b[49m\u001b[38;5;28;43mself\u001b[39;49m\u001b[38;5;241;43m.\u001b[39;49m\u001b[43mend_point\u001b[49m\u001b[43m,\u001b[49m\u001b[43m \u001b[49m\u001b[38;5;28;43mself\u001b[39;49m\u001b[38;5;241;43m.\u001b[39;49m\u001b[43mnpoints\u001b[49m\n\u001b[1;32m     68\u001b[0m \u001b[43m\u001b[49m\u001b[43m)\u001b[49m\n\u001b[1;32m     70\u001b[0m \u001b[38;5;28;01mreturn\u001b[39;00m \u001b[38;5;28mself\u001b[39m\u001b[38;5;241m.\u001b[39mdata[item]\n",
      "File \u001b[0;32m~/opt/anaconda3/envs/for_yt/lib/python3.9/site-packages/yt/geometry/coordinates/cartesian_coordinates.py:291\u001b[0m, in \u001b[0;36mCartesianCoordinateHandler.pixelize_line\u001b[0;34m(self, field, start_point, end_point, npoints)\u001b[0m\n\u001b[1;32m    289\u001b[0m \u001b[38;5;28;01melse\u001b[39;00m:\n\u001b[1;32m    290\u001b[0m     ray \u001b[38;5;241m=\u001b[39m \u001b[38;5;28mself\u001b[39m\u001b[38;5;241m.\u001b[39mds\u001b[38;5;241m.\u001b[39mray(start_point, end_point)\n\u001b[0;32m--> 291\u001b[0m     arc_length, plot_values \u001b[38;5;241m=\u001b[39m \u001b[43m_sample_ray\u001b[49m\u001b[43m(\u001b[49m\u001b[43mray\u001b[49m\u001b[43m,\u001b[49m\u001b[43m \u001b[49m\u001b[43mnpoints\u001b[49m\u001b[43m,\u001b[49m\u001b[43m \u001b[49m\u001b[43mfield\u001b[49m\u001b[43m)\u001b[49m\n\u001b[1;32m    292\u001b[0m \u001b[38;5;28;01mreturn\u001b[39;00m arc_length, plot_values\n",
      "File \u001b[0;32m~/opt/anaconda3/envs/for_yt/lib/python3.9/site-packages/yt/geometry/coordinates/cartesian_coordinates.py:49\u001b[0m, in \u001b[0;36m_sample_ray\u001b[0;34m(ray, npoints, field)\u001b[0m\n\u001b[1;32m     47\u001b[0m sample_points \u001b[38;5;241m=\u001b[39m [np\u001b[38;5;241m.\u001b[39marange(npoints) \u001b[38;5;241m*\u001b[39m sample_dr[i] \u001b[38;5;28;01mfor\u001b[39;00m i \u001b[38;5;129;01min\u001b[39;00m \u001b[38;5;28mrange\u001b[39m(\u001b[38;5;241m3\u001b[39m)]\n\u001b[1;32m     48\u001b[0m sample_points \u001b[38;5;241m=\u001b[39m uvstack(sample_points)\u001b[38;5;241m.\u001b[39mT \u001b[38;5;241m+\u001b[39m start_point\n\u001b[0;32m---> 49\u001b[0m ray_coordinates \u001b[38;5;241m=\u001b[39m uvstack([ray[(\u001b[38;5;124m\"\u001b[39m\u001b[38;5;124mindex\u001b[39m\u001b[38;5;124m\"\u001b[39m, d)] \u001b[38;5;28;01mfor\u001b[39;00m d \u001b[38;5;129;01min\u001b[39;00m \u001b[38;5;124m\"\u001b[39m\u001b[38;5;124mxyz\u001b[39m\u001b[38;5;124m\"\u001b[39m])\u001b[38;5;241m.\u001b[39mT\n\u001b[1;32m     50\u001b[0m ray_dds \u001b[38;5;241m=\u001b[39m uvstack([ray[(\u001b[38;5;124m\"\u001b[39m\u001b[38;5;124mindex\u001b[39m\u001b[38;5;124m\"\u001b[39m, \u001b[38;5;124mf\u001b[39m\u001b[38;5;124m\"\u001b[39m\u001b[38;5;124md\u001b[39m\u001b[38;5;132;01m{\u001b[39;00md\u001b[38;5;132;01m}\u001b[39;00m\u001b[38;5;124m\"\u001b[39m)] \u001b[38;5;28;01mfor\u001b[39;00m d \u001b[38;5;129;01min\u001b[39;00m \u001b[38;5;124m\"\u001b[39m\u001b[38;5;124mxyz\u001b[39m\u001b[38;5;124m\"\u001b[39m])\u001b[38;5;241m.\u001b[39mT\n\u001b[1;32m     51\u001b[0m ray_field \u001b[38;5;241m=\u001b[39m ray[field]\n",
      "File \u001b[0;32m~/opt/anaconda3/envs/for_yt/lib/python3.9/site-packages/yt/geometry/coordinates/cartesian_coordinates.py:49\u001b[0m, in \u001b[0;36m<listcomp>\u001b[0;34m(.0)\u001b[0m\n\u001b[1;32m     47\u001b[0m sample_points \u001b[38;5;241m=\u001b[39m [np\u001b[38;5;241m.\u001b[39marange(npoints) \u001b[38;5;241m*\u001b[39m sample_dr[i] \u001b[38;5;28;01mfor\u001b[39;00m i \u001b[38;5;129;01min\u001b[39;00m \u001b[38;5;28mrange\u001b[39m(\u001b[38;5;241m3\u001b[39m)]\n\u001b[1;32m     48\u001b[0m sample_points \u001b[38;5;241m=\u001b[39m uvstack(sample_points)\u001b[38;5;241m.\u001b[39mT \u001b[38;5;241m+\u001b[39m start_point\n\u001b[0;32m---> 49\u001b[0m ray_coordinates \u001b[38;5;241m=\u001b[39m uvstack([\u001b[43mray\u001b[49m\u001b[43m[\u001b[49m\u001b[43m(\u001b[49m\u001b[38;5;124;43m\"\u001b[39;49m\u001b[38;5;124;43mindex\u001b[39;49m\u001b[38;5;124;43m\"\u001b[39;49m\u001b[43m,\u001b[49m\u001b[43m \u001b[49m\u001b[43md\u001b[49m\u001b[43m)\u001b[49m\u001b[43m]\u001b[49m \u001b[38;5;28;01mfor\u001b[39;00m d \u001b[38;5;129;01min\u001b[39;00m \u001b[38;5;124m\"\u001b[39m\u001b[38;5;124mxyz\u001b[39m\u001b[38;5;124m\"\u001b[39m])\u001b[38;5;241m.\u001b[39mT\n\u001b[1;32m     50\u001b[0m ray_dds \u001b[38;5;241m=\u001b[39m uvstack([ray[(\u001b[38;5;124m\"\u001b[39m\u001b[38;5;124mindex\u001b[39m\u001b[38;5;124m\"\u001b[39m, \u001b[38;5;124mf\u001b[39m\u001b[38;5;124m\"\u001b[39m\u001b[38;5;124md\u001b[39m\u001b[38;5;132;01m{\u001b[39;00md\u001b[38;5;132;01m}\u001b[39;00m\u001b[38;5;124m\"\u001b[39m)] \u001b[38;5;28;01mfor\u001b[39;00m d \u001b[38;5;129;01min\u001b[39;00m \u001b[38;5;124m\"\u001b[39m\u001b[38;5;124mxyz\u001b[39m\u001b[38;5;124m\"\u001b[39m])\u001b[38;5;241m.\u001b[39mT\n\u001b[1;32m     51\u001b[0m ray_field \u001b[38;5;241m=\u001b[39m ray[field]\n",
      "File \u001b[0;32m~/opt/anaconda3/envs/for_yt/lib/python3.9/site-packages/yt/data_objects/data_containers.py:264\u001b[0m, in \u001b[0;36mYTDataContainer.__getitem__\u001b[0;34m(self, key)\u001b[0m\n\u001b[1;32m    262\u001b[0m         \u001b[38;5;28;01mreturn\u001b[39;00m \u001b[38;5;28mself\u001b[39m\u001b[38;5;241m.\u001b[39mfield_data[f]\n\u001b[1;32m    263\u001b[0m     \u001b[38;5;28;01melse\u001b[39;00m:\n\u001b[0;32m--> 264\u001b[0m         \u001b[38;5;28;43mself\u001b[39;49m\u001b[38;5;241;43m.\u001b[39;49m\u001b[43mget_data\u001b[49m\u001b[43m(\u001b[49m\u001b[43mf\u001b[49m\u001b[43m)\u001b[49m\n\u001b[1;32m    265\u001b[0m \u001b[38;5;66;03m# fi.units is the unit expression string. We depend on the registry\u001b[39;00m\n\u001b[1;32m    266\u001b[0m \u001b[38;5;66;03m# hanging off the dataset to define this unit object.\u001b[39;00m\n\u001b[1;32m    267\u001b[0m \u001b[38;5;66;03m# Note that this is less succinct so that we can account for the case\u001b[39;00m\n\u001b[1;32m    268\u001b[0m \u001b[38;5;66;03m# when there are, for example, no elements in the object.\u001b[39;00m\n\u001b[1;32m    269\u001b[0m \u001b[38;5;28;01mtry\u001b[39;00m:\n",
      "File \u001b[0;32m~/opt/anaconda3/envs/for_yt/lib/python3.9/site-packages/yt/data_objects/selection_objects/data_selection_objects.py:212\u001b[0m, in \u001b[0;36mYTSelectionContainer.get_data\u001b[0;34m(self, fields)\u001b[0m\n\u001b[1;32m    209\u001b[0m     \u001b[38;5;28mself\u001b[39m\u001b[38;5;241m.\u001b[39mfield_data[f]\u001b[38;5;241m.\u001b[39mconvert_to_units(finfos[f]\u001b[38;5;241m.\u001b[39moutput_units)\n\u001b[1;32m    211\u001b[0m fields_to_generate \u001b[38;5;241m+\u001b[39m\u001b[38;5;241m=\u001b[39m gen_fluids \u001b[38;5;241m+\u001b[39m gen_particles\n\u001b[0;32m--> 212\u001b[0m \u001b[38;5;28;43mself\u001b[39;49m\u001b[38;5;241;43m.\u001b[39;49m\u001b[43m_generate_fields\u001b[49m\u001b[43m(\u001b[49m\u001b[43mfields_to_generate\u001b[49m\u001b[43m)\u001b[49m\n\u001b[1;32m    213\u001b[0m \u001b[38;5;28;01mfor\u001b[39;00m field \u001b[38;5;129;01min\u001b[39;00m \u001b[38;5;28mlist\u001b[39m(\u001b[38;5;28mself\u001b[39m\u001b[38;5;241m.\u001b[39mfield_data\u001b[38;5;241m.\u001b[39mkeys()):\n\u001b[1;32m    214\u001b[0m     \u001b[38;5;28;01mif\u001b[39;00m field \u001b[38;5;129;01mnot\u001b[39;00m \u001b[38;5;129;01min\u001b[39;00m ofields:\n",
      "File \u001b[0;32m~/opt/anaconda3/envs/for_yt/lib/python3.9/site-packages/yt/data_objects/selection_objects/data_selection_objects.py:233\u001b[0m, in \u001b[0;36mYTSelectionContainer._generate_fields\u001b[0;34m(self, fields_to_generate)\u001b[0m\n\u001b[1;32m    231\u001b[0m fi \u001b[38;5;241m=\u001b[39m \u001b[38;5;28mself\u001b[39m\u001b[38;5;241m.\u001b[39mds\u001b[38;5;241m.\u001b[39m_get_field_info(\u001b[38;5;241m*\u001b[39mfield)\n\u001b[1;32m    232\u001b[0m \u001b[38;5;28;01mtry\u001b[39;00m:\n\u001b[0;32m--> 233\u001b[0m     fd \u001b[38;5;241m=\u001b[39m \u001b[38;5;28;43mself\u001b[39;49m\u001b[38;5;241;43m.\u001b[39;49m\u001b[43m_generate_field\u001b[49m\u001b[43m(\u001b[49m\u001b[43mfield\u001b[49m\u001b[43m)\u001b[49m\n\u001b[1;32m    234\u001b[0m     \u001b[38;5;28;01mif\u001b[39;00m \u001b[38;5;28mhasattr\u001b[39m(fd, \u001b[38;5;124m\"\u001b[39m\u001b[38;5;124munits\u001b[39m\u001b[38;5;124m\"\u001b[39m):\n\u001b[1;32m    235\u001b[0m         fd\u001b[38;5;241m.\u001b[39munits\u001b[38;5;241m.\u001b[39mregistry \u001b[38;5;241m=\u001b[39m \u001b[38;5;28mself\u001b[39m\u001b[38;5;241m.\u001b[39mds\u001b[38;5;241m.\u001b[39munit_registry\n",
      "File \u001b[0;32m~/opt/anaconda3/envs/for_yt/lib/python3.9/site-packages/yt/data_objects/data_containers.py:305\u001b[0m, in \u001b[0;36mYTDataContainer._generate_field\u001b[0;34m(self, field)\u001b[0m\n\u001b[1;32m    303\u001b[0m     tr \u001b[38;5;241m=\u001b[39m \u001b[38;5;28mself\u001b[39m\u001b[38;5;241m.\u001b[39m_generate_particle_field(field)\n\u001b[1;32m    304\u001b[0m \u001b[38;5;28;01melse\u001b[39;00m:\n\u001b[0;32m--> 305\u001b[0m     tr \u001b[38;5;241m=\u001b[39m \u001b[38;5;28;43mself\u001b[39;49m\u001b[38;5;241;43m.\u001b[39;49m\u001b[43m_generate_fluid_field\u001b[49m\u001b[43m(\u001b[49m\u001b[43mfield\u001b[49m\u001b[43m)\u001b[49m\n\u001b[1;32m    306\u001b[0m \u001b[38;5;28;01mif\u001b[39;00m tr \u001b[38;5;129;01mis\u001b[39;00m \u001b[38;5;28;01mNone\u001b[39;00m:\n\u001b[1;32m    307\u001b[0m     \u001b[38;5;28;01mraise\u001b[39;00m YTCouldNotGenerateField(field, \u001b[38;5;28mself\u001b[39m\u001b[38;5;241m.\u001b[39mds)\n",
      "File \u001b[0;32m~/opt/anaconda3/envs/for_yt/lib/python3.9/site-packages/yt/data_objects/data_containers.py:324\u001b[0m, in \u001b[0;36mYTDataContainer._generate_fluid_field\u001b[0;34m(self, field)\u001b[0m\n\u001b[1;32m    322\u001b[0m     rv \u001b[38;5;241m=\u001b[39m \u001b[38;5;28mself\u001b[39m\u001b[38;5;241m.\u001b[39m_generate_spatial_fluid(field, ngt_exception\u001b[38;5;241m.\u001b[39mghost_zones)\n\u001b[1;32m    323\u001b[0m \u001b[38;5;28;01melse\u001b[39;00m:\n\u001b[0;32m--> 324\u001b[0m     rv \u001b[38;5;241m=\u001b[39m \u001b[43mfinfo\u001b[49m\u001b[43m(\u001b[49m\u001b[43mgen_obj\u001b[49m\u001b[43m)\u001b[49m\n\u001b[1;32m    325\u001b[0m \u001b[38;5;28;01mreturn\u001b[39;00m rv\n",
      "File \u001b[0;32m~/opt/anaconda3/envs/for_yt/lib/python3.9/site-packages/yt/fields/derived_field.py:292\u001b[0m, in \u001b[0;36mDerivedField.__call__\u001b[0;34m(self, data)\u001b[0m\n\u001b[1;32m    287\u001b[0m     \u001b[38;5;28;01mraise\u001b[39;00m \u001b[38;5;167;01mRuntimeError\u001b[39;00m(\n\u001b[1;32m    288\u001b[0m         \u001b[38;5;124m\"\u001b[39m\u001b[38;5;124mSomething has gone terribly wrong, _function is NullFunc \u001b[39m\u001b[38;5;124m\"\u001b[39m\n\u001b[1;32m    289\u001b[0m         \u001b[38;5;241m+\u001b[39m \u001b[38;5;124mf\u001b[39m\u001b[38;5;124m\"\u001b[39m\u001b[38;5;124mfor \u001b[39m\u001b[38;5;132;01m{\u001b[39;00m\u001b[38;5;28mself\u001b[39m\u001b[38;5;241m.\u001b[39mname\u001b[38;5;132;01m}\u001b[39;00m\u001b[38;5;124m\"\u001b[39m\n\u001b[1;32m    290\u001b[0m     )\n\u001b[1;32m    291\u001b[0m \u001b[38;5;28;01mwith\u001b[39;00m \u001b[38;5;28mself\u001b[39m\u001b[38;5;241m.\u001b[39munit_registry(data):\n\u001b[0;32m--> 292\u001b[0m     dd \u001b[38;5;241m=\u001b[39m \u001b[38;5;28;43mself\u001b[39;49m\u001b[38;5;241;43m.\u001b[39;49m\u001b[43m_function\u001b[49m\u001b[43m(\u001b[49m\u001b[38;5;28;43mself\u001b[39;49m\u001b[43m,\u001b[49m\u001b[43m \u001b[49m\u001b[43mdata\u001b[49m\u001b[43m)\u001b[49m\n\u001b[1;32m    293\u001b[0m \u001b[38;5;28;01mfor\u001b[39;00m field_name \u001b[38;5;129;01min\u001b[39;00m data\u001b[38;5;241m.\u001b[39mkeys():\n\u001b[1;32m    294\u001b[0m     \u001b[38;5;28;01mif\u001b[39;00m field_name \u001b[38;5;129;01mnot\u001b[39;00m \u001b[38;5;129;01min\u001b[39;00m original_fields:\n",
      "File \u001b[0;32m~/opt/anaconda3/envs/for_yt/lib/python3.9/site-packages/yt/geometry/coordinates/coordinate_handler.py:25\u001b[0m, in \u001b[0;36m_get_coord_fields.<locals>._coords\u001b[0;34m(field, data)\u001b[0m\n\u001b[1;32m     24\u001b[0m \u001b[38;5;28;01mdef\u001b[39;00m \u001b[38;5;21m_coords\u001b[39m(field, data):\n\u001b[0;32m---> 25\u001b[0m     rv \u001b[38;5;241m=\u001b[39m data\u001b[38;5;241m.\u001b[39mds\u001b[38;5;241m.\u001b[39marr(\u001b[43mdata\u001b[49m\u001b[38;5;241;43m.\u001b[39;49m\u001b[43mfcoords\u001b[49m[\u001b[38;5;241m.\u001b[39m\u001b[38;5;241m.\u001b[39m\u001b[38;5;241m.\u001b[39m, axi]\u001b[38;5;241m.\u001b[39mcopy(), units)\n\u001b[1;32m     26\u001b[0m     \u001b[38;5;28;01mreturn\u001b[39;00m data\u001b[38;5;241m.\u001b[39m_reshape_vals(rv)\n",
      "File \u001b[0;32m~/opt/anaconda3/envs/for_yt/lib/python3.9/site-packages/yt/data_objects/selection_objects/data_selection_objects.py:426\u001b[0m, in \u001b[0;36mYTSelectionContainer.fcoords\u001b[0;34m(self)\u001b[0m\n\u001b[1;32m    424\u001b[0m \u001b[38;5;28;01mif\u001b[39;00m \u001b[38;5;28mself\u001b[39m\u001b[38;5;241m.\u001b[39m_current_chunk \u001b[38;5;129;01mis\u001b[39;00m \u001b[38;5;28;01mNone\u001b[39;00m:\n\u001b[1;32m    425\u001b[0m     \u001b[38;5;28mself\u001b[39m\u001b[38;5;241m.\u001b[39mindex\u001b[38;5;241m.\u001b[39m_identify_base_chunk(\u001b[38;5;28mself\u001b[39m)\n\u001b[0;32m--> 426\u001b[0m \u001b[38;5;28;01mreturn\u001b[39;00m \u001b[38;5;28;43mself\u001b[39;49m\u001b[38;5;241;43m.\u001b[39;49m\u001b[43m_current_chunk\u001b[49m\u001b[38;5;241;43m.\u001b[39;49m\u001b[43mfcoords\u001b[49m\n",
      "File \u001b[0;32m~/opt/anaconda3/envs/for_yt/lib/python3.9/site-packages/yt/geometry/geometry_handler.py:271\u001b[0m, in \u001b[0;36mcacheable_property.<locals>.cacheable_func\u001b[0;34m(self)\u001b[0m\n\u001b[1;32m    269\u001b[0m     \u001b[38;5;28;01mreturn\u001b[39;00m \u001b[38;5;28mgetattr\u001b[39m(\u001b[38;5;28mself\u001b[39m, n)\n\u001b[1;32m    270\u001b[0m \u001b[38;5;28;01mif\u001b[39;00m \u001b[38;5;28mself\u001b[39m\u001b[38;5;241m.\u001b[39mdata_size \u001b[38;5;129;01mis\u001b[39;00m \u001b[38;5;28;01mNone\u001b[39;00m:\n\u001b[0;32m--> 271\u001b[0m     tr \u001b[38;5;241m=\u001b[39m \u001b[38;5;28;43mself\u001b[39;49m\u001b[38;5;241;43m.\u001b[39;49m\u001b[43m_accumulate_values\u001b[49m\u001b[43m(\u001b[49m\u001b[43mn\u001b[49m\u001b[43m[\u001b[49m\u001b[38;5;241;43m1\u001b[39;49m\u001b[43m:\u001b[49m\u001b[43m]\u001b[49m\u001b[43m)\u001b[49m\n\u001b[1;32m    272\u001b[0m \u001b[38;5;28;01melse\u001b[39;00m:\n\u001b[1;32m    273\u001b[0m     tr \u001b[38;5;241m=\u001b[39m func(\u001b[38;5;28mself\u001b[39m)\n",
      "File \u001b[0;32m~/opt/anaconda3/envs/for_yt/lib/python3.9/site-packages/yt/geometry/geometry_handler.py:307\u001b[0m, in \u001b[0;36mYTDataChunk._accumulate_values\u001b[0;34m(self, method)\u001b[0m\n\u001b[1;32m    305\u001b[0m \u001b[38;5;28;01mfor\u001b[39;00m obj \u001b[38;5;129;01min\u001b[39;00m \u001b[38;5;28mself\u001b[39m\u001b[38;5;241m.\u001b[39m_fast_index \u001b[38;5;129;01mor\u001b[39;00m \u001b[38;5;28mself\u001b[39m\u001b[38;5;241m.\u001b[39mobjs:\n\u001b[1;32m    306\u001b[0m     f \u001b[38;5;241m=\u001b[39m \u001b[38;5;28mgetattr\u001b[39m(obj, mname)\n\u001b[0;32m--> 307\u001b[0m     arrs\u001b[38;5;241m.\u001b[39mappend(\u001b[43mf\u001b[49m\u001b[43m(\u001b[49m\u001b[38;5;28;43mself\u001b[39;49m\u001b[38;5;241;43m.\u001b[39;49m\u001b[43mdobj\u001b[49m\u001b[43m)\u001b[49m)\n\u001b[1;32m    308\u001b[0m \u001b[38;5;28;01mif\u001b[39;00m method \u001b[38;5;241m==\u001b[39m \u001b[38;5;124m\"\u001b[39m\u001b[38;5;124mdtcoords\u001b[39m\u001b[38;5;124m\"\u001b[39m:\n\u001b[1;32m    309\u001b[0m     arrs \u001b[38;5;241m=\u001b[39m [arr[\u001b[38;5;241m0\u001b[39m] \u001b[38;5;28;01mfor\u001b[39;00m arr \u001b[38;5;129;01min\u001b[39;00m arrs]\n",
      "File \u001b[0;32m~/opt/anaconda3/envs/for_yt/lib/python3.9/site-packages/yt/data_objects/index_subobjects/particle_container.py:17\u001b[0m, in \u001b[0;36m_non_indexed.<locals>._func_non_indexed\u001b[0;34m(self, *args, **kwargs)\u001b[0m\n\u001b[1;32m     16\u001b[0m \u001b[38;5;28;01mdef\u001b[39;00m \u001b[38;5;21m_func_non_indexed\u001b[39m(\u001b[38;5;28mself\u001b[39m, \u001b[38;5;241m*\u001b[39margs, \u001b[38;5;241m*\u001b[39m\u001b[38;5;241m*\u001b[39mkwargs):\n\u001b[0;32m---> 17\u001b[0m     \u001b[38;5;28;01mraise\u001b[39;00m YTNonIndexedDataContainer(\u001b[38;5;28mself\u001b[39m)\n",
      "\u001b[0;31mYTNonIndexedDataContainer\u001b[0m: The data container type (ParticleContainer) is an unindexed type. Operations such as ires, icoords, fcoords and fwidth will not work on it.\nDid you just attempt to perform an off-axis operation ? Be sure to consult the latest documentation to see whether the operation you tried is actually supported for your data type."
     ]
    }
   ],
   "source": [
    "my_ray[(\"gas\",\"El_number_density\")]"
   ]
  },
  {
   "cell_type": "code",
   "execution_count": null,
   "id": "5ea8b4b4",
   "metadata": {},
   "outputs": [],
   "source": [
    "exp_time = (300., \"ks\") # exposure time\n",
    "area = (1600.0, \"cm**2\") # collecting area\n",
    "redshift = 0.002"
   ]
  },
  {
   "cell_type": "code",
   "execution_count": 221,
   "id": "1ac9e9f5",
   "metadata": {},
   "outputs": [
    {
     "name": "stderr",
     "output_type": "stream",
     "text": [
      "yt : [INFO     ] 2022-12-13 15:36:10,777 xlim = -27.387737 27.408599\n",
      "yt : [INFO     ] 2022-12-13 15:36:10,778 ylim = -27.398981 27.397355\n",
      "yt : [INFO     ] 2022-12-13 15:36:10,781 xlim = -27.387737 27.408599\n",
      "yt : [INFO     ] 2022-12-13 15:36:10,782 ylim = -27.398981 27.397355\n",
      "yt : [INFO     ] 2022-12-13 15:36:10,783 Making a fixed resolution buffer of (('gas', 'velocity_x')) 144 by 144\n",
      "yt : [INFO     ] 2022-12-13 15:36:13,222 Making a fixed resolution buffer of (('gas', 'xray_emissivity_0.56_0.563_keV')) 144 by 144\n",
      "yt : [INFO     ] 2022-12-13 15:36:15,606 Making a FITS image of field velocity_x\n"
     ]
    }
   ],
   "source": [
    "res = (15*un.arcsecond).to('radian')*d.to('kpc') #LEM paper\n",
    "size_ratio = (Rcirc/Rcirc_sim).value #better run a sim with correct size\n",
    "fld = \"velocity_x\"\n",
    "width_in_kpc = 100\n",
    "Npixels = width_in_kpc // res.value\n",
    "plot = yt.ProjectionPlot(ds, 0, (\"gas\", fld), center=center,method=\"integrate\",\n",
    "                         weight_field=xray_fields[0],\n",
    "                        width=(width_in_kpc/size_ratio,'kpc'),buff_size=(Npixels,Npixels))\n",
    "projected = plot.to_fits_data()[fld].data\n",
    "X,Y = [np.linspace(-width_in_kpc//2,width_in_kpc//2,int(Npixels)) for _ in range(2)]\n",
    "#plot.set_unit((\"hot_gas\", \"velocity_x\"), \"km/s\")\n",
    "#plot.save()"
   ]
  },
  {
   "cell_type": "code",
   "execution_count": 170,
   "id": "dd2ac0d9",
   "metadata": {},
   "outputs": [
    {
     "name": "stderr",
     "output_type": "stream",
     "text": [
      "yt : [INFO     ] 2022-12-13 15:03:36,608 xlim = -312.894897 187.105103\n",
      "yt : [INFO     ] 2022-12-13 15:03:36,610 ylim = -181.483783 318.516217\n",
      "yt : [INFO     ] 2022-12-13 15:03:36,611 xlim = -312.894897 187.105103\n",
      "yt : [INFO     ] 2022-12-13 15:03:36,612 ylim = -181.483783 318.516217\n",
      "yt : [INFO     ] 2022-12-13 15:03:36,613 Making a fixed resolution buffer of (('gas', 'xray_photon_emissivity_0.5_7.0_keV')) 800 by 800\n",
      "yt : [INFO     ] 2022-12-13 15:03:44,987 Saving plot snapshot_324_Projection_z_xray_photon_emissivity_0.5_7.0_keV.png\n"
     ]
    },
    {
     "data": {
      "text/plain": [
       "['snapshot_324_Projection_z_xray_photon_emissivity_0.5_7.0_keV.png']"
      ]
     },
     "execution_count": 170,
     "metadata": {},
     "output_type": "execute_result"
    }
   ],
   "source": [
    "prj = yt.ProjectionPlot(ds, \"z\", xray_fields[-1], width=(0.5, \"Mpc\"))\n",
    "prj.save()"
   ]
  },
  {
   "cell_type": "code",
   "execution_count": 149,
   "id": "725f0b73",
   "metadata": {},
   "outputs": [
    {
     "data": {
      "image/png": "[encoded data removed]",
      "text/plain": [
       "<Figure size 640x480 with 1 Axes>"
      ]
     },
     "metadata": {},
     "output_type": "display_data"
    }
   ],
   "source": [
    "for i in range(len(my_ray[\"t\"])):\n",
    "    pl.plot([my_ray[\"t\"][i],my_ray[\"t\"][i]+my_ray[\"dts\"][i]],[my_ray[\"t\"][i],my_ray[\"t\"][i]+my_ray[\"dts\"][i]])\n",
    "#%pl.semilogy()"
   ]
  },
  {
   "cell_type": "code",
   "execution_count": 56,
   "id": "348eec98",
   "metadata": {},
   "outputs": [
    {
     "data": {
      "text/plain": [
       "[<matplotlib.lines.Line2D at 0x1cf0bb9d0>]"
      ]
     },
     "execution_count": 56,
     "metadata": {},
     "output_type": "execute_result"
    },
    {
     "data": {
      "image/png": "[encoded data removed]",
      "text/plain": [
       "<Figure size 640x480 with 1 Axes>"
      ]
     },
     "metadata": {},
     "output_type": "display_data"
    }
   ],
   "source": [
    "inds = my_ray[\"t\"].argsort()\n",
    "pl.loglog(my_ray[\"PartType0\",\"BH_Dist\"][inds],my_ray[\"gas\",\"El_number_density\"][inds])"
   ]
  },
  {
   "cell_type": "code",
   "execution_count": 57,
   "id": "ac7f2e0f",
   "metadata": {},
   "outputs": [
    {
     "data": {
      "text/plain": [
       "(3.141592653589793, 1.5707963267948966)"
      ]
     },
     "execution_count": 57,
     "metadata": {},
     "output_type": "execute_result"
    }
   ],
   "source": [
    "l,b"
   ]
  },
  {
   "cell_type": "code",
   "execution_count": 99,
   "id": "2933f5db",
   "metadata": {},
   "outputs": [],
   "source": []
  },
  {
   "cell_type": "code",
   "execution_count": null,
   "id": "f30b0ab2",
   "metadata": {},
   "outputs": [],
   "source": []
  },
  {
   "cell_type": "code",
   "execution_count": 98,
   "id": "a9e3c57f",
   "metadata": {},
   "outputs": [],
   "source": []
  },
  {
   "cell_type": "code",
   "execution_count": 88,
   "id": "3b31cba8",
   "metadata": {},
   "outputs": [
    {
     "ename": "ValueError",
     "evalue": "'r' is not a valid axis name. Expected one of 'x', 'y', 'z'.",
     "output_type": "error",
     "traceback": [
      "\u001b[0;31m---------------------------------------------------------------------------\u001b[0m",
      "\u001b[0;31mValueError\u001b[0m                                Traceback (most recent call last)",
      "Cell \u001b[0;32mIn[88], line 1\u001b[0m\n\u001b[0;32m----> 1\u001b[0m plot \u001b[38;5;241m=\u001b[39m \u001b[43myt\u001b[49m\u001b[38;5;241;43m.\u001b[39;49m\u001b[43mSlicePlot\u001b[49m\u001b[43m(\u001b[49m\u001b[43mds\u001b[49m\u001b[43m,\u001b[49m\u001b[43m \u001b[49m\u001b[38;5;124;43m\"\u001b[39;49m\u001b[38;5;124;43mr\u001b[39;49m\u001b[38;5;124;43m\"\u001b[39;49m\u001b[43m,\u001b[49m\u001b[43m \u001b[49m\u001b[43m(\u001b[49m\u001b[38;5;124;43m\"\u001b[39;49m\u001b[38;5;124;43mhot_gas\u001b[39;49m\u001b[38;5;124;43m\"\u001b[39;49m\u001b[43m,\u001b[49m\u001b[43m \u001b[49m\u001b[38;5;124;43m\"\u001b[39;49m\u001b[38;5;124;43mEl_number_density\u001b[39;49m\u001b[38;5;124;43m\"\u001b[39;49m\u001b[43m)\u001b[49m\u001b[43m,\u001b[49m\u001b[43m \u001b[49m\u001b[43mcenter\u001b[49m\u001b[38;5;241;43m=\u001b[39;49m\u001b[43mcenter\u001b[49m\u001b[43m,\u001b[49m\u001b[43mmethod\u001b[49m\u001b[38;5;241;43m=\u001b[39;49m\u001b[38;5;124;43m\"\u001b[39;49m\u001b[38;5;124;43mintegrate\u001b[39;49m\u001b[38;5;124;43m\"\u001b[39;49m\u001b[43m)\u001b[49m\n\u001b[1;32m      2\u001b[0m                         \u001b[38;5;66;03m#width=(width_in_kpc/size_ratio,'kpc'),buff_size=(Npixels,Npixels))\u001b[39;00m\n",
      "File \u001b[0;32m~/opt/anaconda3/envs/for_yt/lib/python3.9/site-packages/yt/visualization/plot_window.py:1625\u001b[0m, in \u001b[0;36mSlicePlot.__new__\u001b[0;34m(cls, ds, normal, fields, axis, *args, **kwargs)\u001b[0m\n\u001b[1;32m   1622\u001b[0m normal \u001b[38;5;241m=\u001b[39m \u001b[38;5;28mcls\u001b[39m\u001b[38;5;241m.\u001b[39m_validate_init_args(normal\u001b[38;5;241m=\u001b[39mnormal, axis\u001b[38;5;241m=\u001b[39maxis, fields\u001b[38;5;241m=\u001b[39mfields)\n\u001b[1;32m   1624\u001b[0m \u001b[38;5;28;01mif\u001b[39;00m \u001b[38;5;28mcls\u001b[39m \u001b[38;5;129;01mis\u001b[39;00m SlicePlot:\n\u001b[0;32m-> 1625\u001b[0m     normal \u001b[38;5;241m=\u001b[39m \u001b[38;5;28;43mcls\u001b[39;49m\u001b[38;5;241;43m.\u001b[39;49m\u001b[43msanitize_normal_vector\u001b[49m\u001b[43m(\u001b[49m\u001b[43mds\u001b[49m\u001b[43m,\u001b[49m\u001b[43m \u001b[49m\u001b[43mnormal\u001b[49m\u001b[43m)\u001b[49m\n\u001b[1;32m   1626\u001b[0m     \u001b[38;5;28;01mif\u001b[39;00m \u001b[38;5;28misinstance\u001b[39m(normal, \u001b[38;5;28mstr\u001b[39m):\n\u001b[1;32m   1627\u001b[0m         \u001b[38;5;28mcls\u001b[39m \u001b[38;5;241m=\u001b[39m AxisAlignedSlicePlot\n",
      "File \u001b[0;32m~/opt/anaconda3/envs/for_yt/lib/python3.9/site-packages/yt/visualization/plot_window.py:1406\u001b[0m, in \u001b[0;36mNormalPlot.sanitize_normal_vector\u001b[0;34m(ds, normal)\u001b[0m\n\u001b[1;32m   1404\u001b[0m     \u001b[38;5;28;01mif\u001b[39;00m normal \u001b[38;5;129;01mnot\u001b[39;00m \u001b[38;5;129;01min\u001b[39;00m axis_names:\n\u001b[1;32m   1405\u001b[0m         names_str \u001b[38;5;241m=\u001b[39m \u001b[38;5;124m\"\u001b[39m\u001b[38;5;124m, \u001b[39m\u001b[38;5;124m\"\u001b[39m\u001b[38;5;241m.\u001b[39mjoin(\u001b[38;5;124mf\u001b[39m\u001b[38;5;124m\"\u001b[39m\u001b[38;5;124m'\u001b[39m\u001b[38;5;132;01m{\u001b[39;00mname\u001b[38;5;132;01m}\u001b[39;00m\u001b[38;5;124m'\u001b[39m\u001b[38;5;124m\"\u001b[39m \u001b[38;5;28;01mfor\u001b[39;00m name \u001b[38;5;129;01min\u001b[39;00m axis_names)\n\u001b[0;32m-> 1406\u001b[0m         \u001b[38;5;28;01mraise\u001b[39;00m \u001b[38;5;167;01mValueError\u001b[39;00m(\n\u001b[1;32m   1407\u001b[0m             \u001b[38;5;124mf\u001b[39m\u001b[38;5;124m\"\u001b[39m\u001b[38;5;124m'\u001b[39m\u001b[38;5;132;01m{\u001b[39;00mnormal\u001b[38;5;132;01m}\u001b[39;00m\u001b[38;5;124m'\u001b[39m\u001b[38;5;124m is not a valid axis name. Expected one of \u001b[39m\u001b[38;5;132;01m{\u001b[39;00mnames_str\u001b[38;5;132;01m}\u001b[39;00m\u001b[38;5;124m.\u001b[39m\u001b[38;5;124m\"\u001b[39m\n\u001b[1;32m   1408\u001b[0m         )\n\u001b[1;32m   1409\u001b[0m     \u001b[38;5;28;01mreturn\u001b[39;00m normal\n\u001b[1;32m   1411\u001b[0m \u001b[38;5;28;01mif\u001b[39;00m \u001b[38;5;28misinstance\u001b[39m(normal, \u001b[38;5;28mint\u001b[39m):\n",
      "\u001b[0;31mValueError\u001b[0m: 'r' is not a valid axis name. Expected one of 'x', 'y', 'z'."
     ]
    }
   ],
   "source": [
    "plot = yt.SlicePlot(ds, \"r\", (\"hot_gas\", \"El_number_density\"), center=center,method=\"integrate\")\n",
    "                        #width=(width_in_kpc/size_ratio,'kpc'),buff_size=(Npixels,Npixels))\n"
   ]
  },
  {
   "cell_type": "code",
   "execution_count": null,
   "id": "3acfc543",
   "metadata": {},
   "outputs": [],
   "source": [
    "c_obs = c + ds.arr([8.,0., 0.], \"code_length\")\n",
    "c_obs = ds.arr([8.,0., 0.], \"code_length\")\n",
    "metals = [\"He_fraction\", \"C_fraction\", \"N_fraction\", \"O_fraction\",\n",
    "          \"Ne_fraction\", \"Mg_fraction\", \"Si_fraction\", \"Fe_fraction\"]\n",
    "var_elem = {elem.split(\"_\")[0]: (\"hot_gas\", elem) for elem in metals}\n",
    "\n",
    "# set up the source model\n",
    "\n",
    "emin = 0.25 # The minimum energy to generate in keV\n",
    "emax = 1.5 # The maximum energy to generate in keV\n",
    "nbins = 5000 # The number of energy bins between emin and emax\n",
    "kT_max = 2.0 # The max gas temperature to use\n",
    "source_model = pyxsim.CIESourceModel(\n",
    "    \"apec\", emin, emax, nbins, (\"hot_gas\",\"metallicity\"),\n",
    "    temperature_field=(\"hot_gas\",\"temperature\"),\n",
    "    emission_measure_field=(\"hot_gas\", \"emission_measure\"),\n",
    "    kT_max=kT_max, var_elem=var_elem\n",
    ")\n",
    "exp_time = (50., \"s\") # exposure time\n",
    "area = (5000.0, \"cm**2\") # collecting area\n",
    "redshift = 0.0 # the cosmological redshift of the source, this source is local\n",
    "width = ds.quan(1.0, \"Mpc\")\n",
    "le = c - 0.5*width\n",
    "re = c + 0.5*width\n",
    "box = ds.box(le, re)\n",
    "c = ds.arr([0,0,0], \"code_length\")\n",
    "width = ds.quan(1.0, \"Mpc\")\n",
    "le = c - 0.5*width\n",
    "re = c + 0.5*width\n",
    "box = ds.box(le, re)\n",
    "n_photons, n_cells = pyxsim.make_photons(\"sub_494709_photons_internal\", box,\n",
    "                                         redshift, area, exp_time, source_model,\n",
    "                                         center=c_obs, bulk_velocity=bulk_velocity,\n",
    "                                         observer=\"internal\")\n",
    "v = ds.arr([0,0,0], \"km/s\")\n",
    "n_photons, n_cells = pyxsim.make_photons(\"sub_494709_photons_internal\", box,\n",
    "                                         redshift, area, exp_time, source_model,\n",
    "                                         center=c_obs, bulk_velocity=v,\n",
    "                                         observer=\"internal\")\n",
    "ds.fields\n",
    "sp\n",
    "dir(ds)\n",
    "ds.field_list\n",
    " pyxsim.CIESourceModel?\n",
    "metals = [\"He_fraction\", \"C_fraction\", \"N_fraction\", \"O_fraction\",\n",
    "          \"Ne_fraction\", \"Mg_fraction\", \"Si_fraction\", \"Fe_fraction\"]\n",
    "var_elem = {elem.split(\"_\")[0]: (\"hot_gas\", elem) for elem in metals}\n",
    "\n",
    "# set up the source model\n",
    "\n",
    "emin = 0.25 # The minimum energy to generate in keV\n",
    "emax = 1.5 # The maximum energy to generate in keV\n",
    "nbins = 5000 # The number of energy bins between emin and emax\n",
    "kT_max = 2.0 # The max gas temperature to use\n",
    "source_model = pyxsim.CIESourceModel(\n",
    "    \"apec\", emin, emax, nbins, (\"hot_gas\",\"Metallicity_00\"),\n",
    "    temperature_field=(\"hot_gas\",\"temperature\"),\n",
    "    emission_measure_field=(\"hot_gas\", \"emission_measure\"),\n",
    "    kT_max=kT_max)\n",
    "n_photons, n_cells = pyxsim.make_photons(\"sub_494709_photons_internal\", box,\n",
    "                                         redshift, area, exp_time, source_model,\n",
    "                                         center=c_obs, bulk_velocity=v,\n",
    "                                         observer=\"internal\")\n",
    "ds.field_list\n",
    "ad['PartType0', 'Velocities']\n",
    "ad['PartType0', 'Velocities'].shape\n",
    "yt.ProjectionPlot(ds, normal, (\"gas\", \"velocity\"), weight_field=(\"gas\", \"density\")).save()\n",
    "ys.ProjectionPlot\n",
    "yt.ProjectionPlot\n",
    "yt.ProjectionPlot?\n",
    "yt.ProjectionPlot(ds, 1, (\"gas\", \"velocity\"), weight_field=(\"gas\", \"density\")).save()\n",
    "%history\n",
    "dir(ds)\n",
    "ds.add_field?\n",
    "\n",
    "ds.add_field(\n",
    "    name=(\"PartType0\", \"velocity_x\"),\n",
    "    function=_velocity_x,\n",
    "    sampling_type=\"local\",\n",
    "    units=\"km/s\",\n",
    ")\n",
    "yt.ProjectionPlot(ds, 1, (\"PartType0\", \"velocity_x\"), weight_field=(\"gas\", \"density\")).save()\n",
    "ds.sphere?\n",
    "sp = ds.sphere(c, (100.0, \"kpc\"))\n",
    "yt.ProjectionPlot(sp, 1, (\"PartType0\", \"velocity_x\"), weight_field=(\"gas\", \"density\")).save()\n",
    "sp.field_list\n",
    "dir(sp)\n",
    "yt.ProjectionPlot(sp.sa, 1, (\"PartType0\", \"velocity_x\"), weight_field=(\"gas\", \"density\")).save()\n",
    "yt.ProjectionPlot(sp.ds, 1, (\"PartType0\", \"velocity_x\"), weight_field=(\"gas\", \"density\")).save()\n",
    "plot = yt.ProfilePlot(\n",
    "    my_sphere,\n",
    "    (\"index\", \"radius\"),\n",
    "    (\"gas\", \"density\"),\n",
    "    weight_field=(\"gas\", \"mass\"),\n",
    ")\n",
    "my_sphere = sp\n",
    "plot = yt.ProfilePlot(\n",
    "    my_sphere,\n",
    "    (\"index\", \"radius\"),\n",
    "    (\"gas\", \"density\"),\n",
    "    weight_field=(\"gas\", \"mass\"),\n",
    ")\n",
    "def _r(field, data):\n",
    "    return (data[\"PartType0\",\"Coordinates\"]**2).sum()**0.5\n",
    "ds.add_field(\n",
    "    name=(\"PartType0\", \"radius\"),\n",
    "    function=_r,\n",
    "    sampling_type=\"local\",\n",
    "    units=\"kpc\",\n",
    ")\n",
    "plot = yt.ProfilePlot(\n",
    "    my_sphere,\n",
    "    (\"PartType0\", \"radius\"),\n",
    "    (\"gas\", \"density\"),\n",
    "    weight_field=(\"gas\", \"mass\"),\n",
    "    \n",
    ")\n",
    "plot.save()\n",
    "plot.set_unit((\"PartType0\", \"radius\"), \"kpc\")\n",
    "plot.save()\n",
    "ds.derived_field_list\n",
    "plot = yt.ProfilePlot(\n",
    "    my_sphere,\n",
    "    (\"PartType0\", \"radius\"),\n",
    "    (\"gas\", \"radial_velocity\"),\n",
    "    weight_field=(\"gas\", \"mass\"),\n",
    ")\n",
    "yt.ProfilePlot(\n",
    "    my_sphere,\n",
    "    (\"PartType0\", \"radius\"),\n",
    "    (\"gas\", \"radial_velocity\"),\n",
    "    weight_field=(\"gas\", \"mass\"),\n",
    ").save()\n",
    "yt.ProfilePlot?\n",
    "yt.ProfilePlot(\n",
    "    my_sphere,\n",
    "    (\"PartType0\", \"radius\"),\n",
    "    (\"gas\", \"radial_velocity\"),\n",
    "    weight_field=(\"gas\", \"mass\"),ylog=False,\n",
    ").save()\n",
    "yt.ProfilePlot?\n",
    "yt.ProfilePlot(\n",
    "    my_sphere,\n",
    "    (\"PartType0\", \"radius\"),\n",
    "    (\"gas\", \"radial_velocity\"),\n",
    "    weight_field=(\"gas\", \"mass\"),y_log=False,\n",
    ").save()\n",
    "plot.set_unit((\"PartType0\", \"radius\"), \"kpc\")\n",
    "plot = yt.ProfilePlot(\n",
    "    my_sphere,\n",
    "    (\"PartType0\", \"radius\"),\n",
    "    (\"gas\", \"radial_velocity\"),\n",
    "    weight_field=(\"gas\", \"mass\"),y_log=False,\n",
    ").save()\n",
    "yt.ProjectionPlot(sp.sa, 1, (\"PartType0\", \"velocity_x\"), weight_field=(\"gas\", \"masses\"\")).save()\n",
    "yt.ProjectionPlot(sp.sa, 1, (\"PartType0\", \"velocity_x\"), weight_field=(\"gas\", \"masses\")).save()\n",
    "yt.ProjectionPlot(ds, 1, (\"PartType0\", \"velocity_x\"), weight_field=(\"gas\", \"masses\")).save()\n",
    "yt.ProjectionPlot(ds, 1, (\"PartType0\", \"velocity_x\"), weight_field=(\"PartType0\", \"masses\")).save()\n",
    "ds.derived_field_list\n",
    "yt.ProjectionPlot(ds, 1, (\"PartType0\", \"particle_velocity_y\"), weight_field=(\"PartType0\", \"mass\")).save()\n",
    "yt.ProjectionPlot(sp.ds, 1, (\"PartType0\", \"particle_velocity_y\"), weight_field=(\"PartType0\", \"mass\")).save()\n",
    "yt.ProjectionPlot?\n",
    "yt.ProjectionPlot?"
   ]
  },
  {
   "cell_type": "code",
   "execution_count": 33,
   "id": "777ae48d",
   "metadata": {},
   "outputs": [
    {
     "data": {
      "text/plain": [
       "13.049999999999999"
      ]
     },
     "execution_count": 33,
     "metadata": {},
     "output_type": "execute_result"
    }
   ],
   "source": [
    "87*0.15"
   ]
  },
  {
   "cell_type": "code",
   "execution_count": null,
   "id": "64d56c1f",
   "metadata": {},
   "outputs": [],
   "source": []
  }
 ],
 "metadata": {
  "kernelspec": {
   "display_name": "Python 3 (ipykernel)",
   "language": "python",
   "name": "python3"
  },
  "language_info": {
   "codemirror_mode": {
    "name": "ipython",
    "version": 3
   },
   "file_extension": ".py",
   "mimetype": "text/x-python",
   "name": "python",
   "nbconvert_exporter": "python",
   "pygments_lexer": "ipython3",
   "version": "3.9.7"
  }
 },
 "nbformat": 4,
 "nbformat_minor": 5
}
