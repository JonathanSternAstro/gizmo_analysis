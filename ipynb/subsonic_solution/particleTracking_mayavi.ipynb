{
 "cells": [
  {
   "cell_type": "code",
   "execution_count": 1,
   "metadata": {},
   "outputs": [],
   "source": [
    "import sys, h5py, pdb,time, glob,os \n",
    "from importlib import reload\n",
    "import pylab as pl, numpy as np\n",
    "from numpy import log10 as log\n",
    "from astropy import units as un, constants as cons\n",
    "import scipy, scipy.stats\n",
    "from matplotlib import ticker, patches\n",
    "from mpl_toolkits.mplot3d import Axes3D\n",
    "sys.path.append('../../pysrc')"
   ]
  },
  {
   "cell_type": "code",
   "execution_count": 2,
   "metadata": {},
   "outputs": [
    {
     "name": "stdout",
     "output_type": "stream",
     "text": [
      "Behroozi+18 not loaded\n",
      "palettable colormaps are not installed\n",
      "don't have phil's colormaps\n"
     ]
    }
   ],
   "source": [
    "import workdirs as wd\n",
    "import FIRE_files as ff\n",
    "from FIRE_files import cosmo, u\n",
    "from projectPlotBasics import *\n",
    "import first_pass as l\n",
    "cmap = pl.get_cmap('viridis')\n",
    "figdir = wd.basedir+'ipynb/subsonic_solution/figures/'"
   ]
  },
  {
   "cell_type": "code",
   "execution_count": 3,
   "metadata": {},
   "outputs": [],
   "source": [
    "CF_path = '../../../cooling_flow/pysrc'\n",
    "sys.path.append(CF_path)\n",
    "import cooling_flow as CF, HaloPotential as Halo\n",
    "%matplotlib inline"
   ]
  },
  {
   "cell_type": "code",
   "execution_count": 4,
   "metadata": {},
   "outputs": [],
   "source": [
    "vc = 200. *un.km/un.s\n",
    "#simname = 'vc200_Rs0_Mdot4847_Rcirc10_fgas02_res1e4_n10_NoLowCool_tracking'\n",
    "#Rcirc = 10.*un.kpc\n",
    "#Nsnapshots,dt,rmax = 225,10,40\n",
    "simname = 'vc200_Rs0_Mdot1035_Rcirc15_fgas02_res1e3_dt'\n",
    "Rcirc = 15.*un.kpc\n",
    "Nsnapshots,dt,rmax = 450,5,40\n",
    "simdir = wd.simdir+'/%s/output/'%simname\n",
    "ts = -np.arange(Nsnapshots)*dt\n",
    "ts = ts-ts[-1]"
   ]
  },
  {
   "cell_type": "code",
   "execution_count": 7,
   "metadata": {},
   "outputs": [],
   "source": [
    "npz_fn = wd.tracksdir+simname+'/particle_tracks_%d_%d_%d_all.npz'%(Nsnapshots,dt,rmax)\n",
    "f = np.load(npz_fn)\n",
    "coords,vs,Ts,nHs,tcools=f['coords'],f['vs'],f['Ts'],f['nHs'],f['tcools'][:,::,...]"
   ]
  },
  {
   "cell_type": "code",
   "execution_count": 8,
   "metadata": {},
   "outputs": [],
   "source": [
    "isStar = np.isnan(Ts[:,:])\n",
    "tSF_ind  = np.array([np.concatenate([np.array([True]), isStar[:,i]]).nonzero()[0][-1] for i in range(isStar.shape[1])])\n",
    "tSF = ts[tSF_ind]\n",
    "isCool = Ts[:,:]<1e5\n",
    "t105_ind = np.array([np.concatenate([np.array([True]), isCool[:,i]]).nonzero()[0][-1] for i in range(isCool.shape[1])])\n",
    "t105= ts[t105_ind]"
   ]
  },
  {
   "cell_type": "code",
   "execution_count": 9,
   "metadata": {},
   "outputs": [],
   "source": [
    "mu = 0.62\n",
    "epsilons = Ts / (un.km**2/un.s**2 * cons.m_p / cons.k_B).to('K').value / (2./3* mu) \n",
    "cs = (epsilons*10/9)**0.5 \n",
    "nHTs = nHs*Ts\n",
    "Ks = (cons.k_B*Ts*un.K/(nHs*un.cm**-3)**(2/3.)).to('keV*cm**2').value"
   ]
  },
  {
   "cell_type": "code",
   "execution_count": 10,
   "metadata": {},
   "outputs": [],
   "source": [
    "rhos = nHs*cons.m_p.to('g')/ff.X"
   ]
  },
  {
   "cell_type": "code",
   "execution_count": 11,
   "metadata": {},
   "outputs": [],
   "source": [
    "Edots = epsilons * (un.km**2/un.s**2).to('erg*g**-1') * (dt/tcools)\n",
    "dVs = np.log(nHs[:-1,:]/nHs[1:,:])\n",
    "dVs = np.pad(dVs,((0,1),(0,0)),mode='constant')\n",
    "PdVs = (mu * ff.X)**-1 * (cons.k_B * un.K / un.g).to('erg*g**-1') * nHTs  * dVs / rhos"
   ]
  },
  {
   "cell_type": "code",
   "execution_count": 26,
   "metadata": {},
   "outputs": [],
   "source": [
    "xs,ys,zs = coords[:,:,0],coords[:,:,1],coords[:,:,2]\n",
    "zs += 0.25 #disk is offset for some reason\n",
    "\n",
    "rs    = (xs**2+ys**2+zs**2)**0.5\n",
    "Rs    = (xs**2+ys**2)**0.5\n",
    "phis  = np.arctan2(ys,xs)\n",
    "thetas = np.arccos(zs/rs)"
   ]
  },
  {
   "cell_type": "code",
   "execution_count": 27,
   "metadata": {},
   "outputs": [],
   "source": [
    "dphis = ((phis[:-1,:]-phis[1:,:])%(2*np.pi))[::-1].cumsum(axis=0)[::-1]\n",
    "dphis = np.pad(dphis,((0,1),(0,0)),mode='constant')"
   ]
  },
  {
   "cell_type": "code",
   "execution_count": 28,
   "metadata": {},
   "outputs": [],
   "source": [
    "js = np.array([coords[:,:,1] * vs[:,:,2] - coords[:,:,2] * vs[:,:,1],\n",
    "               coords[:,:,2] * vs[:,:,0] - coords[:,:,0] * vs[:,:,2],\n",
    "               coords[:,:,0] * vs[:,:,1] - coords[:,:,1] * vs[:,:,0]])\n",
    "js = np.moveaxis(js,[0,1],[2,0])\n",
    "jzs = js[:,:,2]"
   ]
  },
  {
   "cell_type": "code",
   "execution_count": 29,
   "metadata": {},
   "outputs": [],
   "source": [
    "vphis = jzs/Rs\n",
    "Omegas = jzs/Rs**2 * un.km/un.s/un.kpc\n",
    "vzs = vs[:,:,2]\n",
    "vRs = (vs[:,:,0]*xs/rs + vs[:,:,1]*ys/rs)\n",
    "vrs = (vs[:,:,0]*xs/rs + vs[:,:,1]*ys/rs + vs[:,:,2]*zs/rs)\n",
    "v_abs = (vRs**2+vzs**2+vphis**2)**0.5\n",
    "# cos𝜃cos𝜙𝐱+cos𝜃sin𝜙𝐲−sin𝜃𝐳)𝜃\n",
    "vthetas = vs[:,:,0]*np.cos(thetas)*np.cos(phis) + vs[:,:,1]*np.cos(thetas)*np.sin(phis) - vs[:,:,2]*np.sin(thetas)"
   ]
  },
  {
   "cell_type": "code",
   "execution_count": 30,
   "metadata": {},
   "outputs": [],
   "source": [
    "tffs   = (2**0.5*rs*un.kpc/vc).to('Myr')\n",
    "trots  = (Omegas**-1).to('Myr')\n",
    "tflows = (rs*un.kpc/(vrs*un.km/un.s)).to('Myr')"
   ]
  },
  {
   "cell_type": "code",
   "execution_count": 31,
   "metadata": {},
   "outputs": [],
   "source": [
    "theta_midbins = np.array([0.1,0.2,0.3,0.45])*np.pi; l = len(theta_midbins)\n",
    "dtheta = 0.025*np.pi\n",
    "theta_inds = np.zeros((len(theta_midbins),thetas.shape[1]))\n",
    "for itheta,theta_midbin in enumerate(theta_midbins):\n",
    "    theta_infty = np.median(thetas[-10:,:],axis=0)\n",
    "    theta_inds[itheta,:] = (theta_infty<theta_midbin+dtheta) & (theta_infty>theta_midbin-dtheta)\n",
    "theta_inds = theta_inds.astype('bool')\n",
    "print(theta_inds.sum(axis=1))"
   ]
  },
  {
   "cell_type": "code",
   "execution_count": 32,
   "metadata": {},
   "outputs": [],
   "source": [
    "%matplotlib inline\n",
    "from matplotlib import cm\n",
    "def plot_helix_pylab(ax,_phis,_Rs,_zs,_Ts,_As,a=2):\n",
    "    _v=pl.linspace(0,2*np.pi,40)\n",
    "    [phis,v]=np.meshgrid(_phis+np.pi/2,_v)\n",
    "    [zs,v]=np.meshgrid(_zs,_v)\n",
    "    [Rs,v]=np.meshgrid(_Rs,_v)\n",
    "    [Ts,v]=np.meshgrid(_Ts,_v)\n",
    "    [As,v]=np.meshgrid(_As*a,_v)\n",
    "    x=(Rs+a*As*np.cos(v))*np.cos(phis)\n",
    "    y=(Rs+a*As*np.cos(v))*np.sin(phis)\n",
    "    z=a*As*np.sin(v)+zs\n",
    "    cc = (log(Ts)-3.5)/3; cc[cc>1] = 1; cc[cc<0] = 0    \n",
    "    ax.plot_surface(x,y,z)#,facecolors=cc,cmap='summer')#(log(Ts)-3.5)/3,\n",
    "                   #rstride=1, cstride=1, linewidth=0, antialiased=False)#,vmin=3.5,vmax=6.5)"
   ]
  },
  {
   "cell_type": "code",
   "execution_count": 33,
   "metadata": {},
   "outputs": [
    {
     "data": {
      "image/png": "[encoded data removed]",
      "text/plain": [
       "<Figure size 432x288 with 1 Axes>"
      ]
     },
     "metadata": {
      "needs_background": "light"
     },
     "output_type": "display_data"
    }
   ],
   "source": [
    "fig = pl.figure()\n",
    "ax = pl.axes(projection='3d')\n",
    "_arr = [(a,b) for a,b in enumerate(theta_midbins)]\n",
    "for i,ind in (_arr[2],_arr[3],_arr[0]):\n",
    "#     if i==1: continue\n",
    "    med_ind = int(np.median(tSF_ind[theta_inds[i]]))\n",
    "    med_dphis, med_Rs, med_zs, med_Ts, med_rhovs = [\n",
    "        np.nanmedian(val[:,theta_inds[i]],axis=1)[med_ind:] for val in (dphis,Rs,zs,Ts,(nHs*v_abs)**-1)]        \n",
    "    med_rhovs /= med_rhovs[-1]    \n",
    "    med_rhovs[med_rhovs<0.1] = 0.1\n",
    "    for j in range(2)[:]:\n",
    "        Tinds = (med_Ts<=1e5, med_Ts>1e5)[j]\n",
    "        if j==0: Tinds[Tinds.nonzero()[0][-1]+1]=True\n",
    "        plot_helix_pylab(ax,med_dphis[Tinds],med_Rs[Tinds],med_zs[Tinds],med_Ts,med_rhovs[Tinds])\n",
    "#     ax.scatter3D(_ys[::d],_xs[::d],_zs[::d],label=labels[i],color=colors[i],marker='o',s=2)\n",
    "    ax.set_ylim(-30,30)\n",
    "    ax.set_xlim(-30,30)\n",
    "    ax.set_zlim(0,35)\n",
    "    ax.view_init(25,-40)\n",
    "    pl.xlabel(r'$x\\ [{\\rm kpc}]$')\n",
    "    pl.ylabel(r'$y\\ [{\\rm kpc}]$')\n",
    "    ax.set_zlabel(r'$z\\ [{\\rm kpc}]$')\n",
    "#pl.savefig(figdir+'3Dtracks.pdf')"
   ]
  },
  {
   "cell_type": "code",
   "execution_count": 34,
   "metadata": {},
   "outputs": [],
   "source": [
    "from mayavi import mlab\n",
    "def plot_helix(ax,_phis,_Rs,_zs,_Ts,_As,a=1):\n",
    "    _v=pl.linspace(0,2*np.pi,40)\n",
    "    [phis,v]=np.meshgrid(_phis+np.pi/2,_v)\n",
    "    [zs,v]=np.meshgrid(_zs,_v)\n",
    "    [Rs,v]=np.meshgrid(_Rs,_v)\n",
    "    [Ts,v]=np.meshgrid(_Ts,_v)\n",
    "    [As,v]=np.meshgrid(_As*a,_v)\n",
    "    x=(Rs+a*As*np.cos(v))*np.cos(phis)\n",
    "    y=(Rs+a*As*np.cos(v))*np.sin(phis)\n",
    "    z=a*As*np.sin(v)+zs\n",
    "    cc = (log(Ts)-3.5)/3; cc[cc>1] = 1; cc[cc<0] = 0    \n",
    "    ax.plot_surface(x,y,z,color=c)#,cmap='coolwarm',facecolors=my_col,#(log(Ts)-3.5)/3,\n",
    "                   #rstride=1, cstride=1, linewidth=0, antialiased=False)#,vmin=3.5,vmax=6.5)\n"
   ]
  },
  {
   "cell_type": "code",
   "execution_count": 35,
   "metadata": {},
   "outputs": [],
   "source": [
    "from mayavi import mlab\n",
    "%gui qt\n",
    "def plot_helix_mayavi(_phis,_Rs,_zs,_Ts,_As,a=2):\n",
    "    _v=pl.linspace(0,2*np.pi,40)\n",
    "    [phis,v]=np.meshgrid(_phis+np.pi/2,_v)\n",
    "    [zs,v]=np.meshgrid(_zs,_v)\n",
    "    [Rs,v]=np.meshgrid(_Rs,_v)\n",
    "    [Ts,v]=np.meshgrid(_Ts,_v)\n",
    "    [As,v]=np.meshgrid(_As*a,_v)\n",
    "    x=(Rs+a*As*np.cos(v))*np.cos(phis)\n",
    "    y=(Rs+a*As*np.cos(v))*np.sin(phis)\n",
    "    z=a*As*np.sin(v)+zs\n",
    "    cc = log(Ts); #(log(Ts)-3.5)/3; cc[cc>1] = 1; cc[cc<0] = 0    \n",
    "    print([_i.shape for _i in (x,y,z,cc)])\n",
    "#     mlab.points3d(x,y,z,_As*a*2,opacity=0.5,scalars==)\n",
    "    s = mlab.mesh(x,y,z,opacity=0.5,scalars=cc,colormap='coolwarm',vmin=3.5,vmax=6.5)\n",
    "#     s.module_manager.scalar_lut_manager.reverse_lut = True\n",
    "    return s\n",
    "#     pts = mlab.quiver3d(x, y, z, sx, sy, sz, scalars=cc, opacity=0.5,\n",
    "#                         mode=\"sphere\", scale_factor=f,colormap='coolwarm')\n",
    "#     pts.glyph.color_mode = \"color_by_scalar\"\n",
    "#     pts.glyph.glyph_source.glyph_source.center = [0,0,0]"
   ]
  },
  {
   "cell_type": "code",
   "execution_count": 36,
   "metadata": {},
   "outputs": [
    {
     "data": {
      "text/plain": [
       "<Figure size 432x288 with 0 Axes>"
      ]
     },
     "metadata": {},
     "output_type": "display_data"
    }
   ],
   "source": [
    "_arr = [(a,b) for a,b in enumerate(theta_midbins)]\n",
    "mlab.figure(bgcolor=(1,1,1), fgcolor=(0.,0.,0.))\n",
    "for i,ind in (_arr[2],_arr[3],_arr[0]):\n",
    "    med_ind = int(np.median(tSF_ind[theta_inds[i]]))\n",
    "    med_dphis, med_Rs, med_zs, med_Ts, med_As = [\n",
    "        np.nanmedian(val[:,theta_inds[i]],axis=1)[med_ind:] for val in (dphis,Rs,zs,Ts,(nHs*v_abs)**-1)]        \n",
    "    med_As /= med_As[-1]    \n",
    "    med_As[med_As<0.03] = 0.03\n",
    "    print([x.shape for x in (med_dphis, med_Rs, med_zs, med_Ts, med_As)])\n",
    "    plot_helix_mayavi(med_dphis,med_Rs,med_zs,med_Ts,med_As)\n",
    "#     mlab.colorbar(title=r'$\\log\\ T\\ [{\\rm K}]$',orientation='vertical', label_fmt=r'$%.1f$',nb_labels=7)\n",
    "ax = mlab.axes(extent=[0,0,0,40,0,40],y_axis_visibility=False,x_axis_visibility=True,z_axis_visibility=False,\n",
    "             ylabel=r'$R_{\\rm cyl}\\,[{\\rm kpc}]$',nb_labels=0,color=(0,0,0))\n",
    "oa = mlab.orientation_axes()\n",
    "oa.axes.x_axis_shaft_property.color = oa.axes.x_axis_tip_property.color = (0.5,0.5,0.5)\n",
    "oa.axes.y_axis_shaft_property.color = oa.axes.y_axis_tip_property.color = (0.5,0.5,0.5)\n",
    "oa.axes.z_axis_shaft_property.color = oa.axes.z_axis_tip_property.color = (0.5,0.5,0.5)\n",
    "pl.savefig(figdir+'3Dtracks_mayavi.pdf')\n",
    "# press the right 'x' button on the top, move axes, zoom-in, turn down a bit, updated labels and positions, and resave, crop, and resave again"
   ]
  },
  {
   "cell_type": "code",
   "execution_count": 22,
   "metadata": {},
   "outputs": [
    {
     "name": "stdout",
     "output_type": "stream",
     "text": [
      "0.00011222532292053726\n",
      "[(45,), (45,), (45,), (45,), (45,)]\n",
      "0.00018401792244139467\n",
      "[(45,), (45,), (45,), (45,), (45,)]\n",
      "6.619618346608959e-06\n",
      "[(45,), (45,), (45,), (45,), (45,)]\n"
     ]
    }
   ],
   "source": [
    "_arr = [(a,b) for a,b in enumerate(theta_midbins)]\n",
    "for i,ind in (_arr[2],_arr[3],_arr[0]):\n",
    "    med_ind = int(np.median(tSF_ind[theta_inds[i]]))\n",
    "    med_dphis, med_Rs, med_zs, med_Ts, med_As = [\n",
    "        np.nanmedian(val[:,theta_inds[i]],axis=1)[med_ind:] for val in (dphis,Rs,zs,Ts,(nHs*v_abs)**-1)]        \n",
    "    med_As /= med_As[-1]    \n",
    "    print(med_As.min())\n",
    "    med_As[med_As<0.03] = 0.03\n",
    "    print([x.shape for x in (med_dphis, med_Rs, med_zs, med_Ts, med_As)])\n"
   ]
  },
  {
   "cell_type": "code",
   "execution_count": null,
   "metadata": {},
   "outputs": [],
   "source": []
  }
 ],
 "metadata": {
  "kernelspec": {
   "display_name": "Python 3 (ipykernel)",
   "language": "python",
   "name": "python3"
  },
  "language_info": {
   "codemirror_mode": {
    "name": "ipython",
    "version": 3
   },
   "file_extension": ".py",
   "mimetype": "text/x-python",
   "name": "python",
   "nbconvert_exporter": "python",
   "pygments_lexer": "ipython3",
   "version": "3.9.7"
  }
 },
 "nbformat": 4,
 "nbformat_minor": 4
}
