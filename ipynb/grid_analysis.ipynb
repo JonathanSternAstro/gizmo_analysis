{
 "cells": [
  {
   "cell_type": "code",
   "execution_count": 1,
   "metadata": {},
   "outputs": [],
   "source": [
    "import sys, h5py, pdb,time, glob\n",
    "from importlib import reload\n",
    "import pylab as pl, numpy as np\n",
    "from numpy import log10 as log\n",
    "from astropy import units as un, constants as cons\n",
    "import scipy, scipy.stats\n",
    "from matplotlib import ticker\n",
    "sys.path.append('../pysrc')"
   ]
  },
  {
   "cell_type": "code",
   "execution_count": 2,
   "metadata": {},
   "outputs": [
    {
     "name": "stdout",
     "output_type": "stream",
     "text": [
      "Behroozi+18 not loaded\n"
     ]
    }
   ],
   "source": [
    "import FIRE_files as ff\n",
    "from FIRE_files import cosmo, u\n",
    "from projectPlotBasics import *\n",
    "import first_pass as l\n",
    "cmap = pl.get_cmap('viridis')"
   ]
  },
  {
   "cell_type": "code",
   "execution_count": 3,
   "metadata": {},
   "outputs": [
    {
     "data": {
      "text/plain": [
       "29"
      ]
     },
     "execution_count": 3,
     "metadata": {},
     "output_type": "execute_result"
    }
   ],
   "source": [
    "simnames = [x.split('/')[-1] for x in glob.glob('/home/jovyan/data/data/vc*')]\n",
    "len(simnames)"
   ]
  },
  {
   "cell_type": "code",
   "execution_count": 4,
   "metadata": {
    "scrolled": true
   },
   "outputs": [
    {
     "name": "stdout",
     "output_type": "stream",
     "text": [
      "loaded PartType0, Coordinates\n",
      "loaded PartType0, Masses\n",
      "vc100_Rs30_Mdot1730_Rcirc10_turb 2001\n"
     ]
    }
   ],
   "source": [
    "sims = []\n",
    "for simname in simnames[:1]:\n",
    "    vc = float(simname.split('_')[0][2:])\n",
    "    PL_potential = l.PowerLawPotential(m=0.,vc_Rvir=vc*un.km/un.s,Rvir=200*un.kpc)\n",
    "    Rcirc = float(simname.split('_')[3][5:])\n",
    "    simdir = '/home/jovyan/data/data/%s/output/'%simname\n",
    "    sim = l.KY_sim(simname,simdir,\n",
    "                   dynamicCentering=True,recalc=False,Nsnapshots=None,\n",
    "                   origin=np.zeros(3),Rcirc = Rcirc*un.kpc,\n",
    "                   analyticGravity=PL_potential)\n",
    "    print(sim.galaxyname, sim.Nsnapshots())\n",
    "    sims.append(sim)"
   ]
  },
  {
   "cell_type": "code",
   "execution_count": 5,
   "metadata": {},
   "outputs": [],
   "source": [
    "# l.profiledir = '/home/jovyan/data/fire_analysis/radialProfiles/'\n",
    "# l.figdir = '/home/jovyan/home/jovyan/fire_analysis/figures/'"
   ]
  },
  {
   "cell_type": "code",
   "execution_count": 9,
   "metadata": {},
   "outputs": [
    {
     "name": "stdout",
     "output_type": "stream",
     "text": [
      "loaded PartType0, Coordinates\n",
      "loaded PartType0, Masses\n",
      "loaded PartType4, StellarFormationTime\n",
      "loaded PartType4, Masses\n",
      "loaded PartType4, Coordinates\n",
      "saved stellar_ages\n"
     ]
    }
   ],
   "source": [
    "for sim in sims[:]:\n",
    "    for iSnapshot in range(sim.Nsnapshots())[-1:]:\n",
    "        prof = sim.getProfiler(iSnapshot)\n",
    "        zbins, dt = prof.sfh_zbins()\n",
    "        stellar_ages = prof.stellar_ages(zbins)        \n"
   ]
  },
  {
   "cell_type": "code",
   "execution_count": 14,
   "metadata": {},
   "outputs": [
    {
     "data": {
      "text/plain": [
       "(1331,)"
      ]
     },
     "execution_count": 14,
     "metadata": {},
     "output_type": "execute_result"
    }
   ],
   "source": [
    "stellar_ages.shape"
   ]
  },
  {
   "cell_type": "code",
   "execution_count": 13,
   "metadata": {},
   "outputs": [
    {
     "data": {
      "text/plain": [
       "[<matplotlib.lines.Line2D at 0x7f58f0f08a90>]"
      ]
     },
     "execution_count": 13,
     "metadata": {},
     "output_type": "execute_result"
    },
    {
     "data": {
      "image/png": "[encoded data removed]",
      "text/plain": [
       "<Figure size 432x288 with 1 Axes>"
      ]
     },
     "metadata": {
      "needs_background": "light"
     },
     "output_type": "display_data"
    }
   ],
   "source": [
    "pl.semilogy(cosmo.age(zbins[:-1]),stellar_ages)"
   ]
  },
  {
   "cell_type": "code",
   "execution_count": 12,
   "metadata": {
    "scrolled": true
   },
   "outputs": [
    {
     "name": "stdout",
     "output_type": "stream",
     "text": [
      "loaded PartType0, Coordinates\n",
      "loaded PartType0, Masses\n",
      "saved massProfile0\n",
      "loaded PartType1, Masses\n",
      "loaded PartType2, Masses\n",
      "loaded PartType2, Coordinates\n",
      "saved massProfile2\n",
      "loaded PartType4, Masses\n",
      "loaded PartType4, Coordinates\n",
      "saved massProfile4\n",
      "loaded PartType0, Coordinates\n",
      "loaded PartType0, Masses\n",
      "saved massProfile0\n",
      "loaded PartType1, Masses\n",
      "loaded PartType2, Masses\n",
      "loaded PartType2, Coordinates\n",
      "saved massProfile2\n",
      "loaded PartType4, Masses\n",
      "loaded PartType4, Coordinates\n",
      "saved massProfile4\n",
      "loaded PartType0, Coordinates\n",
      "loaded PartType0, Masses\n",
      "saved massProfile0\n",
      "loaded PartType1, Masses\n",
      "loaded PartType2, Masses\n",
      "loaded PartType2, Coordinates\n",
      "saved massProfile2\n",
      "loaded PartType4, Masses\n",
      "loaded PartType4, Coordinates\n",
      "saved massProfile4\n",
      "loaded PartType0, Coordinates\n",
      "loaded PartType0, Masses\n",
      "saved massProfile0\n",
      "loaded PartType1, Masses\n",
      "loaded PartType2, Masses\n",
      "loaded PartType2, Coordinates\n",
      "saved massProfile2\n",
      "loaded PartType4, Masses\n",
      "loaded PartType4, Coordinates\n",
      "saved massProfile4\n",
      "loaded PartType0, Velocities\n",
      "saved j_vec_x\n",
      "saved j_vec_y\n",
      "saved j_vec_z\n",
      "saved j_vec_weight\n",
      "loaded PartType0, Velocities\n",
      "saved j_vec_x\n",
      "saved j_vec_y\n",
      "saved j_vec_z\n",
      "saved j_vec_weight\n"
     ]
    },
    {
     "name": "stderr",
     "output_type": "stream",
     "text": [
      "../pysrc/FIRE_files.py:730: RuntimeWarning: invalid value encountered in true_divide\n",
      "  self.save('j_vec_x'+suffix, hist[1,:] / hist[0,:])\n",
      "../pysrc/FIRE_files.py:731: RuntimeWarning: invalid value encountered in true_divide\n",
      "  self.save('j_vec_y'+suffix, hist[2,:] / hist[0,:])\n",
      "../pysrc/FIRE_files.py:732: RuntimeWarning: invalid value encountered in true_divide\n",
      "  self.save('j_vec_z'+suffix, hist[3,:] / hist[0,:])\n",
      "../pysrc/FIRE_files.py:730: RuntimeWarning: invalid value encountered in true_divide\n",
      "  self.save('j_vec_x'+suffix, hist[1,:] / hist[0,:])\n",
      "../pysrc/FIRE_files.py:731: RuntimeWarning: invalid value encountered in true_divide\n",
      "  self.save('j_vec_y'+suffix, hist[2,:] / hist[0,:])\n",
      "../pysrc/FIRE_files.py:732: RuntimeWarning: invalid value encountered in true_divide\n",
      "  self.save('j_vec_z'+suffix, hist[3,:] / hist[0,:])\n"
     ]
    },
    {
     "name": "stdout",
     "output_type": "stream",
     "text": [
      "loaded PartType0, Velocities\n",
      "saved j_vec_x\n",
      "saved j_vec_y\n",
      "saved j_vec_z\n",
      "saved j_vec_weight\n",
      "loaded PartType0, Velocities\n"
     ]
    },
    {
     "name": "stderr",
     "output_type": "stream",
     "text": [
      "../pysrc/FIRE_files.py:730: RuntimeWarning: invalid value encountered in true_divide\n",
      "  self.save('j_vec_x'+suffix, hist[1,:] / hist[0,:])\n",
      "../pysrc/FIRE_files.py:731: RuntimeWarning: invalid value encountered in true_divide\n",
      "  self.save('j_vec_y'+suffix, hist[2,:] / hist[0,:])\n",
      "../pysrc/FIRE_files.py:732: RuntimeWarning: invalid value encountered in true_divide\n",
      "  self.save('j_vec_z'+suffix, hist[3,:] / hist[0,:])\n",
      "../pysrc/FIRE_files.py:730: RuntimeWarning: invalid value encountered in true_divide\n",
      "  self.save('j_vec_x'+suffix, hist[1,:] / hist[0,:])\n",
      "../pysrc/FIRE_files.py:731: RuntimeWarning: invalid value encountered in true_divide\n",
      "  self.save('j_vec_y'+suffix, hist[2,:] / hist[0,:])\n",
      "../pysrc/FIRE_files.py:732: RuntimeWarning: invalid value encountered in true_divide\n",
      "  self.save('j_vec_z'+suffix, hist[3,:] / hist[0,:])\n"
     ]
    },
    {
     "name": "stdout",
     "output_type": "stream",
     "text": [
      "saved j_vec_x\n",
      "saved j_vec_y\n",
      "saved j_vec_z\n",
      "saved j_vec_weight\n",
      "loaded PartType0, Metallicity\n",
      "saved Z2Zsuns_MW\n"
     ]
    },
    {
     "name": "stderr",
     "output_type": "stream",
     "text": [
      "../pysrc/FIRE_files.py:865: RuntimeWarning: invalid value encountered in true_divide\n",
      "  normed_hist = [hist[i,:]/hist[0,:] for i in range(1,hist.shape[0])]\n"
     ]
    },
    {
     "name": "stdout",
     "output_type": "stream",
     "text": [
      "loaded PartType0, Metallicity\n",
      "saved Z2Zsuns_MW\n"
     ]
    },
    {
     "name": "stderr",
     "output_type": "stream",
     "text": [
      "../pysrc/FIRE_files.py:865: RuntimeWarning: invalid value encountered in true_divide\n",
      "  normed_hist = [hist[i,:]/hist[0,:] for i in range(1,hist.shape[0])]\n"
     ]
    },
    {
     "name": "stdout",
     "output_type": "stream",
     "text": [
      "loaded PartType0, Metallicity\n",
      "saved Z2Zsuns_MW\n"
     ]
    },
    {
     "name": "stderr",
     "output_type": "stream",
     "text": [
      "../pysrc/FIRE_files.py:865: RuntimeWarning: invalid value encountered in true_divide\n",
      "  normed_hist = [hist[i,:]/hist[0,:] for i in range(1,hist.shape[0])]\n"
     ]
    },
    {
     "name": "stdout",
     "output_type": "stream",
     "text": [
      "loaded PartType0, Metallicity\n",
      "saved Z2Zsuns_MW\n"
     ]
    },
    {
     "name": "stderr",
     "output_type": "stream",
     "text": [
      "../pysrc/FIRE_files.py:865: RuntimeWarning: invalid value encountered in true_divide\n",
      "  normed_hist = [hist[i,:]/hist[0,:] for i in range(1,hist.shape[0])]\n"
     ]
    },
    {
     "name": "stdout",
     "output_type": "stream",
     "text": [
      "loaded PartType0, Density\n",
      "loaded PartType0, InternalEnergy\n",
      "saved log_Ts_VW\n",
      "loaded PartType0, Density\n",
      "loaded PartType0, InternalEnergy\n",
      "saved log_Ts_VW\n",
      "loaded PartType0, Density\n",
      "loaded PartType0, InternalEnergy\n"
     ]
    },
    {
     "name": "stderr",
     "output_type": "stream",
     "text": [
      "../pysrc/FIRE_files.py:865: RuntimeWarning: invalid value encountered in true_divide\n",
      "  normed_hist = [hist[i,:]/hist[0,:] for i in range(1,hist.shape[0])]\n",
      "../pysrc/FIRE_files.py:865: RuntimeWarning: invalid value encountered in true_divide\n",
      "  normed_hist = [hist[i,:]/hist[0,:] for i in range(1,hist.shape[0])]\n",
      "../pysrc/FIRE_files.py:865: RuntimeWarning: invalid value encountered in true_divide\n",
      "  normed_hist = [hist[i,:]/hist[0,:] for i in range(1,hist.shape[0])]\n"
     ]
    },
    {
     "name": "stdout",
     "output_type": "stream",
     "text": [
      "saved log_Ts_VW\n",
      "loaded PartType0, Density\n",
      "loaded PartType0, InternalEnergy\n",
      "saved log_Ts_VW\n"
     ]
    },
    {
     "name": "stderr",
     "output_type": "stream",
     "text": [
      "../pysrc/FIRE_files.py:865: RuntimeWarning: invalid value encountered in true_divide\n",
      "  normed_hist = [hist[i,:]/hist[0,:] for i in range(1,hist.shape[0])]\n",
      "../pysrc/FIRE_files.py:865: RuntimeWarning: invalid value encountered in true_divide\n",
      "  normed_hist = [hist[i,:]/hist[0,:] for i in range(1,hist.shape[0])]\n"
     ]
    },
    {
     "name": "stdout",
     "output_type": "stream",
     "text": [
      "saved isSubsonic_VW\n",
      "saved isSubsonic_VW\n",
      "saved isSubsonic_VW\n"
     ]
    },
    {
     "name": "stderr",
     "output_type": "stream",
     "text": [
      "../pysrc/FIRE_files.py:865: RuntimeWarning: invalid value encountered in true_divide\n",
      "  normed_hist = [hist[i,:]/hist[0,:] for i in range(1,hist.shape[0])]\n",
      "../pysrc/FIRE_files.py:865: RuntimeWarning: invalid value encountered in true_divide\n",
      "  normed_hist = [hist[i,:]/hist[0,:] for i in range(1,hist.shape[0])]\n",
      "../pysrc/FIRE_files.py:865: RuntimeWarning: invalid value encountered in true_divide\n",
      "  normed_hist = [hist[i,:]/hist[0,:] for i in range(1,hist.shape[0])]\n"
     ]
    },
    {
     "name": "stdout",
     "output_type": "stream",
     "text": [
      "saved isSubsonic_VW\n"
     ]
    },
    {
     "name": "stderr",
     "output_type": "stream",
     "text": [
      "WARNING: nan_treatment='interpolate', however, NaN values detected post convolution. A contiguous region of NaN values, larger than the kernel size, are present in the input array. Increase the kernel size to avoid this. [astropy.convolution.convolve]\n",
      "../pysrc/FIRE_files.py:89: RuntimeWarning: divide by zero encountered in log10\n",
      "  f_H_He((log(T), log(nH))) + f_Z((log(T), log(nH))) * Z2Zsun )\n",
      "/srv/conda/envs/notebook/lib/python3.7/site-packages/scipy/interpolate/interpolate.py:2546: RuntimeWarning: invalid value encountered in add\n",
      "  values += np.asarray(self.values[edge_indices]) * weight[vslice]\n",
      "../pysrc/FIRE_files.py:89: RuntimeWarning: divide by zero encountered in log10\n",
      "  f_H_He((log(T), log(nH))) + f_Z((log(T), log(nH))) * Z2Zsun )\n",
      "/srv/conda/envs/notebook/lib/python3.7/site-packages/scipy/interpolate/interpolate.py:2546: RuntimeWarning: invalid value encountered in add\n",
      "  values += np.asarray(self.values[edge_indices]) * weight[vslice]\n",
      "../pysrc/FIRE_files.py:89: RuntimeWarning: divide by zero encountered in log10\n",
      "  f_H_He((log(T), log(nH))) + f_Z((log(T), log(nH))) * Z2Zsun )\n",
      "/srv/conda/envs/notebook/lib/python3.7/site-packages/scipy/interpolate/interpolate.py:2546: RuntimeWarning: invalid value encountered in add\n",
      "  values += np.asarray(self.values[edge_indices]) * weight[vslice]\n",
      "../pysrc/FIRE_files.py:89: RuntimeWarning: divide by zero encountered in log10\n",
      "  f_H_He((log(T), log(nH))) + f_Z((log(T), log(nH))) * Z2Zsun )\n",
      "/srv/conda/envs/notebook/lib/python3.7/site-packages/scipy/interpolate/interpolate.py:2546: RuntimeWarning: invalid value encountered in add\n",
      "  values += np.asarray(self.values[edge_indices]) * weight[vslice]\n",
      "WARNING: nan_treatment='interpolate', however, NaN values detected post convolution. A contiguous region of NaN values, larger than the kernel size, are present in the input array. Increase the kernel size to avoid this. [astropy.convolution.convolve]\n",
      "../pysrc/FIRE_files.py:89: RuntimeWarning: divide by zero encountered in log10\n",
      "  f_H_He((log(T), log(nH))) + f_Z((log(T), log(nH))) * Z2Zsun )\n",
      "/srv/conda/envs/notebook/lib/python3.7/site-packages/scipy/interpolate/interpolate.py:2546: RuntimeWarning: invalid value encountered in add\n",
      "  values += np.asarray(self.values[edge_indices]) * weight[vslice]\n",
      "../pysrc/FIRE_files.py:89: RuntimeWarning: divide by zero encountered in log10\n",
      "  f_H_He((log(T), log(nH))) + f_Z((log(T), log(nH))) * Z2Zsun )\n",
      "/srv/conda/envs/notebook/lib/python3.7/site-packages/scipy/interpolate/interpolate.py:2546: RuntimeWarning: invalid value encountered in add\n",
      "  values += np.asarray(self.values[edge_indices]) * weight[vslice]\n",
      "../pysrc/FIRE_files.py:89: RuntimeWarning: divide by zero encountered in log10\n",
      "  f_H_He((log(T), log(nH))) + f_Z((log(T), log(nH))) * Z2Zsun )\n",
      "/srv/conda/envs/notebook/lib/python3.7/site-packages/scipy/interpolate/interpolate.py:2546: RuntimeWarning: invalid value encountered in add\n",
      "  values += np.asarray(self.values[edge_indices]) * weight[vslice]\n",
      "../pysrc/FIRE_files.py:89: RuntimeWarning: divide by zero encountered in log10\n",
      "  f_H_He((log(T), log(nH))) + f_Z((log(T), log(nH))) * Z2Zsun )\n",
      "/srv/conda/envs/notebook/lib/python3.7/site-packages/scipy/interpolate/interpolate.py:2546: RuntimeWarning: invalid value encountered in add\n",
      "  values += np.asarray(self.values[edge_indices]) * weight[vslice]\n"
     ]
    },
    {
     "name": "stdout",
     "output_type": "stream",
     "text": [
      "saved Mdot\n",
      "saved Mdot\n",
      "saved Mdot\n",
      "saved Mdot\n"
     ]
    }
   ],
   "source": [
    "for sim in sims[-1:]:\n",
    "    iSnapshots = np.linspace(1,sim.Nsnapshots()-1,4).astype(int)\n",
    "    l.CGM_properties(sim, iSnapshots,Rcirc=10)"
   ]
  },
  {
   "cell_type": "code",
   "execution_count": null,
   "metadata": {
    "scrolled": true
   },
   "outputs": [
    {
     "name": "stdout",
     "output_type": "stream",
     "text": [
      "progress:  77% 860 seconds passed\n",
      "starting snapshot #312,   process id: 570\n",
      "loaded PartType0, Coordinates\n",
      "loaded PartType0, Masses\n",
      "loaded PartType0, Coordinates\n",
      "loaded PartType0, Masses\n"
     ]
    }
   ],
   "source": [
    "reload(l); reload(l.ff); reload(ff)\n",
    "for sim in sims[-1:]:\n",
    "    _ = sim.timeSeries(rMdot = 30*un.kpc,rVrot=5*un.kpc,multipleProcs=10,justLoad=False)\n",
    "    sim.quantities_at_Rcirc()"
   ]
  },
  {
   "cell_type": "code",
   "execution_count": null,
   "metadata": {},
   "outputs": [],
   "source": [
    "for sim in sims[-1:]:\n",
    "    print(sim)\n",
    "    for edge_on in (True,False)[:1]:\n",
    "        for iSnapshot in range(sim.Nsnapshots())[-1:]:\n",
    "            l.temperature_and_pressure_movieFrame_async(sim.loadvals,iSnapshot,\n",
    "            calculateProjections=True,edge_on=edge_on,lazy=True)"
   ]
  },
  {
   "cell_type": "code",
   "execution_count": 107,
   "metadata": {},
   "outputs": [],
   "source": [
    "for sim in sims:\n",
    "    for edge_on in (True,False):\n",
    "        sim.movie(l.temperature_and_pressure_movieFrame_async,\n",
    "              multipleProcs=2,\n",
    "              calculateProjections=True,start=None,\n",
    "              edge_on=edge_on,\n",
    "              lazy=True)"
   ]
  }
 ],
 "metadata": {
  "kernelspec": {
   "display_name": "Python 3 (ipykernel)",
   "language": "python",
   "name": "python3"
  },
  "language_info": {
   "codemirror_mode": {
    "name": "ipython",
    "version": 3
   },
   "file_extension": ".py",
   "mimetype": "text/x-python",
   "name": "python",
   "nbconvert_exporter": "python",
   "pygments_lexer": "ipython3",
   "version": "3.9.12"
  }
 },
 "nbformat": 4,
 "nbformat_minor": 4
}
