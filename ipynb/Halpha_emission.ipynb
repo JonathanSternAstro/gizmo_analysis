{
 "cells": [
  {
   "cell_type": "code",
   "execution_count": 1,
   "id": "3bc6f74b-efc0-4f8c-a020-c27878fe6ef4",
   "metadata": {},
   "outputs": [],
   "source": [
    "import sys, pdb, numpy as np, astropy\n",
    "from importlib import reload\n",
    "from astropy import constants as cons, units as un\n",
    "sys.path.append('../pysrc/')"
   ]
  },
  {
   "cell_type": "code",
   "execution_count": 2,
   "id": "dc8873fc-729f-43fd-b74f-ecf649e58f1e",
   "metadata": {},
   "outputs": [
    {
     "name": "stdout",
     "output_type": "stream",
     "text": [
      "Behroozi+18 not loaded\n"
     ]
    }
   ],
   "source": [
    "import FIRE_files as ff"
   ]
  },
  {
   "cell_type": "code",
   "execution_count": 2,
   "id": "5215f38e-ca26-4a61-9ffe-9a612e503aa8",
   "metadata": {},
   "outputs": [],
   "source": [
    "f = np.load('/Users/jonathanstern/Dropbox/jonathanmain/CGM/rapidCoolingCGM/pyobj/no_yt_analysis/profiler_m12i_md_7100_z0.1377.npz')"
   ]
  },
  {
   "cell_type": "code",
   "execution_count": 1,
   "id": "7e2c733b-5f0d-46e2-85e0-35b6307c93b9",
   "metadata": {},
   "outputs": [
    {
     "ename": "IndentationError",
     "evalue": "expected an indented block after 'for' statement on line 2 (924331696.py, line 4)",
     "output_type": "error",
     "traceback": [
      "\u001b[0;36m  Cell \u001b[0;32mIn[1], line 4\u001b[0;36m\u001b[0m\n\u001b[0;31m    profiler.profile1D('Ha_emission','VW')\u001b[0m\n\u001b[0m    ^\u001b[0m\n\u001b[0;31mIndentationError\u001b[0m\u001b[0;31m:\u001b[0m expected an indented block after 'for' statement on line 2\n"
     ]
    }
   ],
   "source": [
    "m12i_dir = simdir + 'metal_diffusion/m12i_r7100/'\n",
    "iSnapshots = [600]\n",
    "AHF_fn = m12i_dir + 'halo/ahf/halo_00000_smooth.dat'\n",
    "Rimp2Rvirs = np.arange(0.1,1.01,0.1)\n",
    "I_Ha = np.array((len(iSnapshots),len(Rimp2Rvirs)))\n",
    "for iSnapshot in iSnapshots:\n",
    "    sim = ff.Snapshot_meta('m12i','md','7100',m12i_dir+'output/',AHF_fn,\n",
    "                           iSnapshot=iSnapshot)\n",
    "    snapshot = ff.Snapshot(sim,loadAll=False)\n",
    "    profiler = ff.Snapshot_profiler(snapshot)\n",
    "    HaEmission = profiler.profile1D('Halpha_emission','VW')\n",
    "    profiler.tofile()\n",
    "    #project\n",
    "    for iRimp,Rimp in enumerate(Rimp2Rvirs*profiler.rvir):\n",
    "        I_Ha[iSnapshot,iRimp] = HaEmission * profiler.drs_midbins()*(1-(Rimp/profiler.rs_midbins())**2)**-0.5\n",
    "I_Ha /= 4*np.pi\n",
    "#project\n",
    "\n"
   ]
  },
  {
   "cell_type": "code",
   "execution_count": null,
   "id": "d89025b4-93f9-44e8-aaf6-cec6107197b8",
   "metadata": {},
   "outputs": [],
   "source": []
  }
 ],
 "metadata": {
  "kernelspec": {
   "display_name": "Python 3 (ipykernel)",
   "language": "python",
   "name": "python3"
  },
  "language_info": {
   "codemirror_mode": {
    "name": "ipython",
    "version": 3
   },
   "file_extension": ".py",
   "mimetype": "text/x-python",
   "name": "python",
   "nbconvert_exporter": "python",
   "pygments_lexer": "ipython3",
   "version": "3.9.6"
  }
 },
 "nbformat": 4,
 "nbformat_minor": 5
}
