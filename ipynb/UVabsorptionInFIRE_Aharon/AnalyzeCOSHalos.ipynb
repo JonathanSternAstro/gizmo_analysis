{
 "cells": [
  {
   "cell_type": "code",
   "execution_count": 1,
   "id": "5df2a1b1-2902-444f-9ea4-5d53914a3bd9",
   "metadata": {},
   "outputs": [],
   "source": [
    "import sys,os,string\n",
    "import numpy as np, scipy\n",
    "from numpy import log as ln, log10 as log\n",
    "from astropy import units as un, constants as cons\n",
    "import pylab as pl"
   ]
  },
  {
   "cell_type": "code",
   "execution_count": 2,
   "id": "7c0122db-70c6-4518-bc63-4123ae2c4755",
   "metadata": {},
   "outputs": [],
   "source": [
    "sys.path.append('../../../CGM_ICs/pysrc/')\n",
    "import HaloPotential_old as halo\n",
    "import HaloPotential as halo"
   ]
  },
  {
   "cell_type": "code",
   "execution_count": 3,
   "id": "7dc134ad-64bb-49d1-8bd3-e5215ce147c2",
   "metadata": {},
   "outputs": [],
   "source": [
    "BehrooziDataDir = '/Users/jonathanstern/Dropbox/programs/umachine-dr1/data/'\n",
    "BehrooziFile = BehrooziDataDir + 'smhm/params/smhm_true_med_cen_params.txt'\n",
    "\n",
    "def Behroozi_params(z, parameter_file=BehrooziFile):\n",
    "    param_file = open(parameter_file, \"r\")\n",
    "    param_list = []\n",
    "    allparams = []\n",
    "    for line in param_file:\n",
    "        param_list.append(float((line.split(\" \"))[1]))\n",
    "        allparams.append(line.split(\" \"))\n",
    "    \n",
    "    if (len(param_list) != 20):\n",
    "        print((\"Parameter file not correct length.  (Expected 20 lines, got %d).\" % len(param_list)))\n",
    "        quit()\n",
    "    \n",
    "    names = \"EFF_0 EFF_0_A EFF_0_A2 EFF_0_Z M_1 M_1_A M_1_A2 M_1_Z ALPHA ALPHA_A ALPHA_A2 ALPHA_Z BETA BETA_A BETA_Z DELTA GAMMA GAMMA_A GAMMA_Z CHI2\".split(\" \");\n",
    "    params = dict(list(zip(names, param_list)))\n",
    "    \n",
    "    \n",
    "    #Print SMHM relation\n",
    "    a = 1.0/(1.0+z)\n",
    "    a1 = a - 1.0\n",
    "    lna = ln(a)\n",
    "    zparams = {}\n",
    "    zparams['m_1'] = params['M_1'] + a1*params['M_1_A'] - lna*params['M_1_A2'] + z*params['M_1_Z']\n",
    "    zparams['sm_0'] = zparams['m_1'] + params['EFF_0'] + a1*params['EFF_0_A'] - lna*params['EFF_0_A2'] + z*params['EFF_0_Z']\n",
    "    zparams['alpha'] = params['ALPHA'] + a1*params['ALPHA_A'] - lna*params['ALPHA_A2'] + z*params['ALPHA_Z']\n",
    "    zparams['beta'] = params['BETA'] + a1*params['BETA_A'] + z*params['BETA_Z']\n",
    "    zparams['delta'] = params['DELTA']\n",
    "    zparams['gamma'] = 10**(params['GAMMA'] + a1*params['GAMMA_A'] + z*params['GAMMA_Z'])\n",
    "    \n",
    "    smhm_max = 14.5-0.35*z\n",
    "    if (params['CHI2']>200):\n",
    "        print('#Warning: chi^2 > 200 implies that not all features are well fit.  Comparison with the raw data (in data/smhm/median_raw/) is crucial.')\n",
    "    ms = 0.05 * np.arange(int(10.5*20),int(smhm_max*20+1),1)\n",
    "    dms = ms - zparams['m_1'] \n",
    "    dm2s = dms/zparams['delta']\n",
    "    sms = zparams['sm_0'] - log(10**(-zparams['alpha']*dms) + 10**(-zparams['beta']*dms)) + zparams['gamma']*np.e**(-0.5*(dm2s*dm2s))\n",
    "    return ms,sms\n",
    "\n",
    "def MgalaxyBehroozi(lMhalo, z, parameter_file=BehrooziFile):\n",
    "    ms,sms = Behroozi_params(z,parameter_file)\n",
    "    lMstar = scipy.interpolate.interp1d(ms, sms, fill_value='extrapolate')(lMhalo)\n",
    "    return 10.**lMstar*un.Msun\n",
    "def MgalaxyBehroozi_extrapolate(lMhalo, z, polydeg=2,parameter_file=BehrooziFile):\n",
    "    log_z_plus_1s = np.arange(0.7,1,.025)\n",
    "    _lMgalaxies = [log(MgalaxyBehroozi(lMhalo,10**log_z_plus_1-1.,parameter_file=parameter_file).value) for log_z_plus_1 in log_z_plus_1s]\n",
    "    poly = np.poly1d(np.polyfit(log_z_plus_1s, _lMgalaxies, polydeg))\n",
    "    return 10.**poly(log(z+1))*un.Msun\n",
    "\n",
    "def MhaloBehroozi(lMstar, z, parameter_file=BehrooziFile):\n",
    "    ms,sms = Behroozi_params(z,parameter_file)\n",
    "    lMhalo = scipy.interpolate.interp1d(sms, ms, fill_value='extrapolate')(lMstar)\n",
    "    return 10.**lMhalo*un.Msun\n",
    "def c_DuttonMaccio14(lMhalo, z=0):  #table 3 appropriate for Mvir\n",
    "    c_z0  = lambda lMhalo: 10.**(1.025 - 0.097*(lMhalo-log(0.7**-1*1e12))) \n",
    "    c_z05 = lambda lMhalo: 10.**(0.884 - 0.085*(lMhalo-log(0.7**-1*1e12))) \n",
    "    c_z1  = lambda lMhalo: 10.**(0.775 - 0.073*(lMhalo-log(0.7**-1*1e12))) \n",
    "    c_z2  = lambda lMhalo: 10.**(0.643 - 0.051*(lMhalo-log(0.7**-1*1e12)))\n",
    "    zs = np.array([0.,0.5,1.,2.])\n",
    "    cs = np.array([c_func(lMhalo) for c_func in (c_z0,c_z05,c_z1,c_z2)])\n",
    "    return np.interp(z, zs, cs)\n",
    "    "
   ]
  },
  {
   "cell_type": "code",
   "execution_count": 4,
   "id": "417f183c-24c9-4cb9-96b8-34b6fb65ce3d",
   "metadata": {},
   "outputs": [
    {
     "data": {
      "text/plain": [
       "(0.0001, 0.1)"
      ]
     },
     "execution_count": 4,
     "metadata": {},
     "output_type": "execute_result"
    },
    {
     "data": {
      "image/png": "[encoded data removed]",
      "text/plain": [
       "<Figure size 640x480 with 1 Axes>"
      ]
     },
     "metadata": {},
     "output_type": "display_data"
    }
   ],
   "source": [
    "lMstars = np.arange(6,12,.1); z = 0.1\n",
    "lMhalos = log(MhaloBehroozi(lMstars,z).value)\n",
    "pl.plot(lMhalos, 10.**(lMstars - lMhalos))\n",
    "pl.semilogy()\n",
    "pl.ylim(1e-4,0.1)"
   ]
  },
  {
   "cell_type": "code",
   "execution_count": 5,
   "id": "bffc1aac-406e-4fde-91fb-aa53976799df",
   "metadata": {},
   "outputs": [],
   "source": [
    "class Sightline:\n",
    "    def __init__(self,z,Rperp,logMstar,SFR):\n",
    "        self.z=z\n",
    "        self.Rperp=Rperp*un.kpc\n",
    "        self.Mstar=10**logMstar*un.Msun\n",
    "        self.SFR = SFR*un.Msun/un.yr\n",
    "        self.Ws = {}\n",
    "        self.NHs = {}\n",
    "    def isSF(self):\n",
    "        return self.SFR/self.Mstar > 1e-11*un.yr**-1\n",
    "    def Mhalo(self):\n",
    "        return MhaloBehroozi(log(self.Mstar.value),self.z)\n",
    "    def Rvir(self):\n",
    "        cvir = c_DuttonMaccio14(log(self.Mhalo().value),self.z)\n",
    "        return halo.NFW(self.Mhalo(),self.z, cvir).rvir()\n",
    "        # return 290 * (self.Mhalo()/(1e12*un.Msun))**(1/3)*(1+self.z)**-0.9 * un.kpc\n",
    "    def W_MgII(self):\n",
    "        return (self.Ws['Mg II  2796'][0]+self.Ws['Mg II  2803'][0])/1000*un.angstrom"
   ]
  },
  {
   "cell_type": "code",
   "execution_count": 6,
   "id": "f800c830-a771-4c54-9ee5-1c9ce78b730a",
   "metadata": {},
   "outputs": [
    {
     "data": {
      "text/latex": [
       "$35.295697 \\; \\mathrm{kpc}$"
      ],
      "text/plain": [
       "<Quantity 35.29569686 kpc>"
      ]
     },
     "execution_count": 6,
     "metadata": {},
     "output_type": "execute_result"
    }
   ],
   "source": [
    "0.2*Sightline(0.05,10,9.5,1).Rvir()"
   ]
  },
  {
   "cell_type": "code",
   "execution_count": 6,
   "id": "639b6b4c-a453-47f3-a60a-8bb14b94d5ad",
   "metadata": {},
   "outputs": [],
   "source": [
    "COSHalos = {}\n",
    "for l in open('../../data/COSHalos_data/Werk13_Table1.txt').readlines(): \n",
    "    if l[0]=='#': continue\n",
    "    ll = l.split()\n",
    "    name = ll[0]\n",
    "    z,Rperp,logMstar = map(float, ll[1:4])\n",
    "    if ll[-2][0]=='<': SFR = 0.\n",
    "    else: SFR = float(ll[-2])\n",
    "    COSHalos[name] = Sightline(z,Rperp,logMstar,SFR)"
   ]
  },
  {
   "cell_type": "code",
   "execution_count": 7,
   "id": "f0c013ab-3ff5-47a6-8bd7-1a867486f5fd",
   "metadata": {},
   "outputs": [],
   "source": [
    "for l in open('../../data/COSHalos_data/Werk13_Table3.txt').readlines():\n",
    "    if l[0]=='#': continue\n",
    "    name = l[:17]\n",
    "    while name[-1]==' ': name=name[:-1]\n",
    "    ion = l[29:40]\n",
    "    W_isUL = l[51]=='<'\n",
    "    W = float(l[53:57])*un.angstrom\n",
    "    if l[58:61]=='   ': eW=0*un.angstrom\n",
    "    else: eW= float(l[58:61])*un.angstrom\n",
    "    COSHalos[name].Ws[ion] = (W,eW,W_isUL)\n",
    "    NH_isUL = l[78]=='<'\n",
    "    NH_isLL = l[78]=='>'\n",
    "    if l[80:85]=='     ': continue\n",
    "    lNH = float(l[80:85])\n",
    "        "
   ]
  },
  {
   "cell_type": "code",
   "execution_count": 8,
   "id": "614945a2-af00-499f-832a-4074a4e8bab2",
   "metadata": {},
   "outputs": [
    {
     "name": "stdout",
     "output_type": "stream",
     "text": [
      "44 21\n"
     ]
    }
   ],
   "source": [
    "for l in open('../../data/COSHalos_data/Prochaska17_table1.txt').readlines():\n",
    "    if l[0]=='#': continue\n",
    "    name = l.split()[0]\n",
    "    if l.split()[-1]=='cdots': \n",
    "        logNHI = float(l.split()[-2][1:])\n",
    "        NHI_isUL = l.split()[-2][0]=='<'\n",
    "        NHI_isLL = l.split()[-2][0]=='>'\n",
    "        logNHI_max = logNHI_min  = None\n",
    "    else:\n",
    "        NHI_isUL = NHI_isLL = False\n",
    "        logNHI = float(l.split()[-3])\n",
    "        logNHI_max = float(l.split()[-1])\n",
    "        logNHI_min = float(l.split()[-2][:-1])\n",
    "    COSHalos[name].NHs['HI'] = (logNHI, logNHI_min, logNHI_max, NHI_isLL, NHI_isUL,'Prochaska17')\n",
    "print(len(COSHalos),len([o for name,o in COSHalos.items() if 'HI' in o.NHs]))"
   ]
  },
  {
   "cell_type": "code",
   "execution_count": 10,
   "id": "f76f70e6-6cb2-422b-b856-e12ed7589a71",
   "metadata": {},
   "outputs": [],
   "source": [
    "for l in open('../../data/COSHalos_data/Werk14_Table1.txt').readlines():\n",
    "    if l[0]=='#': continue\n",
    "    name = '_'.join(l.split()[:2])\n",
    "    COSHalos[name].r2rvir_Werk14 = float(l.split()[4])\n",
    "    if 'HI' in COSHalos[name].NHs: continue\n",
    "    NHIstr = l.split()[7:10]\n",
    "    if  NHIstr[0][0]=='[':\n",
    "        a,b = float(NHIstr[1][:-1]), float(NHIstr[2][:-1])\n",
    "        COSHalos[name].NHs['HI'] = ((a+b)/2,a,b, False, False,'Werk14')\n",
    "    elif NHIstr[0][0]=='<':\n",
    "        a = float(NHIstr[0][1:])\n",
    "        COSHalos[name].NHs['HI'] = (a,None,None, False, True,'Werk14')\n",
    "    else:\n",
    "        a,b = float(NHIstr[0]), float(NHIstr[2])\n",
    "        COSHalos[name].NHs['HI'] = (a,a-b,a+b, False, False,'Werk14')\n",
    "#print(len(COSHalos),len([o.NHs['HI']["
   ]
  },
  {
   "cell_type": "code",
   "execution_count": 23,
   "id": "0db52f64-af66-4dee-b0c8-31af736425db",
   "metadata": {},
   "outputs": [
    {
     "name": "stdout",
     "output_type": "stream",
     "text": [
      "26\n",
      "[5, 0.23099999999999996, 0.15597948583066942]\n"
     ]
    },
    {
     "data": {
      "text/plain": [
       "Text(0, 0.5, '$N_{\\\\rm HI}$')"
      ]
     },
     "execution_count": 23,
     "metadata": {},
     "output_type": "execute_result"
    },
    {
     "data": {
      "image/png": "[encoded data removed]",
      "text/plain": [
       "<Figure size 640x480 with 2 Axes>"
      ]
     },
     "metadata": {},
     "output_type": "display_data"
    }
   ],
   "source": [
    "ax1 = pl.subplot(211)\n",
    "isSF = True\n",
    "ions = ('Mg II  2796','Mg II  2803')\n",
    "#16% difference in Rvir if using Moster relation at Mstar=3e10\n",
    "vals = [o for name,o in COSHalos.items() if (False not in [ion in o.Ws for ion in ions]) and o.isSF()==isSF]\n",
    "print(len(vals))\n",
    "xs = [o.Rperp.value/o.Rvir().value for o in vals] \n",
    "ys = [o.W_MgII().value for o in vals]\n",
    "print([f([o.W_MgII().value  for o in vals if 0.25<o.Rperp.value/o.Rvir().value<0.35]) for f in (len,np.mean,np.std)])\n",
    "pl.plot(xs,ys,'.',c='rb'[isSF])\n",
    "valsUL = [o for o in vals if (True in [o.Ws[ion][2] for ion in ions])]\n",
    "xs = [o.Rperp.value/o.Rvir().value for o in valsUL] \n",
    "ys = [o.W_MgII().value for o in valsUL]\n",
    "pl.plot(xs,ys,'v',c='rb'[isSF])\n",
    "pl.xlim(0,0.5)\n",
    "pl.ylabel(r'$W_{\\rm MgII}$')\n",
    "ax2 = pl.subplot(212)\n",
    "for isWerk14 in True,False:\n",
    "    vals = [o for name,o in COSHalos.items() if 'HI' in o.NHs and o.isSF()==isSF and (o.NHs['HI'][5]=='Werk14')==isWerk14]\n",
    "    valsRng = [o for o in vals if not o.NHs['HI'][3] and not o.NHs['HI'][4]]\n",
    "    xs = [o.Rperp.value/o.Rvir().value for o in valsRng] \n",
    "    ys = [o.NHs['HI'][0] for o in valsRng]\n",
    "    yerrs = np.array([[o.NHs['HI'][0]-o.NHs['HI'][1],o.NHs['HI'][2]-o.NHs['HI'][0]] for o in valsRng]).T\n",
    "    pl.errorbar(xs,ys,yerrs,c='rb'[isWerk14],ls='')\n",
    "    valsUL = [o for o in vals if o.NHs['HI'][3]]\n",
    "    xs = [o.Rperp.value/o.Rvir().value for o in valsUL] \n",
    "    ys = [o.NHs['HI'][0] for o in valsUL]\n",
    "    pl.plot(xs,ys,'v',c='rb'[isWerk14])\n",
    "    valsLL = [o for o in vals if o.NHs['HI'][4]]\n",
    "    xs = [o.Rperp.value/o.Rvir().value for o in valsLL] \n",
    "    ys = [o.NHs['HI'][0] for o in valsLL]\n",
    "    pl.plot(xs,ys,'^',c='rb'[isWerk14])\n",
    "pl.xlim(0,0.5)\n",
    "pl.xlabel(r'$R_\\perp/R_{\\rm vir}$')\n",
    "pl.ylabel(r'$N_{\\rm HI}$')"
   ]
  },
  {
   "cell_type": "code",
   "execution_count": null,
   "id": "e7c5d9a6-ac5b-4df0-9a4c-2823bfda99b1",
   "metadata": {},
   "outputs": [],
   "source": []
  },
  {
   "cell_type": "code",
   "execution_count": 12,
   "id": "d7b49d3e-8a77-46db-8eb6-cba580c600d1",
   "metadata": {},
   "outputs": [
    {
     "name": "stdout",
     "output_type": "stream",
     "text": [
      "11\n",
      "17\n"
     ]
    },
    {
     "data": {
      "text/plain": [
       "Text(0, 0.5, '$N_{\\\\rm HI}$')"
      ]
     },
     "execution_count": 12,
     "metadata": {},
     "output_type": "execute_result"
    },
    {
     "data": {
      "image/png": "[encoded data removed]",
      "text/plain": [
       "<Figure size 640x480 with 2 Axes>"
      ]
     },
     "metadata": {},
     "output_type": "display_data"
    }
   ],
   "source": [
    "ax1 = pl.subplot(211)\n",
    "isSF = True\n",
    "ions = ('Mg II  2796','Mg II  2803')\n",
    "#16% difference in Rvir if using Moster relation at Mstar=3e10\n",
    "vals = [o for name,o in COSHalos.items() if (False not in [ion in o.Ws for ion in ions]) and o.isSF()==isSF]\n",
    "xs = [o.r2rvir_Werk14 for o in vals] \n",
    "ys = [o.W_MgII().value for o in vals]\n",
    "pl.plot(xs,ys,'.',c='rb'[isSF])\n",
    "valsUL = [o for o in vals if (True in [o.Ws[ion][2] for ion in ions])]\n",
    "xs = [o.r2rvir_Werk14 for o in valsUL] \n",
    "ys = [o.W_MgII().value for o in valsUL]\n",
    "pl.plot(xs,ys,'v',c='rb'[isSF])\n",
    "pl.xlim(0,0.5)\n",
    "pl.ylabel(r'$W_{\\rm MgII}$')\n",
    "ax2 = pl.subplot(212)\n",
    "for isWerk14 in True,False:\n",
    "    vals = [o for name,o in COSHalos.items() if 'HI' in o.NHs and o.isSF()==isSF and (o.NHs['HI'][5]=='Werk14')==isWerk14]\n",
    "    print(len(vals))\n",
    "    valsRng = [o for o in vals if not o.NHs['HI'][3] and not o.NHs['HI'][4]]\n",
    "    xs = [o.r2rvir_Werk14 for o in valsRng] \n",
    "    ys = [o.NHs['HI'][0] for o in valsRng]\n",
    "    yerrs = np.array([[o.NHs['HI'][0]-o.NHs['HI'][1],o.NHs['HI'][2]-o.NHs['HI'][0]] for o in valsRng]).T\n",
    "    pl.errorbar(xs,ys,yerrs,c='rb'[isWerk14],ls='')\n",
    "    valsUL = [o for o in vals if o.NHs['HI'][3]]\n",
    "    xs = [o.r2rvir_Werk14 for o in valsUL] \n",
    "    ys = [o.NHs['HI'][0] for o in valsUL]\n",
    "    pl.plot(xs,ys,'v',c='rb'[isWerk14])\n",
    "    valsLL = [o for o in vals if o.NHs['HI'][4]]\n",
    "    xs = [o.r2rvir_Werk14 for o in valsLL] \n",
    "    ys = [o.NHs['HI'][0] for o in valsLL]\n",
    "    pl.plot(xs,ys,'^',c='rb'[isWerk14])\n",
    "pl.xlim(0,0.5)\n",
    "pl.xlabel(r'$R_\\perp/R_{\\rm vir}$')\n",
    "pl.ylabel(r'$N_{\\rm HI}$')"
   ]
  },
  {
   "cell_type": "code",
   "execution_count": null,
   "id": "b1b59d59-7b19-4976-a225-9cd20f3b7726",
   "metadata": {},
   "outputs": [],
   "source": [
    "pl.plot("
   ]
  },
  {
   "cell_type": "code",
   "execution_count": 22,
   "id": "2c2e54a9-6dce-4bfd-a762-9cb339df1feb",
   "metadata": {},
   "outputs": [
    {
     "data": {
      "text/plain": [
       "[(17.25, 16.0, 18.5, False, False),\n",
       " (16.58, 16.51, 16.62, False, False),\n",
       " (16.24, None, None, False, True),\n",
       " (16.65, None, None, False, True),\n",
       " (17.91, None, None, True, False),\n",
       " (17.5, 16.5, 18.5, False, False),\n",
       " (18.5, 18.0, 19.0, False, False),\n",
       " (17.1, 17.08, 17.11, False, False),\n",
       " (17.5, 16.5, 18.5, False, False),\n",
       " (16.7, 15.8, 17.6, False, False),\n",
       " (17.7, None, None, True, False),\n",
       " (16.9, 15.8, 18.0, False, False),\n",
       " (17.01, None, None, False, True),\n",
       " (16.74, 16.69, 16.77, False, False),\n",
       " (17.83, None, None, True, False),\n",
       " (17.14, 17.1, 17.16, False, False),\n",
       " (17.03, 16.88, 17.11, False, False),\n",
       " (18.04, None, None, True, False),\n",
       " (16.63, 16.33, 16.72, False, False),\n",
       " (17.5, 16.5, 18.5, False, False),\n",
       " (17.17, 16.91, 17.3, False, False)]"
      ]
     },
     "execution_count": 22,
     "metadata": {},
     "output_type": "execute_result"
    }
   ],
   "source": [
    "[o.NHs['HI'] for k,o in COSHalos.items() if 'HI' in o.NHs]"
   ]
  },
  {
   "cell_type": "code",
   "execution_count": 13,
   "id": "a6962159-f301-48b5-bf6b-b2fc7d481240",
   "metadata": {},
   "outputs": [
    {
     "data": {
      "text/plain": [
       "[]"
      ]
     },
     "execution_count": 13,
     "metadata": {},
     "output_type": "execute_result"
    },
    {
     "data": {
      "image/png": "[encoded data removed]",
      "text/plain": [
       "<Figure size 640x480 with 1 Axes>"
      ]
     },
     "metadata": {},
     "output_type": "display_data"
    }
   ],
   "source": [
    "pl.plot([o.Mstar.value for name,o in COSHalos.items()],[o.Rvir().value for name,o in COSHalos.items()],'.')\n",
    "pl.plot([o.Mstar.value for name,o in COSHalos.items()],\n",
    "        [275 * (self.Mhalo()/(1e12*un.Msun))**(1/3)*(1+self.z)**-0.9 for name,self in COSHalos.items()],'+')\n",
    "pl.loglog()"
   ]
  },
  {
   "cell_type": "code",
   "execution_count": 17,
   "id": "c23f298f-9629-464c-9fd1-565933dbc59c",
   "metadata": {},
   "outputs": [
    {
     "data": {
      "text/plain": [
       "<matplotlib.lines.Line2D at 0x16dc94fa0>"
      ]
     },
     "execution_count": 17,
     "metadata": {},
     "output_type": "execute_result"
    },
    {
     "data": {
      "image/png": "[encoded data removed]",
      "text/plain": [
       "<Figure size 640x480 with 1 Axes>"
      ]
     },
     "metadata": {},
     "output_type": "display_data"
    }
   ],
   "source": [
    "vals = [o for name,o in COSHalos.items() if 'HI' in o.NHs and o.isSF()==isSF and (o.NHs['HI'][5]=='Werk14')==isWerk14]\n",
    "pl.plot([o.r2rvir_Werk14 for o in vals],[o.Rperp/o.Rvir()/o.r2rvir_Werk14 for o in vals],'.')\n",
    "pl.ylim(0.75,1.25)\n",
    "pl.axhline(1,c='.5')"
   ]
  },
  {
   "cell_type": "code",
   "execution_count": 15,
   "id": "48847e73-96a6-4d09-aa06-1dbbb4990d72",
   "metadata": {},
   "outputs": [
    {
     "data": {
      "text/plain": [
       "(0.0, 1.0)"
      ]
     },
     "execution_count": 15,
     "metadata": {},
     "output_type": "execute_result"
    },
    {
     "data": {
      "image/png": "[encoded data removed]",
      "text/plain": [
       "<Figure size 640x480 with 1 Axes>"
      ]
     },
     "metadata": {},
     "output_type": "display_data"
    }
   ],
   "source": [
    "ions = ('Mg II  2796','Mg II  2803')\n",
    "for isSF in True,:\n",
    "    vals = [o for name,o in COSHalos.items() if (False not in [ion in o.Ws for ion in ions]) and o.isSF()==isSF]\n",
    "    xs = [o.Ws[ions[0]][0].value/1000 for o in vals] \n",
    "    ys = [o.Ws[ions[1]][0].value/1000/o.W_MgII().value for o in vals] \n",
    "    pl.plot(xs,ys,'.',c='rb'[isSF])\n",
    "    for ULs in range(2):\n",
    "        valsUL = [o for o in vals if o.Ws[ions[ULs]][2]]\n",
    "        xs = [o.Ws[ions[0]][0].value/1000 for o in valsUL] \n",
    "        ys = [o.Ws[ions[1]][0].value/1000/o.W_MgII().value for o in valsUL] \n",
    "        pl.plot(xs,ys,'<v'[ULs],c='rb'[isSF])\n",
    "pl.semilogx()\n",
    "pl.axhline(0.5,c='k',lw=0.5)\n",
    "pl.ylabel(r'$W_{\\lambda2803}/(W_{\\lambda2803}+W_{\\lambda 2796}$')\n",
    "pl.xlabel(r'$W_{\\lambda2796}$')\n",
    "pl.ylim(0,1.)"
   ]
  },
  {
   "cell_type": "code",
   "execution_count": 16,
   "id": "87b9824e-b7a5-4e50-9384-fc124c8615be",
   "metadata": {},
   "outputs": [
    {
     "data": {
      "text/plain": [
       "['J0226+0015_268_22 0.23 10.8 78 0.202',\n",
       " 'J0401-0540_67_24 0.22 10.1 83 0.401',\n",
       " 'J0803+4332_306_20 0.25 11.3 77 0.096',\n",
       " 'J0910+1014_242_34 0.26 11.4 135 0.140',\n",
       " 'J0910+1014_34_46 0.14 10.6 112 0.369',\n",
       " 'J0914+2823_41_27 0.24 9.8 101 0.572',\n",
       " 'J0925+4004_196_22 0.25 11.3 83 0.105',\n",
       " 'J0928+6025_110_35 0.15 10.8 91 0.240',\n",
       " 'J0935+0204_15_28 0.26 11.0 110 0.213',\n",
       " 'J0943+0531_106_34 0.23 10.8 121 0.319',\n",
       " 'J0943+0531_216_61 0.14 10.9 149 0.304',\n",
       " 'J0943+0531_227_19 0.35 9.6 92 0.602',\n",
       " 'J0950+4831_177_27 0.21 11.2 91 0.130',\n",
       " 'J1009+0713_170_9 0.36 10.2 44 0.223',\n",
       " 'J1009+0713_204_17 0.23 9.8 60 0.331',\n",
       " 'J1016+4706_274_6 0.25 10.2 23 0.110',\n",
       " 'J1016+4706_359_16 0.17 10.5 44 0.168',\n",
       " 'J1112+3539_236_14 0.25 10.3 53 0.239',\n",
       " 'J1133+0327_110_5 0.24 11.2 18 0.025',\n",
       " 'J1133+0327_164_21 0.15 10.1 55 0.263',\n",
       " 'J1157-0022_230_7 0.16 10.8 19 0.046',\n",
       " 'J1220+3853_225_38 0.27 10.8 154 0.439',\n",
       " 'J1233+4758_94_38 0.22 10.8 132 0.364',\n",
       " 'J1233-0031_168_7 0.32 10.5 32 0.129',\n",
       " 'J1241+5721_199_6 0.21 10.2 20 0.095',\n",
       " 'J1241+5721_208_27 0.22 10.0 93 0.470',\n",
       " 'J1245+3356_236_36 0.19 9.8 112 0.608',\n",
       " 'J1322+4645_349_11 0.21 10.8 37 0.099',\n",
       " 'J1330+2813_289_28 0.19 10.3 87 0.375',\n",
       " 'J1342-0053_157_10 0.23 10.9 35 0.074',\n",
       " 'J1342-0053_77_10 0.20 10.5 32 0.123',\n",
       " 'J1419+4207_132_30 0.18 10.6 88 0.296',\n",
       " 'J1435+3604_126_21 0.26 10.4 83 0.364',\n",
       " 'J1435+3604_68_12 0.20 11.1 39 0.065',\n",
       " 'J1437+5045_317_38 0.25 10.1 143 0.704',\n",
       " 'J1445+3428_232_33 0.22 10.4 113 0.471',\n",
       " 'J1514+3619_287_14 0.21 9.7 47 0.274',\n",
       " 'J1550+4001_197_23 0.31 11.3 102 0.124',\n",
       " 'J1550+4001_97_33 0.32 10.9 150 0.342',\n",
       " 'J1555+3628_88_11 0.19 10.5 34 0.126']"
      ]
     },
     "execution_count": 16,
     "metadata": {},
     "output_type": "execute_result"
    }
   ],
   "source": [
    "sorted(['%s %.2f %.1f %d %.3f'%(k,v.z,log(v.Mstar.value),v.Rperp.value,v.Rperp/v.Rvir()) for k,v in COSHalos.items()])[:40]"
   ]
  },
  {
   "cell_type": "code",
   "execution_count": 17,
   "id": "cd06b0c2-db81-4874-903d-e397adf08f57",
   "metadata": {},
   "outputs": [
    {
     "data": {
      "text/plain": [
       "101.14287921960845"
      ]
     },
     "execution_count": 17,
     "metadata": {},
     "output_type": "execute_result"
    }
   ],
   "source": [
    "Om=0.3\n",
    "x=Om-1\n",
    "18*np.pi**2+82*x-39*x**2"
   ]
  },
  {
   "cell_type": "code",
   "execution_count": null,
   "id": "f9b37981-65d7-41d8-a7b3-40989c73b38f",
   "metadata": {},
   "outputs": [],
   "source": []
  }
 ],
 "metadata": {
  "kernelspec": {
   "display_name": "Python 3 (ipykernel)",
   "language": "python",
   "name": "python3"
  },
  "language_info": {
   "codemirror_mode": {
    "name": "ipython",
    "version": 3
   },
   "file_extension": ".py",
   "mimetype": "text/x-python",
   "name": "python",
   "nbconvert_exporter": "python",
   "pygments_lexer": "ipython3",
   "version": "3.12.5"
  }
 },
 "nbformat": 4,
 "nbformat_minor": 5
}
